{
 "cells": [
  {
   "cell_type": "code",
   "execution_count": null,
   "metadata": {},
   "outputs": [],
   "source": [
    "python = \"^3.10\"\n",
    "fastapi = \"^0.92.0\"\n",
    "sqlmodel = \"^0.0.8\"\n",
    "uvicorn = \"^0.20.0\"\n",
    "kafka-python = \"^2.0.2\"\n",
    "dill = \"^0.3.6\"\n",
    "psycopg = {extras = [\"binary\"], version = \"^3.1.4\"}\n",
    "psycopg2 = \"^2.9.5\"\n",
    "celery = {extras = [\"redis\"], version = \"^5.2.7\"}\n",
    "river = \"^0.15.0\"\n",
    "websockets = \"^10.4\""
   ]
  },
  {
   "cell_type": "code",
   "execution_count": 3,
   "metadata": {},
   "outputs": [
    {
     "name": "stdout",
     "output_type": "stream",
     "text": [
      "Collecting sqlmodel\n",
      "  Using cached sqlmodel-0.0.8-py3-none-any.whl (21 kB)\n",
      "Collecting dill\n",
      "  Using cached dill-0.3.6-py3-none-any.whl (110 kB)\n",
      "Collecting river\n",
      "  Using cached river-0.15.0-cp310-cp310-macosx_11_0_arm64.whl (1.6 MB)\n",
      "Collecting fastapi\n",
      "  Using cached fastapi-0.95.0-py3-none-any.whl (57 kB)\n",
      "Collecting SQLAlchemy<=1.4.41,>=1.4.17\n",
      "  Using cached SQLAlchemy-1.4.41.tar.gz (8.3 MB)\n",
      "  Preparing metadata (setup.py) ... \u001b[?25ldone\n",
      "\u001b[?25hCollecting sqlalchemy2-stubs\n",
      "  Using cached sqlalchemy2_stubs-0.0.2a32-py3-none-any.whl (191 kB)\n",
      "Collecting pydantic<2.0.0,>=1.8.2\n",
      "  Using cached pydantic-1.10.6-cp310-cp310-macosx_11_0_arm64.whl (2.5 MB)\n",
      "Collecting pandas>=1.3\n",
      "  Using cached pandas-1.5.3-cp310-cp310-macosx_11_0_arm64.whl (10.9 MB)\n",
      "Collecting scipy>=1.5\n",
      "  Downloading scipy-1.10.1-cp310-cp310-macosx_12_0_arm64.whl (28.8 MB)\n",
      "\u001b[2K     \u001b[90m━━━━━━━━━━━━━━━━━━━━━━━━━━━━━━━━━━━━━━━\u001b[0m \u001b[32m28.8/28.8 MB\u001b[0m \u001b[31m627.7 kB/s\u001b[0m eta \u001b[36m0:00:00\u001b[0m00:01\u001b[0m00:02\u001b[0m\n",
      "\u001b[?25h\u001b[31mERROR: Could not install packages due to an OSError: Could not find a suitable TLS CA certificate bundle, invalid path: /Users/max/projects/online-ml/orac/.venv/lib/python3.10/site-packages/pip/_vendor/certifi/cacert.pem\n",
      "\u001b[0m\u001b[31m\n",
      "\u001b[0mNote: you may need to restart the kernel to use updated packages.\n"
     ]
    }
   ],
   "source": [
    "pip install sqlmodel dill river fastapi"
   ]
  },
  {
   "cell_type": "code",
   "execution_count": 1,
   "metadata": {},
   "outputs": [
    {
     "ename": "ModuleNotFoundError",
     "evalue": "No module named 'sqlmodel'",
     "output_type": "error",
     "traceback": [
      "\u001b[0;31m---------------------------------------------------------------------------\u001b[0m",
      "\u001b[0;31mModuleNotFoundError\u001b[0m                       Traceback (most recent call last)",
      "Cell \u001b[0;32mIn[1], line 1\u001b[0m\n\u001b[0;32m----> 1\u001b[0m \u001b[39mfrom\u001b[39;00m \u001b[39mcore\u001b[39;00m\u001b[39m.\u001b[39;00m\u001b[39mmain\u001b[39;00m \u001b[39mimport\u001b[39;00m app\n",
      "File \u001b[0;32m~/projects/online-ml/orac/core/core/main.py:4\u001b[0m\n\u001b[1;32m      1\u001b[0m \u001b[39mimport\u001b[39;00m \u001b[39mcontextlib\u001b[39;00m\n\u001b[1;32m      2\u001b[0m \u001b[39mimport\u001b[39;00m \u001b[39mos\u001b[39;00m\n\u001b[0;32m----> 4\u001b[0m \u001b[39mimport\u001b[39;00m \u001b[39msqlmodel\u001b[39;00m \u001b[39mas\u001b[39;00m \u001b[39msqlm\u001b[39;00m\n\u001b[1;32m      5\u001b[0m \u001b[39mimport\u001b[39;00m \u001b[39mfastapi\u001b[39;00m\n\u001b[1;32m      6\u001b[0m \u001b[39mfrom\u001b[39;00m \u001b[39mstarlette\u001b[39;00m\u001b[39m.\u001b[39;00m\u001b[39mmiddleware\u001b[39;00m\u001b[39m.\u001b[39;00m\u001b[39mcors\u001b[39;00m \u001b[39mimport\u001b[39;00m CORSMiddleware\n",
      "\u001b[0;31mModuleNotFoundError\u001b[0m: No module named 'sqlmodel'"
     ]
    }
   ],
   "source": [
    "from core.main import app\n"
   ]
  }
 ],
 "metadata": {
  "kernelspec": {
   "display_name": ".venv",
   "language": "python",
   "name": "python3"
  },
  "language_info": {
   "codemirror_mode": {
    "name": "ipython",
    "version": 3
   },
   "file_extension": ".py",
   "mimetype": "text/x-python",
   "name": "python",
   "nbconvert_exporter": "python",
   "pygments_lexer": "ipython3",
   "version": "3.10.10"
  },
  "orig_nbformat": 4
 },
 "nbformat": 4,
 "nbformat_minor": 2
}
