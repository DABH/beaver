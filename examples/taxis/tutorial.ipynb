{
 "cells": [
  {
   "cell_type": "markdown",
   "metadata": {},
   "source": [
    "# Taxi drips example"
   ]
  },
  {
   "cell_type": "markdown",
   "metadata": {},
   "source": [
    "## Peaking at the data"
   ]
  },
  {
   "cell_type": "markdown",
   "metadata": {},
   "source": [
    "Running `simulate.py` will insert data into two topics. The first topic contains all the taxi departures. The topic is located in the default Redpanda broker provided by Beaver. Beaver also provides a default Materialize instance to process the data in Redpanda with SQL. We'll do just that to take a look at the taxi departures."
   ]
  },
  {
   "cell_type": "code",
   "execution_count": 47,
   "metadata": {},
   "outputs": [],
   "source": [
    "import psycopg\n",
    "\n",
    "conn = psycopg.connect(\"postgresql://materialize@localhost:6875/materialize?sslmode=disable\")\n",
    "conn.autocommit = True\n",
    "with conn.cursor() as cur:\n",
    "    cur.execute(\"DROP VIEW IF EXISTS taxi_departures\")\n",
    "    cur.execute(\"DROP SOURCE IF EXISTS taxi_departures_src\")\n",
    "\n",
    "    cur.execute(\"\"\"\n",
    "    CREATE MATERIALIZED SOURCE taxi_departures_src\n",
    "    FROM KAFKA BROKER 'redpanda:29092' TOPIC 'taxi-departures'\n",
    "        KEY FORMAT TEXT\n",
    "        VALUE FORMAT BYTES\n",
    "        INCLUDE KEY AS trip_no, TIMESTAMP AS received_at;\n",
    "    \"\"\")\n",
    "\n",
    "    cur.execute(\"\"\"\n",
    "    CREATE VIEW taxi_departures AS (\n",
    "        SELECT\n",
    "            trip_no,\n",
    "            received_at,\n",
    "            CAST(CONVERT_FROM(data, 'utf8') AS JSONB) AS trip\n",
    "        FROM taxi_departures_src\n",
    "    );\n",
    "    \"\"\")"
   ]
  },
  {
   "cell_type": "code",
   "execution_count": 50,
   "metadata": {},
   "outputs": [
    {
     "name": "stderr",
     "output_type": "stream",
     "text": [
      "/var/folders/8q/xqx16rw14bl7rqyybl7zk8sh0000gn/T/ipykernel_61164/1265254364.py:3: UserWarning: pandas only supports SQLAlchemy connectable (engine/connection) or database string URI or sqlite3 DBAPI2 connection. Other DBAPI2 objects are not tested. Please consider using SQLAlchemy.\n",
      "  pd.read_sql('SELECT * FROM taxi_departures ORDER BY received_at DESC LIMIT 10', conn)\n"
     ]
    },
    {
     "data": {
      "text/html": [
       "<div>\n",
       "<style scoped>\n",
       "    .dataframe tbody tr th:only-of-type {\n",
       "        vertical-align: middle;\n",
       "    }\n",
       "\n",
       "    .dataframe tbody tr th {\n",
       "        vertical-align: top;\n",
       "    }\n",
       "\n",
       "    .dataframe thead th {\n",
       "        text-align: right;\n",
       "    }\n",
       "</style>\n",
       "<table border=\"1\" class=\"dataframe\">\n",
       "  <thead>\n",
       "    <tr style=\"text-align: right;\">\n",
       "      <th></th>\n",
       "      <th>trip_no</th>\n",
       "      <th>received_at</th>\n",
       "      <th>trip</th>\n",
       "    </tr>\n",
       "  </thead>\n",
       "  <tbody>\n",
       "    <tr>\n",
       "      <th>0</th>\n",
       "      <td>0000188</td>\n",
       "      <td>2022-11-22 21:38:38.152</td>\n",
       "      <td>{'dropoff_latitude': 40.761478424072266, 'drop...</td>\n",
       "    </tr>\n",
       "    <tr>\n",
       "      <th>1</th>\n",
       "      <td>0000187</td>\n",
       "      <td>2022-11-22 21:38:28.146</td>\n",
       "      <td>{'dropoff_latitude': 40.72039031982422, 'dropo...</td>\n",
       "    </tr>\n",
       "    <tr>\n",
       "      <th>2</th>\n",
       "      <td>0000186</td>\n",
       "      <td>2022-11-22 21:38:28.144</td>\n",
       "      <td>{'dropoff_latitude': 40.70429992675781, 'dropo...</td>\n",
       "    </tr>\n",
       "    <tr>\n",
       "      <th>3</th>\n",
       "      <td>0000185</td>\n",
       "      <td>2022-11-22 21:38:26.136</td>\n",
       "      <td>{'dropoff_latitude': 40.879737854003906, 'drop...</td>\n",
       "    </tr>\n",
       "    <tr>\n",
       "      <th>4</th>\n",
       "      <td>0000184</td>\n",
       "      <td>2022-11-22 21:38:25.128</td>\n",
       "      <td>{'dropoff_latitude': 40.76662063598633, 'dropo...</td>\n",
       "    </tr>\n",
       "    <tr>\n",
       "      <th>5</th>\n",
       "      <td>0000183</td>\n",
       "      <td>2022-11-22 21:38:20.124</td>\n",
       "      <td>{'dropoff_latitude': 40.74039077758789, 'dropo...</td>\n",
       "    </tr>\n",
       "    <tr>\n",
       "      <th>6</th>\n",
       "      <td>0000182</td>\n",
       "      <td>2022-11-22 21:38:11.109</td>\n",
       "      <td>{'dropoff_latitude': 40.73457336425781, 'dropo...</td>\n",
       "    </tr>\n",
       "    <tr>\n",
       "      <th>7</th>\n",
       "      <td>0000181</td>\n",
       "      <td>2022-11-22 21:38:10.100</td>\n",
       "      <td>{'dropoff_latitude': 40.83300018310547, 'dropo...</td>\n",
       "    </tr>\n",
       "    <tr>\n",
       "      <th>8</th>\n",
       "      <td>0000180</td>\n",
       "      <td>2022-11-22 21:38:09.096</td>\n",
       "      <td>{'dropoff_latitude': 40.752925872802734, 'drop...</td>\n",
       "    </tr>\n",
       "    <tr>\n",
       "      <th>9</th>\n",
       "      <td>0000179</td>\n",
       "      <td>2022-11-22 21:37:47.069</td>\n",
       "      <td>{'dropoff_latitude': 40.74924087524415, 'dropo...</td>\n",
       "    </tr>\n",
       "  </tbody>\n",
       "</table>\n",
       "</div>"
      ]
     },
     "execution_count": 50,
     "metadata": {},
     "output_type": "execute_result"
    }
   ],
   "source": [
    "import pandas as pd\n",
    "\n",
    "pd.read_sql('SELECT * FROM taxi_departures ORDER BY received_at DESC LIMIT 10', conn)"
   ]
  },
  {
   "cell_type": "markdown",
   "metadata": {},
   "source": [
    "Let's do the same for taxi arrivals."
   ]
  },
  {
   "cell_type": "code",
   "execution_count": 56,
   "metadata": {},
   "outputs": [
    {
     "name": "stderr",
     "output_type": "stream",
     "text": [
      "/var/folders/8q/xqx16rw14bl7rqyybl7zk8sh0000gn/T/ipykernel_61164/3064716863.py:23: UserWarning: pandas only supports SQLAlchemy connectable (engine/connection) or database string URI or sqlite3 DBAPI2 connection. Other DBAPI2 objects are not tested. Please consider using SQLAlchemy.\n",
      "  pd.read_sql('SELECT * FROM taxi_arrivals ORDER BY received_at DESC LIMIT 10', conn)\n"
     ]
    },
    {
     "data": {
      "text/html": [
       "<div>\n",
       "<style scoped>\n",
       "    .dataframe tbody tr th:only-of-type {\n",
       "        vertical-align: middle;\n",
       "    }\n",
       "\n",
       "    .dataframe tbody tr th {\n",
       "        vertical-align: top;\n",
       "    }\n",
       "\n",
       "    .dataframe thead th {\n",
       "        text-align: right;\n",
       "    }\n",
       "</style>\n",
       "<table border=\"1\" class=\"dataframe\">\n",
       "  <thead>\n",
       "    <tr style=\"text-align: right;\">\n",
       "      <th></th>\n",
       "      <th>trip_no</th>\n",
       "      <th>received_at</th>\n",
       "      <th>arrival</th>\n",
       "    </tr>\n",
       "  </thead>\n",
       "  <tbody>\n",
       "  </tbody>\n",
       "</table>\n",
       "</div>"
      ]
     },
     "execution_count": 56,
     "metadata": {},
     "output_type": "execute_result"
    }
   ],
   "source": [
    "with conn.cursor() as cur:\n",
    "    cur.execute(\"DROP VIEW IF EXISTS taxi_arrivals\")\n",
    "    cur.execute(\"DROP SOURCE IF EXISTS taxi_arrivals_src\")\n",
    "\n",
    "    cur.execute(\"\"\"\n",
    "    CREATE MATERIALIZED SOURCE taxi_arrivals_src\n",
    "    FROM KAFKA BROKER 'redpanda:29092' TOPIC 'taxi-arrivals'\n",
    "        KEY FORMAT TEXT\n",
    "        VALUE FORMAT BYTES\n",
    "        INCLUDE KEY AS trip_no, TIMESTAMP AS received_at\n",
    "    \"\"\")\n",
    "\n",
    "    cur.execute(\"\"\"\n",
    "    CREATE VIEW taxi_arrivals AS (\n",
    "        SELECT\n",
    "            trip_no,\n",
    "            received_at,\n",
    "            CAST(CONVERT_FROM(data, 'utf8') AS JSONB) AS arrival\n",
    "        FROM taxi_arrivals_src\n",
    "    )\n",
    "    \"\"\")\n",
    "\n",
    "pd.read_sql('SELECT * FROM taxi_arrivals ORDER BY received_at DESC LIMIT 10', conn)"
   ]
  },
  {
   "cell_type": "markdown",
   "metadata": {},
   "source": [
    "## Streaming features"
   ]
  },
  {
   "cell_type": "markdown",
   "metadata": {},
   "source": [
    "Beaver encourages you to process your streaming data with SQL. We'll start by building up some features which we'll then feed to a machine learning model. Let's start simple and calculate two features based on the distance between the pick-up and drop-off locations, as well as some basic temporal features."
   ]
  },
  {
   "cell_type": "code",
   "execution_count": 46,
   "metadata": {},
   "outputs": [
    {
     "data": {
      "text/html": [
       "<pre style=\"white-space:pre;overflow-x:auto;line-height:normal;font-family:Menlo,'DejaVu Sans Mono',consolas,'Courier New',monospace\"><span style=\"font-weight: bold\">&lt;</span><span style=\"color: #ff00ff; text-decoration-color: #ff00ff; font-weight: bold\">Response</span><span style=\"color: #000000; text-decoration-color: #000000\"> </span><span style=\"color: #000000; text-decoration-color: #000000; font-weight: bold\">[</span><span style=\"color: #008080; text-decoration-color: #008080; font-weight: bold\">200</span><span style=\"color: #000000; text-decoration-color: #000000; font-weight: bold\">]</span><span style=\"font-weight: bold\">&gt;</span>\n",
       "</pre>\n"
      ],
      "text/plain": [
       "\u001b[1m<\u001b[0m\u001b[1;95mResponse\u001b[0m\u001b[39m \u001b[0m\u001b[1;39m[\u001b[0m\u001b[1;36m200\u001b[0m\u001b[1;39m]\u001b[0m\u001b[1m>\u001b[0m\n"
      ]
     },
     "metadata": {},
     "output_type": "display_data"
    }
   ],
   "source": [
    "feature_set_query = \"\"\"\n",
    "DROP VIEW IF EXISTS taxi_features;\n",
    "\n",
    "CREATE VIEW taxi_features AS (\n",
    "    SELECT \n",
    "        trip_no,\n",
    "        ABS(dropoff_lat - pickup_lat) + ABS(dropoff_lon - pickup_lon) AS manhattan_distance,\n",
    "        SQRT(POWER(dropoff_lat - pickup_lat, 2) + POWER(dropoff_lon - pickup_lon, 2)) AS euclidean_distance,\n",
    "        EXTRACT(HOUR FROM pickup_datetime) AS pickup_hour,\n",
    "        EXTRACT(DOW FROM pickup_datetime) = 1 AS is_monday,\n",
    "        EXTRACT(DOW FROM pickup_datetime) = 2 AS is_tuesday,\n",
    "        EXTRACT(DOW FROM pickup_datetime) = 3 AS is_wednesday,\n",
    "        EXTRACT(DOW FROM pickup_datetime) = 4 AS is_thursday,\n",
    "        EXTRACT(DOW FROM pickup_datetime) = 5 AS is_friday,\n",
    "        EXTRACT(DOW FROM pickup_datetime) = 6 AS is_saturday,\n",
    "        EXTRACT(DOW FROM pickup_datetime) = 7 AS is_sunday\n",
    "    FROM (\n",
    "        SELECT\n",
    "            trip_no,\n",
    "            CAST(trip ->> 'dropoff_latitude' AS FLOAT) AS dropoff_lat,\n",
    "            CAST(trip ->> 'pickup_latitude' AS FLOAT) AS pickup_lat,\n",
    "            CAST(trip ->> 'dropoff_longitude' AS FLOAT) AS dropoff_lon,\n",
    "            CAST(trip ->> 'pickup_longitude' AS FLOAT) AS pickup_lon,\n",
    "            CAST(trip ->> 'pickup_datetime' AS TIMESTAMP) AS pickup_datetime\n",
    "        FROM taxi_departures\n",
    "    )\n",
    ")\n",
    "\"\"\""
   ]
  },
  {
   "cell_type": "markdown",
   "metadata": {},
   "source": [
    "Instead of running this query like we did above, we'll register it in Beaver so it can be associated to a model. Registering a feature set happens through the API."
   ]
  },
  {
   "cell_type": "code",
   "execution_count": null,
   "metadata": {},
   "outputs": [],
   "source": [
    "requests.post(\n",
    "    \"http://localhost:8000/api/features/\",\n",
    "    json={\n",
    "        \"name\": \"taxi_features\",\n",
    "        \"query\": feature_set_query,\n",
    "        \"key_field\": \"trip_no\",\n",
    "        \"processor_id\": 1\n",
    "    },\n",
    ")"
   ]
  },
  {
   "cell_type": "markdown",
   "metadata": {},
   "source": [
    "## Streaming targets"
   ]
  },
  {
   "cell_type": "markdown",
   "metadata": {},
   "source": [
    "The features we built can be used to do inference. But to train a model, we also need a target. Beaver also encourages you to define this target with SQL. For this example we'll predict the duration in seconds of each trip, which is a regression task."
   ]
  },
  {
   "cell_type": "code",
   "execution_count": 47,
   "metadata": {},
   "outputs": [
    {
     "data": {
      "text/html": [
       "<pre style=\"white-space:pre;overflow-x:auto;line-height:normal;font-family:Menlo,'DejaVu Sans Mono',consolas,'Courier New',monospace\"><span style=\"font-weight: bold\">&lt;</span><span style=\"color: #ff00ff; text-decoration-color: #ff00ff; font-weight: bold\">Response</span><span style=\"color: #000000; text-decoration-color: #000000\"> </span><span style=\"color: #000000; text-decoration-color: #000000; font-weight: bold\">[</span><span style=\"color: #008080; text-decoration-color: #008080; font-weight: bold\">200</span><span style=\"color: #000000; text-decoration-color: #000000; font-weight: bold\">]</span><span style=\"font-weight: bold\">&gt;</span>\n",
       "</pre>\n"
      ],
      "text/plain": [
       "\u001b[1m<\u001b[0m\u001b[1;95mResponse\u001b[0m\u001b[39m \u001b[0m\u001b[1;39m[\u001b[0m\u001b[1;36m200\u001b[0m\u001b[1;39m]\u001b[0m\u001b[1m>\u001b[0m\n"
      ]
     },
     "metadata": {},
     "output_type": "display_data"
    }
   ],
   "source": [
    "target_query = \"\"\"\n",
    "DROP VIEW IF EXISTS taxi_targets;\n",
    "\n",
    "CREATE VIEW taxi_targets AS (\n",
    "    SELECT\n",
    "        trip_no,\n",
    "        CAST(arrival ->> 'duration' AS INTEGER) AS duration\n",
    "    FROM taxi_arrivals\n",
    ")\n",
    "\"\"\"\n",
    "\n",
    "requests.post(\n",
    "    \"http://localhost:8000/api/targets/\",\n",
    "    json={\n",
    "        \"name\": \"taxi_targets\",\n",
    "        \"query\": target_query,\n",
    "        \"key_field\": \"taxi_no\",\n",
    "        \"target_field\": \"duration\",\n",
    "        \"task\": \"REGRESSION\",\n",
    "        \"processor_id\": 1\n",
    "    }\n",
    ")"
   ]
  },
  {
   "cell_type": "markdown",
   "metadata": {},
   "source": [
    "## Sending a first model"
   ]
  },
  {
   "cell_type": "markdown",
   "metadata": {},
   "source": [
    "Now let's upload a first model. We'll start with a plain and simple linear regression."
   ]
  },
  {
   "cell_type": "code",
   "execution_count": 40,
   "metadata": {},
   "outputs": [
    {
     "data": {
      "text/html": [
       "<pre style=\"white-space:pre;overflow-x:auto;line-height:normal;font-family:Menlo,'DejaVu Sans Mono',consolas,'Courier New',monospace\"><span style=\"font-weight: bold\">&lt;</span><span style=\"color: #ff00ff; text-decoration-color: #ff00ff; font-weight: bold\">Response</span><span style=\"color: #000000; text-decoration-color: #000000\"> </span><span style=\"color: #000000; text-decoration-color: #000000; font-weight: bold\">[</span><span style=\"color: #008080; text-decoration-color: #008080; font-weight: bold\">200</span><span style=\"color: #000000; text-decoration-color: #000000; font-weight: bold\">]</span><span style=\"font-weight: bold\">&gt;</span>\n",
       "</pre>\n"
      ],
      "text/plain": [
       "\u001b[1m<\u001b[0m\u001b[1;95mResponse\u001b[0m\u001b[39m \u001b[0m\u001b[1;39m[\u001b[0m\u001b[1;36m200\u001b[0m\u001b[1;39m]\u001b[0m\u001b[1m>\u001b[0m\n"
      ]
     },
     "metadata": {},
     "output_type": "display_data"
    }
   ],
   "source": [
    "import base64\n",
    "import dill\n",
    "import requests\n",
    "from river import linear_model, preprocessing\n",
    "\n",
    "model = preprocessing.StandardScaler() | linear_model.LinearRegression()\n",
    "model.learn = model.learn_one\n",
    "model.predict = model.predict_one\n",
    "\n",
    "requests.post(\n",
    "    \"http://localhost:8000/api/models/\",\n",
    "    json={\n",
    "        \"name\": \"taxis-linear-regression\",\n",
    "        \"task\": \"REGRESSION\",\n",
    "        \"content\": base64.b64encode(dill.dumps(model)).decode(\"ascii\"),\n",
    "    },\n",
    ")"
   ]
  },
  {
   "cell_type": "markdown",
   "metadata": {},
   "source": [
    "In this example, the models are hosted in Beaver, which is why we encode the model and send it in the payload."
   ]
  },
  {
   "cell_type": "markdown",
   "metadata": {},
   "source": [
    "## Creating an experiment"
   ]
  },
  {
   "cell_type": "markdown",
   "metadata": {},
   "source": [
    "We now have all we need to run a first experiment. An experiment boils down to training a model on a feature set to predict a target. The model has already been uploaded. Beaver will thus take care of training the model in real-time. Beaver will also issue a prediction for each new arriving sample."
   ]
  },
  {
   "cell_type": "code",
   "execution_count": 51,
   "metadata": {},
   "outputs": [
    {
     "data": {
      "text/html": [
       "<pre style=\"white-space:pre;overflow-x:auto;line-height:normal;font-family:Menlo,'DejaVu Sans Mono',consolas,'Courier New',monospace\"><span style=\"font-weight: bold\">&lt;</span><span style=\"color: #ff00ff; text-decoration-color: #ff00ff; font-weight: bold\">Response</span><span style=\"color: #000000; text-decoration-color: #000000\"> </span><span style=\"color: #000000; text-decoration-color: #000000; font-weight: bold\">[</span><span style=\"color: #008080; text-decoration-color: #008080; font-weight: bold\">500</span><span style=\"color: #000000; text-decoration-color: #000000; font-weight: bold\">]</span><span style=\"font-weight: bold\">&gt;</span>\n",
       "</pre>\n"
      ],
      "text/plain": [
       "\u001b[1m<\u001b[0m\u001b[1;95mResponse\u001b[0m\u001b[39m \u001b[0m\u001b[1;39m[\u001b[0m\u001b[1;36m500\u001b[0m\u001b[1;39m]\u001b[0m\u001b[1m>\u001b[0m\n"
      ]
     },
     "metadata": {},
     "output_type": "display_data"
    }
   ],
   "source": [
    "requests.post(\n",
    "    \"http://localhost:8000/api/experiments/\",\n",
    "    json={\n",
    "        \"name\": \"Taxi trips lin reg experiment\",\n",
    "        \"feature_set_id\": 2,\n",
    "        \"target_id\": 2,\n",
    "        \"model_id\": 2,\n",
    "        \"runner_id\": 1,\n",
    "        \"sink_id\": 1\n",
    "    },\n",
    ")"
   ]
  },
  {
   "cell_type": "markdown",
   "metadata": {},
   "source": [
    "## Sending a new model"
   ]
  },
  {
   "cell_type": "markdown",
   "metadata": {},
   "source": [
    "TODO: send a random forest on the same dataset. Show how it compares to the existing model."
   ]
  },
  {
   "cell_type": "markdown",
   "metadata": {},
   "source": [
    "## Defining new features"
   ]
  },
  {
   "cell_type": "markdown",
   "metadata": {},
   "source": [
    "TODO: creating stateful features with Materialize. Create a new experiment with the random forest on these features."
   ]
  }
 ],
 "metadata": {
  "kernelspec": {
   "display_name": "Python 3.11.0 64-bit ('3.11.0')",
   "language": "python",
   "name": "python3"
  },
  "language_info": {
   "codemirror_mode": {
    "name": "ipython",
    "version": 3
   },
   "file_extension": ".py",
   "mimetype": "text/x-python",
   "name": "python",
   "nbconvert_exporter": "python",
   "pygments_lexer": "ipython3",
   "version": "3.11.0"
  },
  "orig_nbformat": 4,
  "vscode": {
   "interpreter": {
    "hash": "55fbbcf542e06cc59ad76a1e0d5dc36ee204d6d2b704491656ee6b3487310122"
   }
  }
 },
 "nbformat": 4,
 "nbformat_minor": 2
}
