{
 "cells": [
  {
   "attachments": {},
   "cell_type": "markdown",
   "metadata": {},
   "source": [
    "# Taxi trip duration forecasting"
   ]
  },
  {
   "attachments": {},
   "cell_type": "markdown",
   "metadata": {},
   "source": [
    "First things first, you need a running Beaver instance. For example, you could download this repository, and run `docker compose up.`\n",
    "\n",
    "Next, we need some data to work with. In this example, we're looking at taxi trips in New-York city. Running `simulate.py` will insert data into two topics. The first topic contains all the taxi departures. The topic is located in the default Redpanda broker provided by Beaver.\n",
    "\n",
    "## Creating a project\n",
    "\n",
    "Now begins this notebook. The first thing to do is connect to the Beaver instance."
   ]
  },
  {
   "cell_type": "code",
   "execution_count": 137,
   "metadata": {},
   "outputs": [],
   "source": [
    "import beaver_sdk\n",
    "\n",
    "sdk = beaver_sdk.Instance(host='http://127.0.0.1:8000')"
   ]
  },
  {
   "attachments": {},
   "cell_type": "markdown",
   "metadata": {},
   "source": [
    "You can connect your own infrastructure to Beaver. In that sense, Beaver is an orchestrator of sorts. Beaver also ships with out-of-the-box infrastructure. In any case, we have to tell Beaver what infrastructure to use."
   ]
  },
  {
   "cell_type": "code",
   "execution_count": 138,
   "metadata": {},
   "outputs": [],
   "source": [
    "mb = sdk.message_bus.create(name='rp-mb', protocol='REDPANDA', url='redpanda:29092')\n",
    "sp = sdk.stream_processor.create(name='mz-sp', protocol='MATERIALIZE', url='postgresql://materialize@materialize:6875/materialize?sslmode=disable')\n",
    "jr = sdk.job_runner.create(name='rq-jr', protocol='RQ', url='redis://redis:6379/0')"
   ]
  },
  {
   "attachments": {},
   "cell_type": "markdown",
   "metadata": {},
   "source": [
    "Now we can create a project. We specify the name of each infrastructure piece."
   ]
  },
  {
   "cell_type": "code",
   "execution_count": 140,
   "metadata": {},
   "outputs": [],
   "source": [
    "project = sdk.project.create(\n",
    "    name='taxi_trips',\n",
    "    task='REGRESSION',\n",
    "    message_bus_name='rp-mb',\n",
    "    stream_processor_name='mz-sp',\n",
    "    job_runner_name='rq-jr',\n",
    ")"
   ]
  },
  {
   "attachments": {},
   "cell_type": "markdown",
   "metadata": {},
   "source": [
    "Note that the infrastructure we defined could be reused in different projects, so you only have to set it up once."
   ]
  },
  {
   "attachments": {},
   "cell_type": "markdown",
   "metadata": {},
   "source": [
    "## Connecting to some raw data"
   ]
  },
  {
   "attachments": {},
   "cell_type": "markdown",
   "metadata": {},
   "source": [
    "We're using Redpanda to store the raw data. We wish to use Materialize to process this data, and turn it into features and targets to feed into a machine learning model.\n",
    "\n",
    "There's a little bit of prior work necessary. Basically, Materialize has to be connected to Redpanda by creating some views. As of now, this isn't something Beaver does automatically."
   ]
  },
  {
   "cell_type": "code",
   "execution_count": 141,
   "metadata": {},
   "outputs": [],
   "source": [
    "# The following is for idempotency\n",
    "project.stream_processor.execute('DROP VIEW IF EXISTS basic_features')\n",
    "project.stream_processor.execute('DROP VIEW IF EXISTS taxi_departures')\n",
    "project.stream_processor.execute('DROP SOURCE IF EXISTS taxi_departures_src')\n",
    "\n",
    "project.stream_processor.execute(\"\"\"\n",
    "CREATE MATERIALIZED SOURCE taxi_departures_src\n",
    "FROM KAFKA BROKER 'redpanda:29092' TOPIC 'taxi-departures'\n",
    "    KEY FORMAT TEXT\n",
    "    VALUE FORMAT BYTES\n",
    "    INCLUDE KEY AS trip_no, TIMESTAMP AS received_at;\n",
    "\"\"\")\n",
    "\n",
    "project.stream_processor.execute(\"\"\"\n",
    "CREATE VIEW taxi_departures AS (\n",
    "    SELECT\n",
    "        trip_no,\n",
    "        received_at,\n",
    "        CAST(CONVERT_FROM(data, 'utf8') AS JSONB) AS trip\n",
    "    FROM taxi_departures_src\n",
    ")\n",
    "\"\"\")"
   ]
  },
  {
   "attachments": {},
   "cell_type": "markdown",
   "metadata": {},
   "source": [
    "Let's do the same for taxi arrivals."
   ]
  },
  {
   "cell_type": "code",
   "execution_count": 142,
   "metadata": {
    "scrolled": true
   },
   "outputs": [],
   "source": [
    "# The following is for idempotency\n",
    "project.stream_processor.execute('DROP VIEW IF EXISTS taxi_trips_target')\n",
    "project.stream_processor.execute('DROP VIEW IF EXISTS taxi_arrivals')\n",
    "project.stream_processor.execute('DROP SOURCE IF EXISTS taxi_arrivals_src')\n",
    "\n",
    "project.stream_processor.execute(\"\"\"\n",
    "CREATE MATERIALIZED SOURCE taxi_arrivals_src\n",
    "FROM KAFKA BROKER 'redpanda:29092' TOPIC 'taxi-arrivals'\n",
    "    KEY FORMAT TEXT\n",
    "    VALUE FORMAT BYTES\n",
    "    INCLUDE KEY AS trip_no, TIMESTAMP AS received_at;\n",
    "\"\"\")\n",
    "\n",
    "project.stream_processor.execute(\"\"\"\n",
    "CREATE VIEW taxi_arrivals AS (\n",
    "    SELECT\n",
    "        trip_no,\n",
    "        received_at,\n",
    "        CAST(CONVERT_FROM(data, 'utf8') AS JSONB) AS arrival\n",
    "    FROM taxi_arrivals_src\n",
    ")\n",
    "\"\"\")"
   ]
  },
  {
   "attachments": {},
   "cell_type": "markdown",
   "metadata": {},
   "source": [
    "## Streaming targets"
   ]
  },
  {
   "attachments": {},
   "cell_type": "markdown",
   "metadata": {},
   "source": [
    "To train a model, we need a target. Beaver also encourages you to define this target with SQL. For this example, we'll predict the duration in seconds of each trip, which is a regression task."
   ]
  },
  {
   "cell_type": "code",
   "execution_count": 143,
   "metadata": {},
   "outputs": [],
   "source": [
    "query = \"\"\"\n",
    "SELECT\n",
    "    trip_no,\n",
    "    received_at,\n",
    "    CAST(arrival ->> 'duration' AS INTEGER) AS duration\n",
    "FROM taxi_arrivals\n",
    "\"\"\"\n",
    "\n",
    "project.target.set(\n",
    "    query=query,\n",
    "    key_field='trip_no',\n",
    "    ts_field='received_at',\n",
    "    value_field='duration'\n",
    ")"
   ]
  },
  {
   "attachments": {},
   "cell_type": "markdown",
   "metadata": {},
   "source": [
    "## Streaming features"
   ]
  },
  {
   "attachments": {},
   "cell_type": "markdown",
   "metadata": {},
   "source": [
    "We also need some features. Let's start simple and calculate two features based on the distance between the pick-up and drop-off locations, as well as some basic temporal features."
   ]
  },
  {
   "cell_type": "code",
   "execution_count": 144,
   "metadata": {},
   "outputs": [],
   "source": [
    "query = \"\"\"\n",
    "SELECT \n",
    "    trip_no,\n",
    "    received_at,\n",
    "    jsonb_build_object(\n",
    "        'manhattan_distance', ABS(dropoff_lat - pickup_lat) + ABS(dropoff_lon - pickup_lon),\n",
    "        'euclidean_distance', SQRT(POWER(dropoff_lat - pickup_lat, 2) + POWER(dropoff_lon - pickup_lon, 2)),\n",
    "        'pickup_hour', EXTRACT(HOUR FROM pickup_datetime),\n",
    "        'is_monday', EXTRACT(DOW FROM pickup_datetime) = 1,\n",
    "        'is_tuesday', EXTRACT(DOW FROM pickup_datetime) = 2,\n",
    "        'is_wednesday', EXTRACT(DOW FROM pickup_datetime) = 3,\n",
    "        'is_thursday', EXTRACT(DOW FROM pickup_datetime) = 4,\n",
    "        'is_friday', EXTRACT(DOW FROM pickup_datetime) = 5,\n",
    "        'is_saturday', EXTRACT(DOW FROM pickup_datetime) = 6,\n",
    "        'is_sunday', EXTRACT(DOW FROM pickup_datetime) = 7\n",
    "    ) AS features\n",
    "FROM (\n",
    "    SELECT\n",
    "        trip_no,\n",
    "        received_at,\n",
    "        CAST(trip ->> 'dropoff_latitude' AS FLOAT) AS dropoff_lat,\n",
    "        CAST(trip ->> 'pickup_latitude' AS FLOAT) AS pickup_lat,\n",
    "        CAST(trip ->> 'dropoff_longitude' AS FLOAT) AS dropoff_lon,\n",
    "        CAST(trip ->> 'pickup_longitude' AS FLOAT) AS pickup_lon,\n",
    "        CAST(trip ->> 'pickup_datetime' AS TIMESTAMP) AS pickup_datetime\n",
    "    FROM taxi_departures\n",
    ")\n",
    "\"\"\"\n",
    "\n",
    "project.feature_set.create(\n",
    "    name='basic_features',\n",
    "    query=query,\n",
    "    key_field='trip_no',\n",
    "    ts_field='received_at',\n",
    "    value_field='features'\n",
    ")"
   ]
  },
  {
   "attachments": {},
   "cell_type": "markdown",
   "metadata": {},
   "source": [
    "---"
   ]
  },
  {
   "attachments": {},
   "cell_type": "markdown",
   "metadata": {},
   "source": [
    "---"
   ]
  },
  {
   "attachments": {},
   "cell_type": "markdown",
   "metadata": {},
   "source": [
    "Predictions view"
   ]
  },
  {
   "cell_type": "code",
   "execution_count": 147,
   "metadata": {},
   "outputs": [],
   "source": [
    "import psycopg2\n",
    "import sys\n",
    "\n",
    "dsn = \"user=materialize password=materialize host=localhost port=6875 dbname=materialize sslmode=disable\"\n",
    "conn = psycopg2.connect(dsn)\n",
    "conn.autocommit = True\n",
    "\n",
    "# The following is for idempotency\n",
    "project.stream_processor.execute('DROP VIEW IF EXISTS taxi_trips_target')\n",
    "project.stream_processor.execute('DROP VIEW IF EXISTS taxi_arrivals')\n",
    "project.stream_processor.execute('DROP SOURCE IF EXISTS predictions_src')\n",
    "\n",
    "project.stream_processor.execute(\"\"\"\n",
    "CREATE MATERIALIZED SOURCE predictions_src\n",
    "FROM KAFKA BROKER 'redpanda:29092' TOPIC 'taxi_trips_predictions'\n",
    "    KEY FORMAT TEXT\n",
    "    VALUE FORMAT BYTES\n",
    "    INCLUDE KEY AS trip_no, TIMESTAMP AS received_at;\n",
    "\"\"\")\n",
    "\n",
    "# project.stream_processor.execute(\"\"\"\n",
    "# CREATE VIEW predictions AS (\n",
    "#     SELECT *\n",
    "#     FROM predictions_src\n",
    "# )\n",
    "# \"\"\")\n",
    "\n",
    "with conn.cursor() as cur:\n",
    "    cur.execute(f\"\"\"\n",
    "    SELECT *\n",
    "    FROM taxi_trips_predictions\n",
    "    \"\"\")\n",
    "    columns = [desc[0] for desc in cur.description]\n",
    "    for row in cur:\n",
    "        print(dict(zip(columns, row)))\n",
    "        break"
   ]
  },
  {
   "attachments": {},
   "cell_type": "markdown",
   "metadata": {},
   "source": [
    "## Create a first experiment"
   ]
  },
  {
   "attachments": {},
   "cell_type": "markdown",
   "metadata": {},
   "source": [
    "An experiment is essentially a model and a feature set. We'll start with a plain and simple linear regression, applied to the basic features defined previously."
   ]
  },
  {
   "cell_type": "code",
   "execution_count": 120,
   "metadata": {},
   "outputs": [
    {
     "ename": "KeyboardInterrupt",
     "evalue": "",
     "output_type": "error",
     "traceback": [
      "\u001b[0;31m---------------------------------------------------------------------------\u001b[0m",
      "\u001b[0;31mKeyboardInterrupt\u001b[0m                         Traceback (most recent call last)",
      "Cell \u001b[0;32mIn[120], line 6\u001b[0m\n\u001b[1;32m      2\u001b[0m \u001b[39mfrom\u001b[39;00m \u001b[39mriver\u001b[39;00m \u001b[39mimport\u001b[39;00m linear_model, preprocessing\n\u001b[1;32m      4\u001b[0m model \u001b[39m=\u001b[39m preprocessing\u001b[39m.\u001b[39mStandardScaler() \u001b[39m|\u001b[39m linear_model\u001b[39m.\u001b[39mLinearRegression()\n\u001b[0;32m----> 6\u001b[0m project\u001b[39m.\u001b[39;49mexperiment\u001b[39m.\u001b[39;49mcreate(\n\u001b[1;32m      7\u001b[0m     name\u001b[39m=\u001b[39;49m\u001b[39m'\u001b[39;49m\u001b[39m'\u001b[39;49m\u001b[39m.\u001b[39;49mjoin(c \u001b[39mfor\u001b[39;49;00m c \u001b[39min\u001b[39;49;00m \u001b[39mstr\u001b[39;49m(uuid\u001b[39m.\u001b[39;49muuid4()) \u001b[39mif\u001b[39;49;00m c\u001b[39m.\u001b[39;49misalpha()), \u001b[39m#'linear_regression',\u001b[39;49;00m\n\u001b[1;32m      8\u001b[0m     feature_set_name\u001b[39m=\u001b[39;49m\u001b[39m'\u001b[39;49m\u001b[39mbasic_features\u001b[39;49m\u001b[39m'\u001b[39;49m,\n\u001b[1;32m      9\u001b[0m     model\u001b[39m=\u001b[39;49mmodel\n\u001b[1;32m     10\u001b[0m )\n",
      "File \u001b[0;32m~/projects/online-ml/beaver/sdk/beaver_sdk/__init__.py:308\u001b[0m, in \u001b[0;36mExperimentFactory.create\u001b[0;34m(self, name, feature_set_name, model, start_from_top)\u001b[0m\n\u001b[1;32m    305\u001b[0m     model\u001b[39m.\u001b[39m_predict \u001b[39m=\u001b[39m model\u001b[39m.\u001b[39mpredict\n\u001b[1;32m    306\u001b[0m     model\u001b[39m.\u001b[39mpredict \u001b[39m=\u001b[39m types\u001b[39m.\u001b[39mMethodType(sklearn_predict, model)\n\u001b[0;32m--> 308\u001b[0m \u001b[39mself\u001b[39;49m\u001b[39m.\u001b[39;49mpost(\n\u001b[1;32m    309\u001b[0m     \u001b[39m\"\u001b[39;49m\u001b[39m/api/experiment/\u001b[39;49m\u001b[39m\"\u001b[39;49m,\n\u001b[1;32m    310\u001b[0m     json\u001b[39m=\u001b[39;49m{\n\u001b[1;32m    311\u001b[0m         \u001b[39m\"\u001b[39;49m\u001b[39mname\u001b[39;49m\u001b[39m\"\u001b[39;49m: name,\n\u001b[1;32m    312\u001b[0m         \u001b[39m\"\u001b[39;49m\u001b[39mproject_name\u001b[39;49m\u001b[39m\"\u001b[39;49m: \u001b[39mself\u001b[39;49m\u001b[39m.\u001b[39;49mproject_name,\n\u001b[1;32m    313\u001b[0m         \u001b[39m\"\u001b[39;49m\u001b[39mfeature_set_name\u001b[39;49m\u001b[39m\"\u001b[39;49m: feature_set_name,\n\u001b[1;32m    314\u001b[0m         \u001b[39m\"\u001b[39;49m\u001b[39mmodel\u001b[39;49m\u001b[39m\"\u001b[39;49m: base64\u001b[39m.\u001b[39;49mb64encode(dill\u001b[39m.\u001b[39;49mdumps(model))\u001b[39m.\u001b[39;49mdecode(\u001b[39m\"\u001b[39;49m\u001b[39mascii\u001b[39;49m\u001b[39m\"\u001b[39;49m),\n\u001b[1;32m    315\u001b[0m         \u001b[39m\"\u001b[39;49m\u001b[39mstart_from_top\u001b[39;49m\u001b[39m\"\u001b[39;49m: start_from_top,\n\u001b[1;32m    316\u001b[0m     },\n\u001b[1;32m    317\u001b[0m )\n\u001b[1;32m    319\u001b[0m \u001b[39mreturn\u001b[39;00m \u001b[39mself\u001b[39m(name)\n",
      "File \u001b[0;32m~/projects/online-ml/beaver/sdk/beaver_sdk/__init__.py:32\u001b[0m, in \u001b[0;36mSDK.post\u001b[0;34m(self, endpoint, **kwargs)\u001b[0m\n\u001b[1;32m     31\u001b[0m \u001b[39mdef\u001b[39;00m \u001b[39mpost\u001b[39m(\u001b[39mself\u001b[39m, endpoint, \u001b[39m*\u001b[39m\u001b[39m*\u001b[39mkwargs):\n\u001b[0;32m---> 32\u001b[0m     \u001b[39mreturn\u001b[39;00m \u001b[39mself\u001b[39;49m\u001b[39m.\u001b[39;49mrequest(\u001b[39m\"\u001b[39;49m\u001b[39mPOST\u001b[39;49m\u001b[39m\"\u001b[39;49m, endpoint, \u001b[39m*\u001b[39;49m\u001b[39m*\u001b[39;49mkwargs)\n",
      "File \u001b[0;32m~/projects/online-ml/beaver/sdk/beaver_sdk/__init__.py:22\u001b[0m, in \u001b[0;36mSDK.request\u001b[0;34m(self, method, endpoint, as_json, session, **kwargs)\u001b[0m\n\u001b[1;32m     21\u001b[0m \u001b[39mdef\u001b[39;00m \u001b[39mrequest\u001b[39m(\u001b[39mself\u001b[39m, method, endpoint, as_json\u001b[39m=\u001b[39m\u001b[39mTrue\u001b[39;00m, session\u001b[39m=\u001b[39m\u001b[39mNone\u001b[39;00m, \u001b[39m*\u001b[39m\u001b[39m*\u001b[39mkwargs):\n\u001b[0;32m---> 22\u001b[0m     r \u001b[39m=\u001b[39m (session \u001b[39mor\u001b[39;49;00m \u001b[39mself\u001b[39;49m\u001b[39m.\u001b[39;49msession())\u001b[39m.\u001b[39;49mrequest(\n\u001b[1;32m     23\u001b[0m         method\u001b[39m=\u001b[39;49mmethod, url\u001b[39m=\u001b[39;49murllib\u001b[39m.\u001b[39;49mparse\u001b[39m.\u001b[39;49murljoin(\u001b[39mself\u001b[39;49m\u001b[39m.\u001b[39;49mhost, endpoint), \u001b[39m*\u001b[39;49m\u001b[39m*\u001b[39;49mkwargs\n\u001b[1;32m     24\u001b[0m     )\n\u001b[1;32m     25\u001b[0m     r\u001b[39m.\u001b[39mraise_for_status()\n\u001b[1;32m     26\u001b[0m     \u001b[39mreturn\u001b[39;00m r\u001b[39m.\u001b[39mjson() \u001b[39mif\u001b[39;00m as_json \u001b[39mand\u001b[39;00m r\u001b[39m.\u001b[39mheaders\u001b[39m.\u001b[39mget(\u001b[39m'\u001b[39m\u001b[39mcontent-type\u001b[39m\u001b[39m'\u001b[39m) \u001b[39m==\u001b[39m \u001b[39m'\u001b[39m\u001b[39mapplication/json\u001b[39m\u001b[39m'\u001b[39m \u001b[39melse\u001b[39;00m r\n",
      "File \u001b[0;32m~/Library/Caches/pypoetry/virtualenvs/beaver-dz18NXld-py3.10/lib/python3.10/site-packages/requests/sessions.py:587\u001b[0m, in \u001b[0;36mSession.request\u001b[0;34m(self, method, url, params, data, headers, cookies, files, auth, timeout, allow_redirects, proxies, hooks, stream, verify, cert, json)\u001b[0m\n\u001b[1;32m    582\u001b[0m send_kwargs \u001b[39m=\u001b[39m {\n\u001b[1;32m    583\u001b[0m     \u001b[39m\"\u001b[39m\u001b[39mtimeout\u001b[39m\u001b[39m\"\u001b[39m: timeout,\n\u001b[1;32m    584\u001b[0m     \u001b[39m\"\u001b[39m\u001b[39mallow_redirects\u001b[39m\u001b[39m\"\u001b[39m: allow_redirects,\n\u001b[1;32m    585\u001b[0m }\n\u001b[1;32m    586\u001b[0m send_kwargs\u001b[39m.\u001b[39mupdate(settings)\n\u001b[0;32m--> 587\u001b[0m resp \u001b[39m=\u001b[39m \u001b[39mself\u001b[39;49m\u001b[39m.\u001b[39;49msend(prep, \u001b[39m*\u001b[39;49m\u001b[39m*\u001b[39;49msend_kwargs)\n\u001b[1;32m    589\u001b[0m \u001b[39mreturn\u001b[39;00m resp\n",
      "File \u001b[0;32m~/Library/Caches/pypoetry/virtualenvs/beaver-dz18NXld-py3.10/lib/python3.10/site-packages/requests/sessions.py:701\u001b[0m, in \u001b[0;36mSession.send\u001b[0;34m(self, request, **kwargs)\u001b[0m\n\u001b[1;32m    698\u001b[0m start \u001b[39m=\u001b[39m preferred_clock()\n\u001b[1;32m    700\u001b[0m \u001b[39m# Send the request\u001b[39;00m\n\u001b[0;32m--> 701\u001b[0m r \u001b[39m=\u001b[39m adapter\u001b[39m.\u001b[39;49msend(request, \u001b[39m*\u001b[39;49m\u001b[39m*\u001b[39;49mkwargs)\n\u001b[1;32m    703\u001b[0m \u001b[39m# Total elapsed time of the request (approximately)\u001b[39;00m\n\u001b[1;32m    704\u001b[0m elapsed \u001b[39m=\u001b[39m preferred_clock() \u001b[39m-\u001b[39m start\n",
      "File \u001b[0;32m~/Library/Caches/pypoetry/virtualenvs/beaver-dz18NXld-py3.10/lib/python3.10/site-packages/requests/adapters.py:489\u001b[0m, in \u001b[0;36mHTTPAdapter.send\u001b[0;34m(self, request, stream, timeout, verify, cert, proxies)\u001b[0m\n\u001b[1;32m    487\u001b[0m \u001b[39mtry\u001b[39;00m:\n\u001b[1;32m    488\u001b[0m     \u001b[39mif\u001b[39;00m \u001b[39mnot\u001b[39;00m chunked:\n\u001b[0;32m--> 489\u001b[0m         resp \u001b[39m=\u001b[39m conn\u001b[39m.\u001b[39;49murlopen(\n\u001b[1;32m    490\u001b[0m             method\u001b[39m=\u001b[39;49mrequest\u001b[39m.\u001b[39;49mmethod,\n\u001b[1;32m    491\u001b[0m             url\u001b[39m=\u001b[39;49murl,\n\u001b[1;32m    492\u001b[0m             body\u001b[39m=\u001b[39;49mrequest\u001b[39m.\u001b[39;49mbody,\n\u001b[1;32m    493\u001b[0m             headers\u001b[39m=\u001b[39;49mrequest\u001b[39m.\u001b[39;49mheaders,\n\u001b[1;32m    494\u001b[0m             redirect\u001b[39m=\u001b[39;49m\u001b[39mFalse\u001b[39;49;00m,\n\u001b[1;32m    495\u001b[0m             assert_same_host\u001b[39m=\u001b[39;49m\u001b[39mFalse\u001b[39;49;00m,\n\u001b[1;32m    496\u001b[0m             preload_content\u001b[39m=\u001b[39;49m\u001b[39mFalse\u001b[39;49;00m,\n\u001b[1;32m    497\u001b[0m             decode_content\u001b[39m=\u001b[39;49m\u001b[39mFalse\u001b[39;49;00m,\n\u001b[1;32m    498\u001b[0m             retries\u001b[39m=\u001b[39;49m\u001b[39mself\u001b[39;49m\u001b[39m.\u001b[39;49mmax_retries,\n\u001b[1;32m    499\u001b[0m             timeout\u001b[39m=\u001b[39;49mtimeout,\n\u001b[1;32m    500\u001b[0m         )\n\u001b[1;32m    502\u001b[0m     \u001b[39m# Send the request.\u001b[39;00m\n\u001b[1;32m    503\u001b[0m     \u001b[39melse\u001b[39;00m:\n\u001b[1;32m    504\u001b[0m         \u001b[39mif\u001b[39;00m \u001b[39mhasattr\u001b[39m(conn, \u001b[39m\"\u001b[39m\u001b[39mproxy_pool\u001b[39m\u001b[39m\"\u001b[39m):\n",
      "File \u001b[0;32m~/Library/Caches/pypoetry/virtualenvs/beaver-dz18NXld-py3.10/lib/python3.10/site-packages/urllib3/connectionpool.py:703\u001b[0m, in \u001b[0;36mHTTPConnectionPool.urlopen\u001b[0;34m(self, method, url, body, headers, retries, redirect, assert_same_host, timeout, pool_timeout, release_conn, chunked, body_pos, **response_kw)\u001b[0m\n\u001b[1;32m    700\u001b[0m     \u001b[39mself\u001b[39m\u001b[39m.\u001b[39m_prepare_proxy(conn)\n\u001b[1;32m    702\u001b[0m \u001b[39m# Make the request on the httplib connection object.\u001b[39;00m\n\u001b[0;32m--> 703\u001b[0m httplib_response \u001b[39m=\u001b[39m \u001b[39mself\u001b[39;49m\u001b[39m.\u001b[39;49m_make_request(\n\u001b[1;32m    704\u001b[0m     conn,\n\u001b[1;32m    705\u001b[0m     method,\n\u001b[1;32m    706\u001b[0m     url,\n\u001b[1;32m    707\u001b[0m     timeout\u001b[39m=\u001b[39;49mtimeout_obj,\n\u001b[1;32m    708\u001b[0m     body\u001b[39m=\u001b[39;49mbody,\n\u001b[1;32m    709\u001b[0m     headers\u001b[39m=\u001b[39;49mheaders,\n\u001b[1;32m    710\u001b[0m     chunked\u001b[39m=\u001b[39;49mchunked,\n\u001b[1;32m    711\u001b[0m )\n\u001b[1;32m    713\u001b[0m \u001b[39m# If we're going to release the connection in ``finally:``, then\u001b[39;00m\n\u001b[1;32m    714\u001b[0m \u001b[39m# the response doesn't need to know about the connection. Otherwise\u001b[39;00m\n\u001b[1;32m    715\u001b[0m \u001b[39m# it will also try to release it and we'll have a double-release\u001b[39;00m\n\u001b[1;32m    716\u001b[0m \u001b[39m# mess.\u001b[39;00m\n\u001b[1;32m    717\u001b[0m response_conn \u001b[39m=\u001b[39m conn \u001b[39mif\u001b[39;00m \u001b[39mnot\u001b[39;00m release_conn \u001b[39melse\u001b[39;00m \u001b[39mNone\u001b[39;00m\n",
      "File \u001b[0;32m~/Library/Caches/pypoetry/virtualenvs/beaver-dz18NXld-py3.10/lib/python3.10/site-packages/urllib3/connectionpool.py:449\u001b[0m, in \u001b[0;36mHTTPConnectionPool._make_request\u001b[0;34m(self, conn, method, url, timeout, chunked, **httplib_request_kw)\u001b[0m\n\u001b[1;32m    444\u001b[0m             httplib_response \u001b[39m=\u001b[39m conn\u001b[39m.\u001b[39mgetresponse()\n\u001b[1;32m    445\u001b[0m         \u001b[39mexcept\u001b[39;00m \u001b[39mBaseException\u001b[39;00m \u001b[39mas\u001b[39;00m e:\n\u001b[1;32m    446\u001b[0m             \u001b[39m# Remove the TypeError from the exception chain in\u001b[39;00m\n\u001b[1;32m    447\u001b[0m             \u001b[39m# Python 3 (including for exceptions like SystemExit).\u001b[39;00m\n\u001b[1;32m    448\u001b[0m             \u001b[39m# Otherwise it looks like a bug in the code.\u001b[39;00m\n\u001b[0;32m--> 449\u001b[0m             six\u001b[39m.\u001b[39;49mraise_from(e, \u001b[39mNone\u001b[39;49;00m)\n\u001b[1;32m    450\u001b[0m \u001b[39mexcept\u001b[39;00m (SocketTimeout, BaseSSLError, SocketError) \u001b[39mas\u001b[39;00m e:\n\u001b[1;32m    451\u001b[0m     \u001b[39mself\u001b[39m\u001b[39m.\u001b[39m_raise_timeout(err\u001b[39m=\u001b[39me, url\u001b[39m=\u001b[39murl, timeout_value\u001b[39m=\u001b[39mread_timeout)\n",
      "File \u001b[0;32m<string>:3\u001b[0m, in \u001b[0;36mraise_from\u001b[0;34m(value, from_value)\u001b[0m\n",
      "File \u001b[0;32m~/Library/Caches/pypoetry/virtualenvs/beaver-dz18NXld-py3.10/lib/python3.10/site-packages/urllib3/connectionpool.py:444\u001b[0m, in \u001b[0;36mHTTPConnectionPool._make_request\u001b[0;34m(self, conn, method, url, timeout, chunked, **httplib_request_kw)\u001b[0m\n\u001b[1;32m    441\u001b[0m \u001b[39mexcept\u001b[39;00m \u001b[39mTypeError\u001b[39;00m:\n\u001b[1;32m    442\u001b[0m     \u001b[39m# Python 3\u001b[39;00m\n\u001b[1;32m    443\u001b[0m     \u001b[39mtry\u001b[39;00m:\n\u001b[0;32m--> 444\u001b[0m         httplib_response \u001b[39m=\u001b[39m conn\u001b[39m.\u001b[39;49mgetresponse()\n\u001b[1;32m    445\u001b[0m     \u001b[39mexcept\u001b[39;00m \u001b[39mBaseException\u001b[39;00m \u001b[39mas\u001b[39;00m e:\n\u001b[1;32m    446\u001b[0m         \u001b[39m# Remove the TypeError from the exception chain in\u001b[39;00m\n\u001b[1;32m    447\u001b[0m         \u001b[39m# Python 3 (including for exceptions like SystemExit).\u001b[39;00m\n\u001b[1;32m    448\u001b[0m         \u001b[39m# Otherwise it looks like a bug in the code.\u001b[39;00m\n\u001b[1;32m    449\u001b[0m         six\u001b[39m.\u001b[39mraise_from(e, \u001b[39mNone\u001b[39;00m)\n",
      "File \u001b[0;32m~/.pyenv/versions/3.10.8/lib/python3.10/http/client.py:1374\u001b[0m, in \u001b[0;36mHTTPConnection.getresponse\u001b[0;34m(self)\u001b[0m\n\u001b[1;32m   1372\u001b[0m \u001b[39mtry\u001b[39;00m:\n\u001b[1;32m   1373\u001b[0m     \u001b[39mtry\u001b[39;00m:\n\u001b[0;32m-> 1374\u001b[0m         response\u001b[39m.\u001b[39;49mbegin()\n\u001b[1;32m   1375\u001b[0m     \u001b[39mexcept\u001b[39;00m \u001b[39mConnectionError\u001b[39;00m:\n\u001b[1;32m   1376\u001b[0m         \u001b[39mself\u001b[39m\u001b[39m.\u001b[39mclose()\n",
      "File \u001b[0;32m~/.pyenv/versions/3.10.8/lib/python3.10/http/client.py:318\u001b[0m, in \u001b[0;36mHTTPResponse.begin\u001b[0;34m(self)\u001b[0m\n\u001b[1;32m    316\u001b[0m \u001b[39m# read until we get a non-100 response\u001b[39;00m\n\u001b[1;32m    317\u001b[0m \u001b[39mwhile\u001b[39;00m \u001b[39mTrue\u001b[39;00m:\n\u001b[0;32m--> 318\u001b[0m     version, status, reason \u001b[39m=\u001b[39m \u001b[39mself\u001b[39;49m\u001b[39m.\u001b[39;49m_read_status()\n\u001b[1;32m    319\u001b[0m     \u001b[39mif\u001b[39;00m status \u001b[39m!=\u001b[39m CONTINUE:\n\u001b[1;32m    320\u001b[0m         \u001b[39mbreak\u001b[39;00m\n",
      "File \u001b[0;32m~/.pyenv/versions/3.10.8/lib/python3.10/http/client.py:279\u001b[0m, in \u001b[0;36mHTTPResponse._read_status\u001b[0;34m(self)\u001b[0m\n\u001b[1;32m    278\u001b[0m \u001b[39mdef\u001b[39;00m \u001b[39m_read_status\u001b[39m(\u001b[39mself\u001b[39m):\n\u001b[0;32m--> 279\u001b[0m     line \u001b[39m=\u001b[39m \u001b[39mstr\u001b[39m(\u001b[39mself\u001b[39;49m\u001b[39m.\u001b[39;49mfp\u001b[39m.\u001b[39;49mreadline(_MAXLINE \u001b[39m+\u001b[39;49m \u001b[39m1\u001b[39;49m), \u001b[39m\"\u001b[39m\u001b[39miso-8859-1\u001b[39m\u001b[39m\"\u001b[39m)\n\u001b[1;32m    280\u001b[0m     \u001b[39mif\u001b[39;00m \u001b[39mlen\u001b[39m(line) \u001b[39m>\u001b[39m _MAXLINE:\n\u001b[1;32m    281\u001b[0m         \u001b[39mraise\u001b[39;00m LineTooLong(\u001b[39m\"\u001b[39m\u001b[39mstatus line\u001b[39m\u001b[39m\"\u001b[39m)\n",
      "File \u001b[0;32m~/.pyenv/versions/3.10.8/lib/python3.10/socket.py:705\u001b[0m, in \u001b[0;36mSocketIO.readinto\u001b[0;34m(self, b)\u001b[0m\n\u001b[1;32m    703\u001b[0m \u001b[39mwhile\u001b[39;00m \u001b[39mTrue\u001b[39;00m:\n\u001b[1;32m    704\u001b[0m     \u001b[39mtry\u001b[39;00m:\n\u001b[0;32m--> 705\u001b[0m         \u001b[39mreturn\u001b[39;00m \u001b[39mself\u001b[39;49m\u001b[39m.\u001b[39;49m_sock\u001b[39m.\u001b[39;49mrecv_into(b)\n\u001b[1;32m    706\u001b[0m     \u001b[39mexcept\u001b[39;00m timeout:\n\u001b[1;32m    707\u001b[0m         \u001b[39mself\u001b[39m\u001b[39m.\u001b[39m_timeout_occurred \u001b[39m=\u001b[39m \u001b[39mTrue\u001b[39;00m\n",
      "\u001b[0;31mKeyboardInterrupt\u001b[0m: "
     ]
    }
   ],
   "source": [
    "from river import linear_model, preprocessing\n",
    "\n",
    "model = preprocessing.StandardScaler() | linear_model.LinearRegression()\n",
    "\n",
    "project.experiment.create(\n",
    "    name='linear_regression',\n",
    "    feature_set_name='basic_features',\n",
    "    model=model\n",
    ")"
   ]
  },
  {
   "cell_type": "code",
   "execution_count": null,
   "metadata": {},
   "outputs": [],
   "source": [
    "project.experiment('linear_regression')"
   ]
  },
  {
   "cell_type": "code",
   "execution_count": null,
   "metadata": {},
   "outputs": [],
   "source": [
    "project.state()"
   ]
  },
  {
   "attachments": {},
   "cell_type": "markdown",
   "metadata": {},
   "source": [
    "In this example, the models are hosted in Beaver, which is why we encode the model and send it in the payload."
   ]
  },
  {
   "attachments": {},
   "cell_type": "markdown",
   "metadata": {},
   "source": [
    "## Delete everything\n",
    "\n",
    "Order matters (because of dependencies)."
   ]
  },
  {
   "cell_type": "code",
   "execution_count": 123,
   "metadata": {},
   "outputs": [
    {
     "data": {
      "text/plain": [
       "<Response [204]>"
      ]
     },
     "execution_count": 123,
     "metadata": {},
     "output_type": "execute_result"
    }
   ],
   "source": [
    "project = sdk.project('taxi_trips')\n",
    "project.experiment('linear_regression').delete()\n",
    "project.feature_set('basic_features').delete()\n",
    "project.target.delete()\n",
    "project.delete()\n",
    "sdk.message_bus('rp-mb').delete()\n",
    "sdk.stream_processor('mz-sp').delete()\n",
    "sdk.job_runner('rq-jr').delete()"
   ]
  }
 ],
 "metadata": {
  "kernelspec": {
   "display_name": "beaver-dz18NXld-py3.10",
   "language": "python",
   "name": "python3"
  },
  "language_info": {
   "codemirror_mode": {
    "name": "ipython",
    "version": 3
   },
   "file_extension": ".py",
   "mimetype": "text/x-python",
   "name": "python",
   "nbconvert_exporter": "python",
   "pygments_lexer": "ipython3",
   "version": "3.10.8"
  }
 },
 "nbformat": 4,
 "nbformat_minor": 2
}
