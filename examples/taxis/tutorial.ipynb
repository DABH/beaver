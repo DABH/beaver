{
 "cells": [
  {
   "attachments": {},
   "cell_type": "markdown",
   "metadata": {},
   "source": [
    "# Taxi trip duration forecasting"
   ]
  },
  {
   "attachments": {},
   "cell_type": "markdown",
   "metadata": {},
   "source": [
    "First things first, you need a running Beaver instance. For example, you could download this repository, and run `docker compose up.`\n",
    "\n",
    "Next, we need some data to work with. In this example, we're looking at taxi trips in New-York city. Running `simulate.py` will insert data into two topics. The first topic contains all the taxi departures. The topic is located in the default Redpanda broker provided by Beaver.\n",
    "\n",
    "## Creating a project\n",
    "\n",
    "Now begins this notebook. The first thing to do is connect to the Beaver instance."
   ]
  },
  {
   "cell_type": "code",
   "execution_count": 510,
   "metadata": {},
   "outputs": [],
   "source": [
    "import beaver_sdk\n",
    "\n",
    "sdk = beaver_sdk.Instance(host='http://127.0.0.1:8000')"
   ]
  },
  {
   "attachments": {},
   "cell_type": "markdown",
   "metadata": {},
   "source": [
    "You can connect your own infrastructure to Beaver. In that sense, Beaver is an orchestrator of sorts. Beaver also ships with out-of-the-box infrastructure. In any case, we have to tell Beaver what infrastructure to use."
   ]
  },
  {
   "cell_type": "code",
   "execution_count": 520,
   "metadata": {},
   "outputs": [],
   "source": [
    "mb = sdk.message_bus.create(name='rp-mb', protocol='REDPANDA', url='redpanda:29092')\n",
    "sp = sdk.stream_processor.create(name='mz-sp', protocol='MATERIALIZE', url='postgres://materialize@materialize:6875/materialize')\n",
    "jr = sdk.job_runner.create(name='rq-jr', protocol='RQ', url='redis://redis:6379/0')"
   ]
  },
  {
   "attachments": {},
   "cell_type": "markdown",
   "metadata": {},
   "source": [
    "Now we can create a project. We specify the name of each infrastructure piece."
   ]
  },
  {
   "cell_type": "code",
   "execution_count": 521,
   "metadata": {},
   "outputs": [],
   "source": [
    "project = sdk.project.create(\n",
    "    name='taxi_trips',\n",
    "    task='REGRESSION',\n",
    "    message_bus_name='rp-mb',\n",
    "    stream_processor_name='mz-sp',\n",
    "    job_runner_name='rq-jr',\n",
    ")"
   ]
  },
  {
   "attachments": {},
   "cell_type": "markdown",
   "metadata": {},
   "source": [
    "Note that the infrastructure we defined could be reused in different projects, so you only have to set it up once."
   ]
  },
  {
   "attachments": {},
   "cell_type": "markdown",
   "metadata": {},
   "source": [
    "## Connecting to some raw data"
   ]
  },
  {
   "attachments": {},
   "cell_type": "markdown",
   "metadata": {},
   "source": [
    "We're using Redpanda to store the raw data. We wish to use Materialize to process this data, and turn it into features and targets to feed into a machine learning model.\n",
    "\n",
    "There's a little bit of prior work necessary. Basically, Materialize has to be connected to Redpanda by creating some views. As of now, this isn't something Beaver does automatically."
   ]
  },
  {
   "cell_type": "code",
   "execution_count": 522,
   "metadata": {},
   "outputs": [],
   "source": [
    "# The following is for idempotency\n",
    "project.stream_processor.execute('DROP VIEW IF EXISTS basic_features')\n",
    "project.stream_processor.execute('DROP VIEW IF EXISTS taxi_departures')\n",
    "project.stream_processor.execute('DROP SOURCE IF EXISTS taxi_departures_src')\n",
    "\n",
    "project.stream_processor.execute(\"\"\"\n",
    "CREATE MATERIALIZED SOURCE taxi_departures_src\n",
    "FROM KAFKA BROKER 'redpanda:29092' TOPIC 'taxi-departures'\n",
    "    KEY FORMAT TEXT\n",
    "    VALUE FORMAT BYTES\n",
    "    INCLUDE KEY AS trip_no, TIMESTAMP AS received_at;\n",
    "\"\"\")\n",
    "\n",
    "project.stream_processor.execute(\"\"\"\n",
    "CREATE VIEW taxi_departures AS (\n",
    "    SELECT\n",
    "        trip_no,\n",
    "        received_at,\n",
    "        CAST(CONVERT_FROM(data, 'utf8') AS JSONB) AS trip\n",
    "    FROM taxi_departures_src\n",
    ")\n",
    "\"\"\")"
   ]
  },
  {
   "attachments": {},
   "cell_type": "markdown",
   "metadata": {},
   "source": [
    "Let's do the same for taxi arrivals."
   ]
  },
  {
   "cell_type": "code",
   "execution_count": 523,
   "metadata": {
    "scrolled": true
   },
   "outputs": [],
   "source": [
    "# The following is for idempotency\n",
    "project.stream_processor.execute('DROP VIEW IF EXISTS taxi_trips_target')\n",
    "project.stream_processor.execute('DROP VIEW IF EXISTS taxi_arrivals')\n",
    "project.stream_processor.execute('DROP SOURCE IF EXISTS taxi_arrivals_src')\n",
    "\n",
    "project.stream_processor.execute(\"\"\"\n",
    "CREATE MATERIALIZED SOURCE taxi_arrivals_src\n",
    "FROM KAFKA BROKER 'redpanda:29092' TOPIC 'taxi-arrivals'\n",
    "    KEY FORMAT TEXT\n",
    "    VALUE FORMAT BYTES\n",
    "    INCLUDE KEY AS trip_no, TIMESTAMP AS received_at;\n",
    "\"\"\")\n",
    "\n",
    "project.stream_processor.execute(\"\"\"\n",
    "CREATE VIEW taxi_arrivals AS (\n",
    "    SELECT\n",
    "        trip_no,\n",
    "        received_at,\n",
    "        CAST(CONVERT_FROM(data, 'utf8') AS JSONB) AS arrival\n",
    "    FROM taxi_arrivals_src\n",
    ")\n",
    "\"\"\")"
   ]
  },
  {
   "attachments": {},
   "cell_type": "markdown",
   "metadata": {},
   "source": [
    "## Streaming targets"
   ]
  },
  {
   "attachments": {},
   "cell_type": "markdown",
   "metadata": {},
   "source": [
    "To train a model, we need a target. Beaver also encourages you to define this target with SQL. For this example, we'll predict the duration in seconds of each trip, which is a regression task."
   ]
  },
  {
   "cell_type": "code",
   "execution_count": 524,
   "metadata": {},
   "outputs": [],
   "source": [
    "query = \"\"\"\n",
    "SELECT\n",
    "    trip_no,\n",
    "    received_at,\n",
    "    CAST(arrival ->> 'duration' AS INTEGER) AS duration\n",
    "FROM taxi_arrivals\n",
    "\"\"\"\n",
    "\n",
    "project.target.set(\n",
    "    query=query,\n",
    "    key_field='trip_no',\n",
    "    ts_field='received_at',\n",
    "    value_field='duration'\n",
    ")"
   ]
  },
  {
   "attachments": {},
   "cell_type": "markdown",
   "metadata": {},
   "source": [
    "## Streaming features"
   ]
  },
  {
   "attachments": {},
   "cell_type": "markdown",
   "metadata": {},
   "source": [
    "We also need some features. Let's start simple and calculate two features based on the distance between the pick-up and drop-off locations, as well as some basic temporal features."
   ]
  },
  {
   "cell_type": "code",
   "execution_count": 525,
   "metadata": {},
   "outputs": [],
   "source": [
    "query = \"\"\"\n",
    "SELECT \n",
    "    trip_no,\n",
    "    received_at,\n",
    "    jsonb_build_object(\n",
    "        'manhattan_distance', ABS(dropoff_lat - pickup_lat) + ABS(dropoff_lon - pickup_lon),\n",
    "        'euclidean_distance', SQRT(POWER(dropoff_lat - pickup_lat, 2) + POWER(dropoff_lon - pickup_lon, 2)),\n",
    "        'pickup_hour', EXTRACT(HOUR FROM pickup_datetime),\n",
    "        'is_monday', EXTRACT(DOW FROM pickup_datetime) = 1,\n",
    "        'is_tuesday', EXTRACT(DOW FROM pickup_datetime) = 2,\n",
    "        'is_wednesday', EXTRACT(DOW FROM pickup_datetime) = 3,\n",
    "        'is_thursday', EXTRACT(DOW FROM pickup_datetime) = 4,\n",
    "        'is_friday', EXTRACT(DOW FROM pickup_datetime) = 5,\n",
    "        'is_saturday', EXTRACT(DOW FROM pickup_datetime) = 6,\n",
    "        'is_sunday', EXTRACT(DOW FROM pickup_datetime) = 7\n",
    "    ) AS features\n",
    "FROM (\n",
    "    SELECT\n",
    "        trip_no,\n",
    "        received_at,\n",
    "        CAST(trip ->> 'dropoff_latitude' AS FLOAT) AS dropoff_lat,\n",
    "        CAST(trip ->> 'pickup_latitude' AS FLOAT) AS pickup_lat,\n",
    "        CAST(trip ->> 'dropoff_longitude' AS FLOAT) AS dropoff_lon,\n",
    "        CAST(trip ->> 'pickup_longitude' AS FLOAT) AS pickup_lon,\n",
    "        CAST(trip ->> 'pickup_datetime' AS TIMESTAMP) AS pickup_datetime\n",
    "    FROM taxi_departures\n",
    ")\n",
    "\"\"\"\n",
    "\n",
    "project.feature_set.create(\n",
    "    name='basic_features',\n",
    "    query=query,\n",
    "    key_field='trip_no',\n",
    "    ts_field='received_at',\n",
    "    value_field='features'\n",
    ")"
   ]
  },
  {
   "attachments": {},
   "cell_type": "markdown",
   "metadata": {},
   "source": [
    "---"
   ]
  },
  {
   "attachments": {},
   "cell_type": "markdown",
   "metadata": {},
   "source": [
    "---"
   ]
  },
  {
   "attachments": {},
   "cell_type": "markdown",
   "metadata": {},
   "source": [
    "Predictions view"
   ]
  },
  {
   "cell_type": "code",
   "execution_count": 559,
   "metadata": {},
   "outputs": [
    {
     "name": "stdout",
     "output_type": "stream",
     "text": [
      "{'key': 'c4846191-89e5-463f-af5a-256d978af9b7', 'ts': datetime.datetime(2023, 5, 14, 22, 12, 25, 110000), 'prediction': {'experiment': 'foo', 'features': '{\"euclidean_distance\": 0.0633929811919045, \"is_friday\": true, \"is_monday\": false, \"is_saturday\": false, \"is_sunday\": false, \"is_thursday\": false, \"is_tuesday\": false, \"is_wednesday\": false, \"manhattan_distance\": 0.0767822265625, \"pickup_hour\": 0}', 'key': '0000328', 'prediction': '0.0', 'project': 'taxi_trips'}}\n",
      "{'key': '3b8c1017-23c7-4107-a79b-07081f201433', 'ts': datetime.datetime(2023, 5, 14, 22, 12, 25, 223000), 'prediction': {'experiment': 'foo', 'features': '{\"euclidean_distance\": 0.0631293742215222, \"is_friday\": true, \"is_monday\": false, \"is_saturday\": false, \"is_sunday\": false, \"is_thursday\": false, \"is_tuesday\": false, \"is_wednesday\": false, \"manhattan_distance\": 0.08868408203125, \"pickup_hour\": 0}', 'key': '0000367', 'prediction': '0.0', 'project': 'taxi_trips'}}\n",
      "{'key': 'c5ff5622-8490-4cf6-9e61-7989c5aea0f6', 'ts': datetime.datetime(2023, 5, 14, 22, 12, 25, 341000), 'prediction': {'experiment': 'foo', 'features': '{\"euclidean_distance\": 0.01619014325525029, \"is_friday\": true, \"is_monday\": false, \"is_saturday\": false, \"is_sunday\": false, \"is_thursday\": false, \"is_tuesday\": false, \"is_wednesday\": false, \"manhattan_distance\": 0.0213623046875, \"pickup_hour\": 0}', 'key': '0000337', 'prediction': '0.0', 'project': 'taxi_trips'}}\n",
      "{'key': 'f322b88e-77df-44dc-9b88-bdaba273eb5e', 'ts': datetime.datetime(2023, 5, 14, 22, 13, 9, 927000), 'prediction': {'experiment': 'faaaa', 'features': '{\"euclidean_distance\": 0.0633929811919045, \"is_friday\": true, \"is_monday\": false, \"is_saturday\": false, \"is_sunday\": false, \"is_thursday\": false, \"is_tuesday\": false, \"is_wednesday\": false, \"manhattan_distance\": 0.0767822265625, \"pickup_hour\": 0}', 'key': '0000328', 'prediction': '0.0', 'project': 'taxi_trips'}}\n",
      "{'key': '305a34a5-7220-4684-a7e9-c5b6996d6965', 'ts': datetime.datetime(2023, 5, 14, 22, 13, 10, 50000), 'prediction': {'experiment': 'faaaa', 'features': '{\"euclidean_distance\": 0.0631293742215222, \"is_friday\": true, \"is_monday\": false, \"is_saturday\": false, \"is_sunday\": false, \"is_thursday\": false, \"is_tuesday\": false, \"is_wednesday\": false, \"manhattan_distance\": 0.08868408203125, \"pickup_hour\": 0}', 'key': '0000367', 'prediction': '0.0', 'project': 'taxi_trips'}}\n",
      "{'key': 'b65a11f9-a188-41b8-b607-d60562dc33e2', 'ts': datetime.datetime(2023, 5, 14, 22, 13, 10, 201000), 'prediction': {'experiment': 'faaaa', 'features': '{\"euclidean_distance\": 0.01619014325525029, \"is_friday\": true, \"is_monday\": false, \"is_saturday\": false, \"is_sunday\": false, \"is_thursday\": false, \"is_tuesday\": false, \"is_wednesday\": false, \"manhattan_distance\": 0.0213623046875, \"pickup_hour\": 0}', 'key': '0000337', 'prediction': '0.0', 'project': 'taxi_trips'}}\n",
      "{'key': '3df73651-9e69-4e4a-ba25-0205caaa9de4', 'ts': datetime.datetime(2023, 5, 14, 22, 12, 27, 181000), 'prediction': {'experiment': 'foo', 'features': '{\"euclidean_distance\": 0.18999649563023988, \"is_friday\": true, \"is_monday\": false, \"is_saturday\": false, \"is_sunday\": false, \"is_thursday\": false, \"is_tuesday\": false, \"is_wednesday\": false, \"manhattan_distance\": 0.2603759765625071, \"pickup_hour\": 0}', 'key': '0000392', 'prediction': '0.0', 'project': 'taxi_trips'}}\n",
      "{'key': '7d7f9444-33fc-43e2-b890-108dea0c9159', 'ts': datetime.datetime(2023, 5, 14, 22, 12, 26, 826000), 'prediction': {'experiment': 'foo', 'features': '{\"euclidean_distance\": 0.0351293714827054, \"is_friday\": true, \"is_monday\": false, \"is_saturday\": false, \"is_sunday\": false, \"is_thursday\": false, \"is_tuesday\": false, \"is_wednesday\": false, \"manhattan_distance\": 0.04026412963865056, \"pickup_hour\": 0}', 'key': '0000384', 'prediction': '0.0', 'project': 'taxi_trips'}}\n",
      "{'key': '99596f3b-9f9d-4abb-b768-9c20bbb755ab', 'ts': datetime.datetime(2023, 5, 14, 22, 12, 26, 480000), 'prediction': {'experiment': 'foo', 'features': '{\"euclidean_distance\": 0.01598148559812322, \"is_friday\": true, \"is_monday\": false, \"is_saturday\": false, \"is_sunday\": false, \"is_thursday\": false, \"is_tuesday\": false, \"is_wednesday\": false, \"manhattan_distance\": 0.0225982666015625, \"pickup_hour\": 0}', 'key': '0000320', 'prediction': '0.0', 'project': 'taxi_trips'}}\n",
      "{'key': 'be36612a-b9cd-4c69-a8f4-cec783353156', 'ts': datetime.datetime(2023, 5, 14, 22, 12, 26, 713000), 'prediction': {'experiment': 'foo', 'features': '{\"euclidean_distance\": 0.0632458418520251, \"is_friday\": true, \"is_monday\": false, \"is_saturday\": false, \"is_sunday\": false, \"is_thursday\": false, \"is_tuesday\": false, \"is_wednesday\": false, \"manhattan_distance\": 0.07192993164064632, \"pickup_hour\": 0}', 'key': '0000332', 'prediction': '0.0', 'project': 'taxi_trips'}}\n",
      "{'key': 'dcbe3f65-3ced-47e7-a7ba-497d9a2ffc4e', 'ts': datetime.datetime(2023, 5, 14, 22, 12, 25, 802000), 'prediction': {'experiment': 'foo', 'features': '{\"euclidean_distance\": 0.037147809503664336, \"is_friday\": true, \"is_monday\": false, \"is_saturday\": false, \"is_sunday\": false, \"is_thursday\": false, \"is_tuesday\": false, \"is_wednesday\": false, \"manhattan_distance\": 0.044708251953125, \"pickup_hour\": 0}', 'key': '0000353', 'prediction': '0.0', 'project': 'taxi_trips'}}\n",
      "{'key': 'e6c7c83d-e290-4c31-8290-ac6b87d715b6', 'ts': datetime.datetime(2023, 5, 14, 22, 12, 26, 253000), 'prediction': {'experiment': 'foo', 'features': '{\"euclidean_distance\": 0.042188569172362196, \"is_friday\": true, \"is_monday\": false, \"is_saturday\": false, \"is_sunday\": false, \"is_thursday\": false, \"is_tuesday\": false, \"is_wednesday\": false, \"manhattan_distance\": 0.054595947265625, \"pickup_hour\": 0}', 'key': '0000368', 'prediction': '0.0', 'project': 'taxi_trips'}}\n",
      "{'key': 'f734da2b-22e4-424a-96c9-c137a5021f26', 'ts': datetime.datetime(2023, 5, 14, 22, 12, 25, 912000), 'prediction': {'experiment': 'foo', 'features': '{\"euclidean_distance\": 0.01255195166903279, \"is_friday\": true, \"is_monday\": false, \"is_saturday\": false, \"is_sunday\": false, \"is_thursday\": false, \"is_tuesday\": false, \"is_wednesday\": false, \"manhattan_distance\": 0.0138702392578125, \"pickup_hour\": 0}', 'key': '0000354', 'prediction': '0.0', 'project': 'taxi_trips'}}\n",
      "{'key': '01d0eb3b-a62b-4527-b3c2-c71a84676abc', 'ts': datetime.datetime(2023, 5, 14, 22, 12, 28, 250000), 'prediction': {'experiment': 'foo', 'features': '{\"euclidean_distance\": 0.02343035877234245, \"is_friday\": true, \"is_monday\": false, \"is_saturday\": false, \"is_sunday\": false, \"is_thursday\": false, \"is_tuesday\": false, \"is_wednesday\": false, \"manhattan_distance\": 0.03297424316409092, \"pickup_hour\": 0}', 'key': '0000397', 'prediction': '0.0', 'project': 'taxi_trips'}}\n",
      "{'key': '3ce17684-93ca-4c52-a434-77f9215abb95', 'ts': datetime.datetime(2023, 5, 14, 22, 12, 28, 141000), 'prediction': {'experiment': 'foo', 'features': '{\"euclidean_distance\": 0.04557702274501315, \"is_friday\": true, \"is_monday\": false, \"is_saturday\": false, \"is_sunday\": false, \"is_thursday\": false, \"is_tuesday\": false, \"is_wednesday\": false, \"manhattan_distance\": 0.06424713134766336, \"pickup_hour\": 0}', 'key': '0000346', 'prediction': '0.0', 'project': 'taxi_trips'}}\n",
      "{'key': '48547686-3852-4880-b89e-16bd177a8249', 'ts': datetime.datetime(2023, 5, 14, 22, 12, 27, 679000), 'prediction': {'experiment': 'foo', 'features': '{\"euclidean_distance\": 0.04774926463876727, \"is_friday\": true, \"is_monday\": false, \"is_saturday\": false, \"is_sunday\": false, \"is_thursday\": false, \"is_tuesday\": false, \"is_wednesday\": false, \"manhattan_distance\": 0.06372833251953125, \"pickup_hour\": 0}', 'key': '0000345', 'prediction': '0.0', 'project': 'taxi_trips'}}\n",
      "{'key': '4d6733f0-f6aa-45e9-a463-1052d334209c', 'ts': datetime.datetime(2023, 5, 14, 22, 12, 26, 951000), 'prediction': {'experiment': 'foo', 'features': '{\"euclidean_distance\": 0.0228547144003942, \"is_friday\": true, \"is_monday\": false, \"is_saturday\": false, \"is_sunday\": false, \"is_thursday\": false, \"is_tuesday\": false, \"is_wednesday\": false, \"manhattan_distance\": 0.024520874023444605, \"pickup_hour\": 0}', 'key': '0000391', 'prediction': '0.0', 'project': 'taxi_trips'}}\n",
      "{'key': '542def76-ac31-47c9-9bbb-fa789d1efd96', 'ts': datetime.datetime(2023, 5, 14, 22, 12, 28, 587000), 'prediction': {'experiment': 'foo', 'features': '{\"euclidean_distance\": 0.03217720547215281, \"is_friday\": true, \"is_monday\": false, \"is_saturday\": false, \"is_sunday\": false, \"is_thursday\": false, \"is_tuesday\": false, \"is_wednesday\": false, \"manhattan_distance\": 0.03972625732423296, \"pickup_hour\": 0}', 'key': '0000350', 'prediction': '0.0', 'project': 'taxi_trips'}}\n",
      "{'key': '5a0094b8-4603-43b7-a99c-7f7f127d623e', 'ts': datetime.datetime(2023, 5, 14, 22, 12, 26, 28000), 'prediction': {'experiment': 'foo', 'features': '{\"euclidean_distance\": 0.0302524744025104, \"is_friday\": true, \"is_monday\": false, \"is_saturday\": false, \"is_sunday\": false, \"is_thursday\": false, \"is_tuesday\": false, \"is_wednesday\": false, \"manhattan_distance\": 0.036590576171882105, \"pickup_hour\": 0}', 'key': '0000359', 'prediction': '0.0', 'project': 'taxi_trips'}}\n",
      "{'key': '724fae82-92b8-4fe3-9bd9-0736bb42d86b', 'ts': datetime.datetime(2023, 5, 14, 22, 12, 25, 685000), 'prediction': {'experiment': 'foo', 'features': '{\"euclidean_distance\": 0.016461443731012885, \"is_friday\": true, \"is_monday\": false, \"is_saturday\": false, \"is_sunday\": false, \"is_thursday\": false, \"is_tuesday\": false, \"is_wednesday\": false, \"manhattan_distance\": 0.0229949951171875, \"pickup_hour\": 0}', 'key': '0000349', 'prediction': '0.0', 'project': 'taxi_trips'}}\n",
      "{'key': '7b555b81-2423-448c-9da1-d37c3ba32315', 'ts': datetime.datetime(2023, 5, 14, 22, 12, 27, 295000), 'prediction': {'experiment': 'foo', 'features': '{\"euclidean_distance\": 0.01771374052633288, \"is_friday\": true, \"is_monday\": false, \"is_saturday\": false, \"is_sunday\": false, \"is_thursday\": false, \"is_tuesday\": false, \"is_wednesday\": false, \"manhattan_distance\": 0.01816558837892046, \"pickup_hour\": 0}', 'key': '0000343', 'prediction': '0.0', 'project': 'taxi_trips'}}\n",
      "{'key': '9be0afa8-b570-48b9-bbd3-ef0d5f58e948', 'ts': datetime.datetime(2023, 5, 14, 22, 12, 25, 451000), 'prediction': {'experiment': 'foo', 'features': '{\"euclidean_distance\": 0.014913489559532669, \"is_friday\": true, \"is_monday\": false, \"is_saturday\": false, \"is_sunday\": false, \"is_thursday\": false, \"is_tuesday\": false, \"is_wednesday\": false, \"manhattan_distance\": 0.0204620361328125, \"pickup_hour\": 0}', 'key': '0000393', 'prediction': '0.0', 'project': 'taxi_trips'}}\n",
      "{'key': 'c9e066e1-cd26-4f62-8ae3-4840ad5cc94e', 'ts': datetime.datetime(2023, 5, 14, 22, 12, 28, 477000), 'prediction': {'experiment': 'foo', 'features': '{\"euclidean_distance\": 0.09439580950987024, \"is_friday\": true, \"is_monday\": false, \"is_saturday\": false, \"is_sunday\": false, \"is_thursday\": false, \"is_tuesday\": false, \"is_wednesday\": false, \"manhattan_distance\": 0.13220596313475141, \"pickup_hour\": 0}', 'key': '0000399', 'prediction': '0.0', 'project': 'taxi_trips'}}\n",
      "{'key': 'd8755c83-394a-4b11-ab1b-2375b3a6ed5a', 'ts': datetime.datetime(2023, 5, 14, 22, 12, 26, 597000), 'prediction': {'experiment': 'foo', 'features': '{\"euclidean_distance\": 0.043889129838623545, \"is_friday\": true, \"is_monday\": false, \"is_saturday\": false, \"is_sunday\": false, \"is_thursday\": false, \"is_tuesday\": false, \"is_wednesday\": false, \"manhattan_distance\": 0.0617179870605753, \"pickup_hour\": 0}', 'key': '0000325', 'prediction': '0.0', 'project': 'taxi_trips'}}\n",
      "{'key': 'd9c39a5c-bbbf-4d15-9a8e-d603d206418e', 'ts': datetime.datetime(2023, 5, 14, 22, 12, 28, 358000), 'prediction': {'experiment': 'foo', 'features': '{\"euclidean_distance\": 0.11729376620208949, \"is_friday\": true, \"is_monday\": false, \"is_saturday\": false, \"is_sunday\": false, \"is_thursday\": false, \"is_tuesday\": false, \"is_wednesday\": false, \"manhattan_distance\": 0.13237380981445312, \"pickup_hour\": 0}', 'key': '0000348', 'prediction': '0.0', 'project': 'taxi_trips'}}\n",
      "{'key': 'e5b17d21-f10f-4b18-b657-5a163e454bfe', 'ts': datetime.datetime(2023, 5, 14, 22, 12, 25, 565000), 'prediction': {'experiment': 'foo', 'features': '{\"euclidean_distance\": 0.00810396230009259, \"is_friday\": true, \"is_monday\": false, \"is_saturday\": false, \"is_sunday\": false, \"is_thursday\": false, \"is_tuesday\": false, \"is_wednesday\": false, \"manhattan_distance\": 0.01142501831053977, \"pickup_hour\": 0}', 'key': '0000398', 'prediction': '0.0', 'project': 'taxi_trips'}}\n",
      "{'key': '06d50260-c522-4835-8391-958bcee944ca', 'ts': datetime.datetime(2023, 5, 14, 22, 13, 12, 117000), 'prediction': {'experiment': 'faaaa', 'features': '{\"euclidean_distance\": 0.18999649563023988, \"is_friday\": true, \"is_monday\": false, \"is_saturday\": false, \"is_sunday\": false, \"is_thursday\": false, \"is_tuesday\": false, \"is_wednesday\": false, \"manhattan_distance\": 0.2603759765625071, \"pickup_hour\": 0}', 'key': '0000392', 'prediction': '0.0', 'project': 'taxi_trips'}}\n",
      "{'key': '0984d25f-52ed-4957-8e09-afe6b0363756', 'ts': datetime.datetime(2023, 5, 14, 22, 12, 27, 63000), 'prediction': {'experiment': 'foo', 'features': '{\"euclidean_distance\": 0.04019679787474872, \"is_friday\": true, \"is_monday\": false, \"is_saturday\": false, \"is_sunday\": false, \"is_thursday\": false, \"is_tuesday\": false, \"is_wednesday\": false, \"manhattan_distance\": 0.054008483886711645, \"pickup_hour\": 0}', 'key': '0000342', 'prediction': '0.0', 'project': 'taxi_trips'}}\n",
      "{'key': '2a13f109-2c66-4ed3-8750-9a9078073c12', 'ts': datetime.datetime(2023, 5, 14, 22, 12, 27, 410000), 'prediction': {'experiment': 'foo', 'features': '{\"euclidean_distance\": 0.019037809956963084, \"is_friday\": true, \"is_monday\": false, \"is_saturday\": false, \"is_sunday\": false, \"is_thursday\": false, \"is_tuesday\": false, \"is_wednesday\": false, \"manhattan_distance\": 0.02639007568357954, \"pickup_hour\": 0}', 'key': '0000344', 'prediction': '0.0', 'project': 'taxi_trips'}}\n",
      "{'key': '2ba2465f-9c8f-4f22-bef3-4798b4d2ed64', 'ts': datetime.datetime(2023, 5, 14, 22, 12, 27, 549000), 'prediction': {'experiment': 'foo', 'features': '{\"euclidean_distance\": 0.050217614270859766, \"is_friday\": true, \"is_monday\": false, \"is_saturday\": false, \"is_sunday\": false, \"is_thursday\": false, \"is_tuesday\": false, \"is_wednesday\": false, \"manhattan_distance\": 0.06902313232420454, \"pickup_hour\": 0}', 'key': '0000394', 'prediction': '0.0', 'project': 'taxi_trips'}}\n",
      "{'key': '33388d13-a6f5-43fe-84ed-a2975701978a', 'ts': datetime.datetime(2023, 5, 14, 22, 13, 10, 779000), 'prediction': {'experiment': 'faaaa', 'features': '{\"euclidean_distance\": 0.01255195166903279, \"is_friday\": true, \"is_monday\": false, \"is_saturday\": false, \"is_sunday\": false, \"is_thursday\": false, \"is_tuesday\": false, \"is_wednesday\": false, \"manhattan_distance\": 0.0138702392578125, \"pickup_hour\": 0}', 'key': '0000354', 'prediction': '0.0', 'project': 'taxi_trips'}}\n",
      "{'key': '3ad1e97d-ebb9-4987-a3ac-dfb8f15f3c8b', 'ts': datetime.datetime(2023, 5, 14, 22, 13, 11, 252000), 'prediction': {'experiment': 'faaaa', 'features': '{\"euclidean_distance\": 0.042188569172362196, \"is_friday\": true, \"is_monday\": false, \"is_saturday\": false, \"is_sunday\": false, \"is_thursday\": false, \"is_tuesday\": false, \"is_wednesday\": false, \"manhattan_distance\": 0.054595947265625, \"pickup_hour\": 0}', 'key': '0000368', 'prediction': '0.0', 'project': 'taxi_trips'}}\n",
      "{'key': '7dace616-9888-4c3f-8e4e-8619e042e059', 'ts': datetime.datetime(2023, 5, 14, 22, 13, 11, 687000), 'prediction': {'experiment': 'faaaa', 'features': '{\"euclidean_distance\": 0.0632458418520251, \"is_friday\": true, \"is_monday\": false, \"is_saturday\": false, \"is_sunday\": false, \"is_thursday\": false, \"is_tuesday\": false, \"is_wednesday\": false, \"manhattan_distance\": 0.07192993164064632, \"pickup_hour\": 0}', 'key': '0000332', 'prediction': '0.0', 'project': 'taxi_trips'}}\n",
      "{'key': '8acb761f-f353-4dcb-b531-534e0671633e', 'ts': datetime.datetime(2023, 5, 14, 22, 13, 11, 471000), 'prediction': {'experiment': 'faaaa', 'features': '{\"euclidean_distance\": 0.01598148559812322, \"is_friday\": true, \"is_monday\": false, \"is_saturday\": false, \"is_sunday\": false, \"is_thursday\": false, \"is_tuesday\": false, \"is_wednesday\": false, \"manhattan_distance\": 0.0225982666015625, \"pickup_hour\": 0}', 'key': '0000320', 'prediction': '0.0', 'project': 'taxi_trips'}}\n",
      "{'key': 'b3465c96-89de-4078-aa34-773ef8662a69', 'ts': datetime.datetime(2023, 5, 14, 22, 13, 10, 670000), 'prediction': {'experiment': 'faaaa', 'features': '{\"euclidean_distance\": 0.037147809503664336, \"is_friday\": true, \"is_monday\": false, \"is_saturday\": false, \"is_sunday\": false, \"is_thursday\": false, \"is_tuesday\": false, \"is_wednesday\": false, \"manhattan_distance\": 0.044708251953125, \"pickup_hour\": 0}', 'key': '0000353', 'prediction': '0.0', 'project': 'taxi_trips'}}\n",
      "{'key': 'c3f29731-dfb0-4dd4-8a8c-bb28e0ae1743', 'ts': datetime.datetime(2023, 5, 14, 22, 12, 26, 144000), 'prediction': {'experiment': 'foo', 'features': '{\"euclidean_distance\": 0.00714885666795958, \"is_friday\": true, \"is_monday\": false, \"is_saturday\": false, \"is_sunday\": false, \"is_thursday\": false, \"is_tuesday\": false, \"is_wednesday\": false, \"manhattan_distance\": 0.007911682128899145, \"pickup_hour\": 0}', 'key': '0000317', 'prediction': '0.0', 'project': 'taxi_trips'}}\n",
      "{'key': 'd5b3e46d-8c62-4c59-8ba9-2401426626f7', 'ts': datetime.datetime(2023, 5, 14, 22, 13, 11, 795000), 'prediction': {'experiment': 'faaaa', 'features': '{\"euclidean_distance\": 0.0351293714827054, \"is_friday\": true, \"is_monday\": false, \"is_saturday\": false, \"is_sunday\": false, \"is_thursday\": false, \"is_tuesday\": false, \"is_wednesday\": false, \"manhattan_distance\": 0.04026412963865056, \"pickup_hour\": 0}', 'key': '0000384', 'prediction': '0.0', 'project': 'taxi_trips'}}\n",
      "{'key': 'e61491e6-03b3-45b4-8897-0717b7f03db6', 'ts': datetime.datetime(2023, 5, 14, 22, 12, 28, 694000), 'prediction': {'experiment': 'foo', 'features': '{\"euclidean_distance\": 0.01401859723987064, \"is_friday\": true, \"is_monday\": false, \"is_saturday\": false, \"is_sunday\": false, \"is_thursday\": false, \"is_tuesday\": false, \"is_wednesday\": false, \"manhattan_distance\": 0.019435882568345164, \"pickup_hour\": 0}', 'key': '0000351', 'prediction': '0.0', 'project': 'taxi_trips'}}\n",
      "{'key': 'f87e6655-4940-4792-86b4-ff28cba20a09', 'ts': datetime.datetime(2023, 5, 14, 22, 12, 27, 916000), 'prediction': {'experiment': 'foo', 'features': '{\"euclidean_distance\": 0.02686254668165176, \"is_friday\": true, \"is_monday\": false, \"is_saturday\": false, \"is_sunday\": false, \"is_thursday\": false, \"is_tuesday\": false, \"is_wednesday\": false, \"manhattan_distance\": 0.033889770507819605, \"pickup_hour\": 0}', 'key': '0000396', 'prediction': '0.0', 'project': 'taxi_trips'}}\n",
      "{'key': '024324de-edea-452d-af9e-ce0f61c6a8c8', 'ts': datetime.datetime(2023, 5, 14, 22, 13, 11, 579000), 'prediction': {'experiment': 'faaaa', 'features': '{\"euclidean_distance\": 0.043889129838623545, \"is_friday\": true, \"is_monday\": false, \"is_saturday\": false, \"is_sunday\": false, \"is_thursday\": false, \"is_tuesday\": false, \"is_wednesday\": false, \"manhattan_distance\": 0.0617179870605753, \"pickup_hour\": 0}', 'key': '0000325', 'prediction': '0.0', 'project': 'taxi_trips'}}\n",
      "{'key': '34e65d5e-dde8-49ae-bfb0-5c0bdba9fd16', 'ts': datetime.datetime(2023, 5, 14, 22, 13, 10, 441000), 'prediction': {'experiment': 'faaaa', 'features': '{\"euclidean_distance\": 0.00810396230009259, \"is_friday\": true, \"is_monday\": false, \"is_saturday\": false, \"is_sunday\": false, \"is_thursday\": false, \"is_tuesday\": false, \"is_wednesday\": false, \"manhattan_distance\": 0.01142501831053977, \"pickup_hour\": 0}', 'key': '0000398', 'prediction': '0.0', 'project': 'taxi_trips'}}\n",
      "{'key': '461c37eb-883c-4ea0-8b5f-980f9f11f016', 'ts': datetime.datetime(2023, 5, 14, 22, 13, 13, 121000), 'prediction': {'experiment': 'faaaa', 'features': '{\"euclidean_distance\": 0.02343035877234245, \"is_friday\": true, \"is_monday\": false, \"is_saturday\": false, \"is_sunday\": false, \"is_thursday\": false, \"is_tuesday\": false, \"is_wednesday\": false, \"manhattan_distance\": 0.03297424316409092, \"pickup_hour\": 0}', 'key': '0000397', 'prediction': '0.0', 'project': 'taxi_trips'}}\n",
      "{'key': '4e61abc1-a55e-4c3c-b096-c13afbc66a19', 'ts': datetime.datetime(2023, 5, 14, 22, 13, 13, 9000), 'prediction': {'experiment': 'faaaa', 'features': '{\"euclidean_distance\": 0.04557702274501315, \"is_friday\": true, \"is_monday\": false, \"is_saturday\": false, \"is_sunday\": false, \"is_thursday\": false, \"is_tuesday\": false, \"is_wednesday\": false, \"manhattan_distance\": 0.06424713134766336, \"pickup_hour\": 0}', 'key': '0000346', 'prediction': '0.0', 'project': 'taxi_trips'}}\n",
      "{'key': '4ec247ee-969c-476d-bbb9-d4b143b17cfb', 'ts': datetime.datetime(2023, 5, 14, 22, 13, 13, 447000), 'prediction': {'experiment': 'faaaa', 'features': '{\"euclidean_distance\": 0.03217720547215281, \"is_friday\": true, \"is_monday\": false, \"is_saturday\": false, \"is_sunday\": false, \"is_thursday\": false, \"is_tuesday\": false, \"is_wednesday\": false, \"manhattan_distance\": 0.03972625732423296, \"pickup_hour\": 0}', 'key': '0000350', 'prediction': '0.0', 'project': 'taxi_trips'}}\n",
      "{'key': '56186bdd-44af-4f27-8303-5f197a5a1f16', 'ts': datetime.datetime(2023, 5, 14, 22, 13, 12, 551000), 'prediction': {'experiment': 'faaaa', 'features': '{\"euclidean_distance\": 0.04774926463876727, \"is_friday\": true, \"is_monday\": false, \"is_saturday\": false, \"is_sunday\": false, \"is_thursday\": false, \"is_tuesday\": false, \"is_wednesday\": false, \"manhattan_distance\": 0.06372833251953125, \"pickup_hour\": 0}', 'key': '0000345', 'prediction': '0.0', 'project': 'taxi_trips'}}\n",
      "{'key': '6fdad9ef-2df1-4178-8be5-c85f6b7ef818', 'ts': datetime.datetime(2023, 5, 14, 22, 13, 13, 229000), 'prediction': {'experiment': 'faaaa', 'features': '{\"euclidean_distance\": 0.11729376620208949, \"is_friday\": true, \"is_monday\": false, \"is_saturday\": false, \"is_sunday\": false, \"is_thursday\": false, \"is_tuesday\": false, \"is_wednesday\": false, \"manhattan_distance\": 0.13237380981445312, \"pickup_hour\": 0}', 'key': '0000348', 'prediction': '0.0', 'project': 'taxi_trips'}}\n",
      "{'key': '758c11dc-70dc-46b9-bea6-1b1586ac34f4', 'ts': datetime.datetime(2023, 5, 14, 22, 12, 27, 795000), 'prediction': {'experiment': 'foo', 'features': '{\"euclidean_distance\": 0.024460670863983482, \"is_friday\": true, \"is_monday\": false, \"is_saturday\": false, \"is_sunday\": false, \"is_thursday\": false, \"is_tuesday\": false, \"is_wednesday\": false, \"manhattan_distance\": 0.034526824951186086, \"pickup_hour\": 0}', 'key': '0000395', 'prediction': '0.0', 'project': 'taxi_trips'}}\n",
      "{'key': '9857eff7-674f-444b-80ed-a707ae41142c', 'ts': datetime.datetime(2023, 5, 14, 22, 13, 10, 554000), 'prediction': {'experiment': 'faaaa', 'features': '{\"euclidean_distance\": 0.016461443731012885, \"is_friday\": true, \"is_monday\": false, \"is_saturday\": false, \"is_sunday\": false, \"is_thursday\": false, \"is_tuesday\": false, \"is_wednesday\": false, \"manhattan_distance\": 0.0229949951171875, \"pickup_hour\": 0}', 'key': '0000349', 'prediction': '0.0', 'project': 'taxi_trips'}}\n",
      "{'key': 'c0f57eeb-fe39-4f47-b588-c546a596c3ad', 'ts': datetime.datetime(2023, 5, 14, 22, 13, 11, 903000), 'prediction': {'experiment': 'faaaa', 'features': '{\"euclidean_distance\": 0.0228547144003942, \"is_friday\": true, \"is_monday\": false, \"is_saturday\": false, \"is_sunday\": false, \"is_thursday\": false, \"is_tuesday\": false, \"is_wednesday\": false, \"manhattan_distance\": 0.024520874023444605, \"pickup_hour\": 0}', 'key': '0000391', 'prediction': '0.0', 'project': 'taxi_trips'}}\n",
      "{'key': 'c0f8a935-677f-4a7f-afda-821edb1c6343', 'ts': datetime.datetime(2023, 5, 14, 22, 13, 12, 225000), 'prediction': {'experiment': 'faaaa', 'features': '{\"euclidean_distance\": 0.01771374052633288, \"is_friday\": true, \"is_monday\": false, \"is_saturday\": false, \"is_sunday\": false, \"is_thursday\": false, \"is_tuesday\": false, \"is_wednesday\": false, \"manhattan_distance\": 0.01816558837892046, \"pickup_hour\": 0}', 'key': '0000343', 'prediction': '0.0', 'project': 'taxi_trips'}}\n",
      "{'key': 'db926a82-2fca-41e9-9b00-4660c5c9e5ae', 'ts': datetime.datetime(2023, 5, 14, 22, 13, 10, 333000), 'prediction': {'experiment': 'faaaa', 'features': '{\"euclidean_distance\": 0.014913489559532669, \"is_friday\": true, \"is_monday\": false, \"is_saturday\": false, \"is_sunday\": false, \"is_thursday\": false, \"is_tuesday\": false, \"is_wednesday\": false, \"manhattan_distance\": 0.0204620361328125, \"pickup_hour\": 0}', 'key': '0000393', 'prediction': '0.0', 'project': 'taxi_trips'}}\n",
      "{'key': 'eacee0a4-56cb-46f8-bfac-7899ac353c38', 'ts': datetime.datetime(2023, 5, 14, 22, 12, 28, 29000), 'prediction': {'experiment': 'foo', 'features': '{\"euclidean_distance\": 0.025543054514109226, \"is_friday\": true, \"is_monday\": false, \"is_saturday\": false, \"is_sunday\": false, \"is_thursday\": false, \"is_tuesday\": false, \"is_wednesday\": false, \"manhattan_distance\": 0.034477233886711645, \"pickup_hour\": 0}', 'key': '0000347', 'prediction': '0.0', 'project': 'taxi_trips'}}\n",
      "{'key': 'f1691ddf-f2fd-4878-9aaa-bc7a0adc8379', 'ts': datetime.datetime(2023, 5, 14, 22, 13, 13, 337000), 'prediction': {'experiment': 'faaaa', 'features': '{\"euclidean_distance\": 0.09439580950987024, \"is_friday\": true, \"is_monday\": false, \"is_saturday\": false, \"is_sunday\": false, \"is_thursday\": false, \"is_tuesday\": false, \"is_wednesday\": false, \"manhattan_distance\": 0.13220596313475141, \"pickup_hour\": 0}', 'key': '0000399', 'prediction': '0.0', 'project': 'taxi_trips'}}\n",
      "{'key': 'f92219c8-c08f-4d27-98aa-513aa4284996', 'ts': datetime.datetime(2023, 5, 14, 22, 13, 10, 892000), 'prediction': {'experiment': 'faaaa', 'features': '{\"euclidean_distance\": 0.0302524744025104, \"is_friday\": true, \"is_monday\": false, \"is_saturday\": false, \"is_sunday\": false, \"is_thursday\": false, \"is_tuesday\": false, \"is_wednesday\": false, \"manhattan_distance\": 0.036590576171882105, \"pickup_hour\": 0}', 'key': '0000359', 'prediction': '0.0', 'project': 'taxi_trips'}}\n",
      "{'key': '00ce70bb-31c3-4e5a-b9e6-7886806eb845', 'ts': datetime.datetime(2023, 5, 14, 22, 13, 11, 29000), 'prediction': {'experiment': 'faaaa', 'features': '{\"euclidean_distance\": 0.005764940339106548, \"is_friday\": true, \"is_monday\": false, \"is_saturday\": false, \"is_sunday\": false, \"is_thursday\": false, \"is_tuesday\": false, \"is_wednesday\": false, \"manhattan_distance\": 0.00711822509765625, \"pickup_hour\": 0}', 'key': '0000405', 'prediction': '0.0', 'project': 'taxi_trips'}}\n",
      "{'key': '08c35266-d671-4018-8077-8eb1b54222ad', 'ts': datetime.datetime(2023, 5, 14, 22, 13, 12, 782000), 'prediction': {'experiment': 'faaaa', 'features': '{\"euclidean_distance\": 0.02686254668165176, \"is_friday\": true, \"is_monday\": false, \"is_saturday\": false, \"is_sunday\": false, \"is_thursday\": false, \"is_tuesday\": false, \"is_wednesday\": false, \"manhattan_distance\": 0.033889770507819605, \"pickup_hour\": 0}', 'key': '0000396', 'prediction': '0.0', 'project': 'taxi_trips'}}\n",
      "{'key': '63f0b858-09dd-407e-baf9-fc7cd506b5da', 'ts': datetime.datetime(2023, 5, 14, 22, 13, 12, 332000), 'prediction': {'experiment': 'faaaa', 'features': '{\"euclidean_distance\": 0.019037809956963084, \"is_friday\": true, \"is_monday\": false, \"is_saturday\": false, \"is_sunday\": false, \"is_thursday\": false, \"is_tuesday\": false, \"is_wednesday\": false, \"manhattan_distance\": 0.02639007568357954, \"pickup_hour\": 0}', 'key': '0000344', 'prediction': '0.0', 'project': 'taxi_trips'}}\n",
      "{'key': '7ca6d1f1-ed33-44ae-b6ff-6210312b8d5b', 'ts': datetime.datetime(2023, 5, 14, 22, 13, 12, 10000), 'prediction': {'experiment': 'faaaa', 'features': '{\"euclidean_distance\": 0.04019679787474872, \"is_friday\": true, \"is_monday\": false, \"is_saturday\": false, \"is_sunday\": false, \"is_thursday\": false, \"is_tuesday\": false, \"is_wednesday\": false, \"manhattan_distance\": 0.054008483886711645, \"pickup_hour\": 0}', 'key': '0000342', 'prediction': '0.0', 'project': 'taxi_trips'}}\n",
      "{'key': '871fb070-9432-4cfb-b0ef-2122e752aaf4', 'ts': datetime.datetime(2023, 5, 14, 22, 13, 11, 137000), 'prediction': {'experiment': 'faaaa', 'features': '{\"euclidean_distance\": 0.00714885666795958, \"is_friday\": true, \"is_monday\": false, \"is_saturday\": false, \"is_sunday\": false, \"is_thursday\": false, \"is_tuesday\": false, \"is_wednesday\": false, \"manhattan_distance\": 0.007911682128899145, \"pickup_hour\": 0}', 'key': '0000317', 'prediction': '0.0', 'project': 'taxi_trips'}}\n",
      "{'key': '8bcd3b70-325a-4f5b-a424-1fe8557934ff', 'ts': datetime.datetime(2023, 5, 14, 22, 12, 26, 368000), 'prediction': {'experiment': 'foo', 'features': '{\"euclidean_distance\": 0.00045425340718396596, \"is_friday\": true, \"is_monday\": false, \"is_saturday\": false, \"is_sunday\": false, \"is_thursday\": false, \"is_tuesday\": false, \"is_wednesday\": false, \"manhattan_distance\": 0.00061798095703125, \"pickup_hour\": 0}', 'key': '0000372', 'prediction': '0.0', 'project': 'taxi_trips'}}\n",
      "{'key': 'efb484dd-ccf6-43af-8489-1c71fd0c1307', 'ts': datetime.datetime(2023, 5, 14, 22, 13, 12, 440000), 'prediction': {'experiment': 'faaaa', 'features': '{\"euclidean_distance\": 0.050217614270859766, \"is_friday\": true, \"is_monday\": false, \"is_saturday\": false, \"is_sunday\": false, \"is_thursday\": false, \"is_tuesday\": false, \"is_wednesday\": false, \"manhattan_distance\": 0.06902313232420454, \"pickup_hour\": 0}', 'key': '0000394', 'prediction': '0.0', 'project': 'taxi_trips'}}\n",
      "{'key': '7ee9ea11-a6df-45ca-99eb-ed37d33b95e3', 'ts': datetime.datetime(2023, 5, 14, 22, 13, 12, 675000), 'prediction': {'experiment': 'faaaa', 'features': '{\"euclidean_distance\": 0.024460670863983482, \"is_friday\": true, \"is_monday\": false, \"is_saturday\": false, \"is_sunday\": false, \"is_thursday\": false, \"is_tuesday\": false, \"is_wednesday\": false, \"manhattan_distance\": 0.034526824951186086, \"pickup_hour\": 0}', 'key': '0000395', 'prediction': '0.0', 'project': 'taxi_trips'}}\n",
      "{'key': '99ad1692-b86d-44b7-9570-38a9bab08bb2', 'ts': datetime.datetime(2023, 5, 14, 22, 13, 12, 891000), 'prediction': {'experiment': 'faaaa', 'features': '{\"euclidean_distance\": 0.025543054514109226, \"is_friday\": true, \"is_monday\": false, \"is_saturday\": false, \"is_sunday\": false, \"is_thursday\": false, \"is_tuesday\": false, \"is_wednesday\": false, \"manhattan_distance\": 0.034477233886711645, \"pickup_hour\": 0}', 'key': '0000347', 'prediction': '0.0', 'project': 'taxi_trips'}}\n",
      "{'key': '499fee67-cf7f-4754-ae55-5967343a9a8f', 'ts': datetime.datetime(2023, 5, 14, 22, 13, 11, 364000), 'prediction': {'experiment': 'faaaa', 'features': '{\"euclidean_distance\": 0.00045425340718396596, \"is_friday\": true, \"is_monday\": false, \"is_saturday\": false, \"is_sunday\": false, \"is_thursday\": false, \"is_tuesday\": false, \"is_wednesday\": false, \"manhattan_distance\": 0.00061798095703125, \"pickup_hour\": 0}', 'key': '0000372', 'prediction': '0.0', 'project': 'taxi_trips'}}\n"
     ]
    }
   ],
   "source": [
    "import psycopg2\n",
    "import sys\n",
    "\n",
    "dsn = \"user=materialize password=materialize host=localhost port=6875 dbname=materialize sslmode=disable\"\n",
    "conn = psycopg2.connect(dsn)\n",
    "conn.autocommit = True\n",
    "\n",
    "target_ts_field = 'received_at'\n",
    "target_key_field = 'trip_no'\n",
    "target_value_field = 'duration'\n",
    "target_view_name = 'taxi_trips_target'\n",
    "predictions_topic_name = 'taxi_trips_predictions'\n",
    "experiment_name = 'linear_regression'\n",
    "\n",
    "\n",
    "query = f\"\"\"\n",
    "SELECT *\n",
    "FROM taxi_trips_predictions\n",
    "\"\"\"\n",
    "\n",
    "with conn.cursor() as cur:\n",
    "    cur.execute(query)\n",
    "    columns = [desc[0] for desc in cur.description]\n",
    "    for row in cur:\n",
    "        print(dict(zip(columns, row)))"
   ]
  },
  {
   "attachments": {},
   "cell_type": "markdown",
   "metadata": {},
   "source": [
    "## Create a first experiment"
   ]
  },
  {
   "attachments": {},
   "cell_type": "markdown",
   "metadata": {},
   "source": [
    "An experiment is essentially a model and a feature set. We'll start with a plain and simple linear regression, applied to the basic features defined previously."
   ]
  },
  {
   "cell_type": "code",
   "execution_count": 543,
   "metadata": {},
   "outputs": [
    {
     "data": {
      "text/plain": [
       "<beaver_sdk.Experiment at 0x287160040>"
      ]
     },
     "execution_count": 543,
     "metadata": {},
     "output_type": "execute_result"
    }
   ],
   "source": [
    "from river import linear_model, preprocessing\n",
    "\n",
    "model = preprocessing.StandardScaler() | linear_model.LinearRegression()\n",
    "\n",
    "project.experiment.create(\n",
    "    name='linear_regression',\n",
    "    feature_set_name='basic_features',\n",
    "    model=model\n",
    ")"
   ]
  },
  {
   "attachments": {},
   "cell_type": "markdown",
   "metadata": {},
   "source": [
    "TODO: it seems predictions aren't produced"
   ]
  },
  {
   "cell_type": "code",
   "execution_count": 558,
   "metadata": {},
   "outputs": [
    {
     "ename": "KeyboardInterrupt",
     "evalue": "",
     "output_type": "error",
     "traceback": [
      "\u001b[0;31m---------------------------------------------------------------------------\u001b[0m",
      "\u001b[0;31mKeyboardInterrupt\u001b[0m                         Traceback (most recent call last)",
      "Cell \u001b[0;32mIn[558], line 1\u001b[0m\n\u001b[0;32m----> 1\u001b[0m project\u001b[39m.\u001b[39;49mstate(with_experiments\u001b[39m=\u001b[39;49m\u001b[39mTrue\u001b[39;49;00m)\n",
      "File \u001b[0;32m~/projects/online-ml/beaver/sdk/beaver_sdk/__init__.py:194\u001b[0m, in \u001b[0;36mProject.state\u001b[0;34m(self, with_experiments)\u001b[0m\n\u001b[1;32m    193\u001b[0m \u001b[39mdef\u001b[39;00m \u001b[39mstate\u001b[39m(\u001b[39mself\u001b[39m, with_experiments: \u001b[39mbool\u001b[39m \u001b[39m=\u001b[39m \u001b[39mFalse\u001b[39;00m):\n\u001b[0;32m--> 194\u001b[0m     \u001b[39mreturn\u001b[39;00m \u001b[39mself\u001b[39;49m\u001b[39m.\u001b[39;49mget(\u001b[39mf\u001b[39;49m\u001b[39m\"\u001b[39;49m\u001b[39m/api/project/\u001b[39;49m\u001b[39m{\u001b[39;49;00m\u001b[39mself\u001b[39;49m\u001b[39m.\u001b[39;49mname\u001b[39m}\u001b[39;49;00m\u001b[39m\"\u001b[39;49m, params\u001b[39m=\u001b[39;49m{\u001b[39m\"\u001b[39;49m\u001b[39mwith_experiments\u001b[39;49m\u001b[39m\"\u001b[39;49m: with_experiments})\n",
      "File \u001b[0;32m~/projects/online-ml/beaver/sdk/beaver_sdk/__init__.py:29\u001b[0m, in \u001b[0;36mSDK.get\u001b[0;34m(self, endpoint, **kwargs)\u001b[0m\n\u001b[1;32m     28\u001b[0m \u001b[39mdef\u001b[39;00m \u001b[39mget\u001b[39m(\u001b[39mself\u001b[39m, endpoint, \u001b[39m*\u001b[39m\u001b[39m*\u001b[39mkwargs):\n\u001b[0;32m---> 29\u001b[0m     \u001b[39mreturn\u001b[39;00m \u001b[39mself\u001b[39;49m\u001b[39m.\u001b[39;49mrequest(\u001b[39m\"\u001b[39;49m\u001b[39mGET\u001b[39;49m\u001b[39m\"\u001b[39;49m, endpoint, \u001b[39m*\u001b[39;49m\u001b[39m*\u001b[39;49mkwargs)\n",
      "File \u001b[0;32m~/projects/online-ml/beaver/sdk/beaver_sdk/__init__.py:22\u001b[0m, in \u001b[0;36mSDK.request\u001b[0;34m(self, method, endpoint, as_json, session, **kwargs)\u001b[0m\n\u001b[1;32m     21\u001b[0m \u001b[39mdef\u001b[39;00m \u001b[39mrequest\u001b[39m(\u001b[39mself\u001b[39m, method, endpoint, as_json\u001b[39m=\u001b[39m\u001b[39mTrue\u001b[39;00m, session\u001b[39m=\u001b[39m\u001b[39mNone\u001b[39;00m, \u001b[39m*\u001b[39m\u001b[39m*\u001b[39mkwargs):\n\u001b[0;32m---> 22\u001b[0m     r \u001b[39m=\u001b[39m (session \u001b[39mor\u001b[39;49;00m \u001b[39mself\u001b[39;49m\u001b[39m.\u001b[39;49msession())\u001b[39m.\u001b[39;49mrequest(\n\u001b[1;32m     23\u001b[0m         method\u001b[39m=\u001b[39;49mmethod, url\u001b[39m=\u001b[39;49murllib\u001b[39m.\u001b[39;49mparse\u001b[39m.\u001b[39;49murljoin(\u001b[39mself\u001b[39;49m\u001b[39m.\u001b[39;49mhost, endpoint), \u001b[39m*\u001b[39;49m\u001b[39m*\u001b[39;49mkwargs\n\u001b[1;32m     24\u001b[0m     )\n\u001b[1;32m     25\u001b[0m     r\u001b[39m.\u001b[39mraise_for_status()\n\u001b[1;32m     26\u001b[0m     \u001b[39mreturn\u001b[39;00m r\u001b[39m.\u001b[39mjson() \u001b[39mif\u001b[39;00m as_json \u001b[39mand\u001b[39;00m r\u001b[39m.\u001b[39mheaders\u001b[39m.\u001b[39mget(\u001b[39m'\u001b[39m\u001b[39mcontent-type\u001b[39m\u001b[39m'\u001b[39m) \u001b[39m==\u001b[39m \u001b[39m'\u001b[39m\u001b[39mapplication/json\u001b[39m\u001b[39m'\u001b[39m \u001b[39melse\u001b[39;00m r\n",
      "File \u001b[0;32m~/Library/Caches/pypoetry/virtualenvs/beaver-dz18NXld-py3.10/lib/python3.10/site-packages/requests/sessions.py:587\u001b[0m, in \u001b[0;36mSession.request\u001b[0;34m(self, method, url, params, data, headers, cookies, files, auth, timeout, allow_redirects, proxies, hooks, stream, verify, cert, json)\u001b[0m\n\u001b[1;32m    582\u001b[0m send_kwargs \u001b[39m=\u001b[39m {\n\u001b[1;32m    583\u001b[0m     \u001b[39m\"\u001b[39m\u001b[39mtimeout\u001b[39m\u001b[39m\"\u001b[39m: timeout,\n\u001b[1;32m    584\u001b[0m     \u001b[39m\"\u001b[39m\u001b[39mallow_redirects\u001b[39m\u001b[39m\"\u001b[39m: allow_redirects,\n\u001b[1;32m    585\u001b[0m }\n\u001b[1;32m    586\u001b[0m send_kwargs\u001b[39m.\u001b[39mupdate(settings)\n\u001b[0;32m--> 587\u001b[0m resp \u001b[39m=\u001b[39m \u001b[39mself\u001b[39;49m\u001b[39m.\u001b[39;49msend(prep, \u001b[39m*\u001b[39;49m\u001b[39m*\u001b[39;49msend_kwargs)\n\u001b[1;32m    589\u001b[0m \u001b[39mreturn\u001b[39;00m resp\n",
      "File \u001b[0;32m~/Library/Caches/pypoetry/virtualenvs/beaver-dz18NXld-py3.10/lib/python3.10/site-packages/requests/sessions.py:701\u001b[0m, in \u001b[0;36mSession.send\u001b[0;34m(self, request, **kwargs)\u001b[0m\n\u001b[1;32m    698\u001b[0m start \u001b[39m=\u001b[39m preferred_clock()\n\u001b[1;32m    700\u001b[0m \u001b[39m# Send the request\u001b[39;00m\n\u001b[0;32m--> 701\u001b[0m r \u001b[39m=\u001b[39m adapter\u001b[39m.\u001b[39;49msend(request, \u001b[39m*\u001b[39;49m\u001b[39m*\u001b[39;49mkwargs)\n\u001b[1;32m    703\u001b[0m \u001b[39m# Total elapsed time of the request (approximately)\u001b[39;00m\n\u001b[1;32m    704\u001b[0m elapsed \u001b[39m=\u001b[39m preferred_clock() \u001b[39m-\u001b[39m start\n",
      "File \u001b[0;32m~/Library/Caches/pypoetry/virtualenvs/beaver-dz18NXld-py3.10/lib/python3.10/site-packages/requests/adapters.py:489\u001b[0m, in \u001b[0;36mHTTPAdapter.send\u001b[0;34m(self, request, stream, timeout, verify, cert, proxies)\u001b[0m\n\u001b[1;32m    487\u001b[0m \u001b[39mtry\u001b[39;00m:\n\u001b[1;32m    488\u001b[0m     \u001b[39mif\u001b[39;00m \u001b[39mnot\u001b[39;00m chunked:\n\u001b[0;32m--> 489\u001b[0m         resp \u001b[39m=\u001b[39m conn\u001b[39m.\u001b[39;49murlopen(\n\u001b[1;32m    490\u001b[0m             method\u001b[39m=\u001b[39;49mrequest\u001b[39m.\u001b[39;49mmethod,\n\u001b[1;32m    491\u001b[0m             url\u001b[39m=\u001b[39;49murl,\n\u001b[1;32m    492\u001b[0m             body\u001b[39m=\u001b[39;49mrequest\u001b[39m.\u001b[39;49mbody,\n\u001b[1;32m    493\u001b[0m             headers\u001b[39m=\u001b[39;49mrequest\u001b[39m.\u001b[39;49mheaders,\n\u001b[1;32m    494\u001b[0m             redirect\u001b[39m=\u001b[39;49m\u001b[39mFalse\u001b[39;49;00m,\n\u001b[1;32m    495\u001b[0m             assert_same_host\u001b[39m=\u001b[39;49m\u001b[39mFalse\u001b[39;49;00m,\n\u001b[1;32m    496\u001b[0m             preload_content\u001b[39m=\u001b[39;49m\u001b[39mFalse\u001b[39;49;00m,\n\u001b[1;32m    497\u001b[0m             decode_content\u001b[39m=\u001b[39;49m\u001b[39mFalse\u001b[39;49;00m,\n\u001b[1;32m    498\u001b[0m             retries\u001b[39m=\u001b[39;49m\u001b[39mself\u001b[39;49m\u001b[39m.\u001b[39;49mmax_retries,\n\u001b[1;32m    499\u001b[0m             timeout\u001b[39m=\u001b[39;49mtimeout,\n\u001b[1;32m    500\u001b[0m         )\n\u001b[1;32m    502\u001b[0m     \u001b[39m# Send the request.\u001b[39;00m\n\u001b[1;32m    503\u001b[0m     \u001b[39melse\u001b[39;00m:\n\u001b[1;32m    504\u001b[0m         \u001b[39mif\u001b[39;00m \u001b[39mhasattr\u001b[39m(conn, \u001b[39m\"\u001b[39m\u001b[39mproxy_pool\u001b[39m\u001b[39m\"\u001b[39m):\n",
      "File \u001b[0;32m~/Library/Caches/pypoetry/virtualenvs/beaver-dz18NXld-py3.10/lib/python3.10/site-packages/urllib3/connectionpool.py:703\u001b[0m, in \u001b[0;36mHTTPConnectionPool.urlopen\u001b[0;34m(self, method, url, body, headers, retries, redirect, assert_same_host, timeout, pool_timeout, release_conn, chunked, body_pos, **response_kw)\u001b[0m\n\u001b[1;32m    700\u001b[0m     \u001b[39mself\u001b[39m\u001b[39m.\u001b[39m_prepare_proxy(conn)\n\u001b[1;32m    702\u001b[0m \u001b[39m# Make the request on the httplib connection object.\u001b[39;00m\n\u001b[0;32m--> 703\u001b[0m httplib_response \u001b[39m=\u001b[39m \u001b[39mself\u001b[39;49m\u001b[39m.\u001b[39;49m_make_request(\n\u001b[1;32m    704\u001b[0m     conn,\n\u001b[1;32m    705\u001b[0m     method,\n\u001b[1;32m    706\u001b[0m     url,\n\u001b[1;32m    707\u001b[0m     timeout\u001b[39m=\u001b[39;49mtimeout_obj,\n\u001b[1;32m    708\u001b[0m     body\u001b[39m=\u001b[39;49mbody,\n\u001b[1;32m    709\u001b[0m     headers\u001b[39m=\u001b[39;49mheaders,\n\u001b[1;32m    710\u001b[0m     chunked\u001b[39m=\u001b[39;49mchunked,\n\u001b[1;32m    711\u001b[0m )\n\u001b[1;32m    713\u001b[0m \u001b[39m# If we're going to release the connection in ``finally:``, then\u001b[39;00m\n\u001b[1;32m    714\u001b[0m \u001b[39m# the response doesn't need to know about the connection. Otherwise\u001b[39;00m\n\u001b[1;32m    715\u001b[0m \u001b[39m# it will also try to release it and we'll have a double-release\u001b[39;00m\n\u001b[1;32m    716\u001b[0m \u001b[39m# mess.\u001b[39;00m\n\u001b[1;32m    717\u001b[0m response_conn \u001b[39m=\u001b[39m conn \u001b[39mif\u001b[39;00m \u001b[39mnot\u001b[39;00m release_conn \u001b[39melse\u001b[39;00m \u001b[39mNone\u001b[39;00m\n",
      "File \u001b[0;32m~/Library/Caches/pypoetry/virtualenvs/beaver-dz18NXld-py3.10/lib/python3.10/site-packages/urllib3/connectionpool.py:449\u001b[0m, in \u001b[0;36mHTTPConnectionPool._make_request\u001b[0;34m(self, conn, method, url, timeout, chunked, **httplib_request_kw)\u001b[0m\n\u001b[1;32m    444\u001b[0m             httplib_response \u001b[39m=\u001b[39m conn\u001b[39m.\u001b[39mgetresponse()\n\u001b[1;32m    445\u001b[0m         \u001b[39mexcept\u001b[39;00m \u001b[39mBaseException\u001b[39;00m \u001b[39mas\u001b[39;00m e:\n\u001b[1;32m    446\u001b[0m             \u001b[39m# Remove the TypeError from the exception chain in\u001b[39;00m\n\u001b[1;32m    447\u001b[0m             \u001b[39m# Python 3 (including for exceptions like SystemExit).\u001b[39;00m\n\u001b[1;32m    448\u001b[0m             \u001b[39m# Otherwise it looks like a bug in the code.\u001b[39;00m\n\u001b[0;32m--> 449\u001b[0m             six\u001b[39m.\u001b[39;49mraise_from(e, \u001b[39mNone\u001b[39;49;00m)\n\u001b[1;32m    450\u001b[0m \u001b[39mexcept\u001b[39;00m (SocketTimeout, BaseSSLError, SocketError) \u001b[39mas\u001b[39;00m e:\n\u001b[1;32m    451\u001b[0m     \u001b[39mself\u001b[39m\u001b[39m.\u001b[39m_raise_timeout(err\u001b[39m=\u001b[39me, url\u001b[39m=\u001b[39murl, timeout_value\u001b[39m=\u001b[39mread_timeout)\n",
      "File \u001b[0;32m<string>:3\u001b[0m, in \u001b[0;36mraise_from\u001b[0;34m(value, from_value)\u001b[0m\n",
      "File \u001b[0;32m~/Library/Caches/pypoetry/virtualenvs/beaver-dz18NXld-py3.10/lib/python3.10/site-packages/urllib3/connectionpool.py:444\u001b[0m, in \u001b[0;36mHTTPConnectionPool._make_request\u001b[0;34m(self, conn, method, url, timeout, chunked, **httplib_request_kw)\u001b[0m\n\u001b[1;32m    441\u001b[0m \u001b[39mexcept\u001b[39;00m \u001b[39mTypeError\u001b[39;00m:\n\u001b[1;32m    442\u001b[0m     \u001b[39m# Python 3\u001b[39;00m\n\u001b[1;32m    443\u001b[0m     \u001b[39mtry\u001b[39;00m:\n\u001b[0;32m--> 444\u001b[0m         httplib_response \u001b[39m=\u001b[39m conn\u001b[39m.\u001b[39;49mgetresponse()\n\u001b[1;32m    445\u001b[0m     \u001b[39mexcept\u001b[39;00m \u001b[39mBaseException\u001b[39;00m \u001b[39mas\u001b[39;00m e:\n\u001b[1;32m    446\u001b[0m         \u001b[39m# Remove the TypeError from the exception chain in\u001b[39;00m\n\u001b[1;32m    447\u001b[0m         \u001b[39m# Python 3 (including for exceptions like SystemExit).\u001b[39;00m\n\u001b[1;32m    448\u001b[0m         \u001b[39m# Otherwise it looks like a bug in the code.\u001b[39;00m\n\u001b[1;32m    449\u001b[0m         six\u001b[39m.\u001b[39mraise_from(e, \u001b[39mNone\u001b[39;00m)\n",
      "File \u001b[0;32m~/.pyenv/versions/3.10.8/lib/python3.10/http/client.py:1374\u001b[0m, in \u001b[0;36mHTTPConnection.getresponse\u001b[0;34m(self)\u001b[0m\n\u001b[1;32m   1372\u001b[0m \u001b[39mtry\u001b[39;00m:\n\u001b[1;32m   1373\u001b[0m     \u001b[39mtry\u001b[39;00m:\n\u001b[0;32m-> 1374\u001b[0m         response\u001b[39m.\u001b[39;49mbegin()\n\u001b[1;32m   1375\u001b[0m     \u001b[39mexcept\u001b[39;00m \u001b[39mConnectionError\u001b[39;00m:\n\u001b[1;32m   1376\u001b[0m         \u001b[39mself\u001b[39m\u001b[39m.\u001b[39mclose()\n",
      "File \u001b[0;32m~/.pyenv/versions/3.10.8/lib/python3.10/http/client.py:318\u001b[0m, in \u001b[0;36mHTTPResponse.begin\u001b[0;34m(self)\u001b[0m\n\u001b[1;32m    316\u001b[0m \u001b[39m# read until we get a non-100 response\u001b[39;00m\n\u001b[1;32m    317\u001b[0m \u001b[39mwhile\u001b[39;00m \u001b[39mTrue\u001b[39;00m:\n\u001b[0;32m--> 318\u001b[0m     version, status, reason \u001b[39m=\u001b[39m \u001b[39mself\u001b[39;49m\u001b[39m.\u001b[39;49m_read_status()\n\u001b[1;32m    319\u001b[0m     \u001b[39mif\u001b[39;00m status \u001b[39m!=\u001b[39m CONTINUE:\n\u001b[1;32m    320\u001b[0m         \u001b[39mbreak\u001b[39;00m\n",
      "File \u001b[0;32m~/.pyenv/versions/3.10.8/lib/python3.10/http/client.py:279\u001b[0m, in \u001b[0;36mHTTPResponse._read_status\u001b[0;34m(self)\u001b[0m\n\u001b[1;32m    278\u001b[0m \u001b[39mdef\u001b[39;00m \u001b[39m_read_status\u001b[39m(\u001b[39mself\u001b[39m):\n\u001b[0;32m--> 279\u001b[0m     line \u001b[39m=\u001b[39m \u001b[39mstr\u001b[39m(\u001b[39mself\u001b[39;49m\u001b[39m.\u001b[39;49mfp\u001b[39m.\u001b[39;49mreadline(_MAXLINE \u001b[39m+\u001b[39;49m \u001b[39m1\u001b[39;49m), \u001b[39m\"\u001b[39m\u001b[39miso-8859-1\u001b[39m\u001b[39m\"\u001b[39m)\n\u001b[1;32m    280\u001b[0m     \u001b[39mif\u001b[39;00m \u001b[39mlen\u001b[39m(line) \u001b[39m>\u001b[39m _MAXLINE:\n\u001b[1;32m    281\u001b[0m         \u001b[39mraise\u001b[39;00m LineTooLong(\u001b[39m\"\u001b[39m\u001b[39mstatus line\u001b[39m\u001b[39m\"\u001b[39m)\n",
      "File \u001b[0;32m~/.pyenv/versions/3.10.8/lib/python3.10/socket.py:705\u001b[0m, in \u001b[0;36mSocketIO.readinto\u001b[0;34m(self, b)\u001b[0m\n\u001b[1;32m    703\u001b[0m \u001b[39mwhile\u001b[39;00m \u001b[39mTrue\u001b[39;00m:\n\u001b[1;32m    704\u001b[0m     \u001b[39mtry\u001b[39;00m:\n\u001b[0;32m--> 705\u001b[0m         \u001b[39mreturn\u001b[39;00m \u001b[39mself\u001b[39;49m\u001b[39m.\u001b[39;49m_sock\u001b[39m.\u001b[39;49mrecv_into(b)\n\u001b[1;32m    706\u001b[0m     \u001b[39mexcept\u001b[39;00m timeout:\n\u001b[1;32m    707\u001b[0m         \u001b[39mself\u001b[39m\u001b[39m.\u001b[39m_timeout_occurred \u001b[39m=\u001b[39m \u001b[39mTrue\u001b[39;00m\n",
      "\u001b[0;31mKeyboardInterrupt\u001b[0m: "
     ]
    }
   ],
   "source": [
    "project.state(with_experiments=True)"
   ]
  },
  {
   "attachments": {},
   "cell_type": "markdown",
   "metadata": {},
   "source": [
    "TODO: can't use TAIL for performance view"
   ]
  },
  {
   "attachments": {},
   "cell_type": "markdown",
   "metadata": {},
   "source": [
    "## Delete everything\n",
    "\n",
    "Order matters (because of dependencies)."
   ]
  },
  {
   "cell_type": "code",
   "execution_count": 519,
   "metadata": {},
   "outputs": [
    {
     "data": {
      "text/plain": [
       "<Response [204]>"
      ]
     },
     "execution_count": 519,
     "metadata": {},
     "output_type": "execute_result"
    }
   ],
   "source": [
    "project = sdk.project('taxi_trips')\n",
    "project.experiment('linear_regression').delete()\n",
    "project.feature_set('basic_features').delete()\n",
    "project.target.delete()\n",
    "project.delete()\n",
    "sdk.message_bus('rp-mb').delete()\n",
    "sdk.stream_processor('mz-sp').delete()\n",
    "sdk.job_runner('rq-jr').delete()"
   ]
  },
  {
   "cell_type": "code",
   "execution_count": 508,
   "metadata": {},
   "outputs": [],
   "source": [
    "import psycopg2\n",
    "import sys\n",
    "\n",
    "dsn = \"user=materialize password=materialize host=localhost port=6875 dbname=materialize sslmode=disable\"\n",
    "conn = psycopg2.connect(dsn)\n",
    "conn.autocommit = True\n",
    "\n",
    "with conn.cursor() as cur:\n",
    "    cur.execute(f\"DROP VIEW IF EXISTS linear_regression_dataset\")\n",
    "    cur.execute(f\"DROP VIEW IF EXISTS taxi_trips_target\")\n",
    "    cur.execute(f\"DROP VIEW IF EXISTS taxi_trips_predictions\")\n",
    "    cur.execute(f\"DROP VIEW IF EXISTS basic_features\")\n",
    "    cur.execute(f\"DROP VIEW IF EXISTS taxi_arrivals\")\n",
    "    cur.execute(f\"DROP VIEW IF EXISTS taxi_departures\")"
   ]
  }
 ],
 "metadata": {
  "kernelspec": {
   "display_name": "beaver-dz18NXld-py3.10",
   "language": "python",
   "name": "python3"
  },
  "language_info": {
   "codemirror_mode": {
    "name": "ipython",
    "version": 3
   },
   "file_extension": ".py",
   "mimetype": "text/x-python",
   "name": "python",
   "nbconvert_exporter": "python",
   "pygments_lexer": "ipython3",
   "version": "3.10.8"
  }
 },
 "nbformat": 4,
 "nbformat_minor": 2
}
