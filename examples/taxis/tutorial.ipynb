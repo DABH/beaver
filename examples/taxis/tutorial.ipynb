{
 "cells": [
  {
   "attachments": {},
   "cell_type": "markdown",
   "metadata": {},
   "source": [
    "# Taxi trip duration forecasting"
   ]
  },
  {
   "attachments": {},
   "cell_type": "markdown",
   "metadata": {},
   "source": [
    "First things first, you need a running Beaver instance. For example, you could download this repository, and run `docker compose up.`\n",
    "\n",
    "Next, we need some data to work with. In this example, we're looking at taxi trips in New-York city. Running `simulate.py` will insert data into two topics. The first topic contains all the taxi departures. The topic is located in the default Redpanda broker provided by Beaver.\n",
    "\n",
    "## Creating a project\n",
    "\n",
    "Now begins this notebook. The first thing to do is connect to the Beaver instance."
   ]
  },
  {
   "cell_type": "code",
   "execution_count": 1,
   "metadata": {},
   "outputs": [],
   "source": [
    "import beaver_sdk\n",
    "\n",
    "sdk = beaver_sdk.Instance(host='http://127.0.0.1:8000')"
   ]
  },
  {
   "attachments": {},
   "cell_type": "markdown",
   "metadata": {},
   "source": [
    "You can connect your own infrastructure to Beaver. In that sense, Beaver is an orchestrator of sorts. Beaver also ships with out-of-the-box infrastructure. In any case, we have to tell Beaver what infrastructure to use."
   ]
  },
  {
   "cell_type": "code",
   "execution_count": 37,
   "metadata": {},
   "outputs": [],
   "source": [
    "mb = sdk.message_bus.create(name='rp-mb', protocol='REDPANDA', url='redpanda:29092')\n",
    "sp = sdk.stream_processor.create(name='mz-sp', protocol='MATERIALIZE', url='postgres://materialize@materialize:6875/materialize')\n",
    "jr = sdk.job_runner.create(name='rq-jr', protocol='RQ', url='redis://redis:6379/0')"
   ]
  },
  {
   "attachments": {},
   "cell_type": "markdown",
   "metadata": {},
   "source": [
    "Now we can create a project. We specify the name of each infrastructure piece."
   ]
  },
  {
   "cell_type": "code",
   "execution_count": 38,
   "metadata": {},
   "outputs": [],
   "source": [
    "project = sdk.project.create(\n",
    "    name='taxi_trips',\n",
    "    task='REGRESSION',\n",
    "    message_bus_name='rp-mb',\n",
    "    stream_processor_name='mz-sp',\n",
    "    job_runner_name='rq-jr',\n",
    ")"
   ]
  },
  {
   "attachments": {},
   "cell_type": "markdown",
   "metadata": {},
   "source": [
    "Note that the infrastructure we defined could be reused in different projects, so you only have to set it up once."
   ]
  },
  {
   "attachments": {},
   "cell_type": "markdown",
   "metadata": {},
   "source": [
    "## Connecting to some raw data"
   ]
  },
  {
   "attachments": {},
   "cell_type": "markdown",
   "metadata": {},
   "source": [
    "We're using Redpanda to store the raw data. We wish to use Materialize to process this data, and turn it into features and targets to feed into a machine learning model.\n",
    "\n",
    "There's a little bit of prior work necessary. Basically, Materialize has to be connected to Redpanda by creating some views. As of now, this isn't something Beaver does automatically."
   ]
  },
  {
   "cell_type": "code",
   "execution_count": 39,
   "metadata": {},
   "outputs": [],
   "source": [
    "# The following is for idempotency\n",
    "project.stream_processor.execute('DROP VIEW IF EXISTS basic_features')\n",
    "project.stream_processor.execute('DROP VIEW IF EXISTS taxi_departures')\n",
    "project.stream_processor.execute('DROP SOURCE IF EXISTS taxi_departures_src')\n",
    "\n",
    "project.stream_processor.execute(\"\"\"\n",
    "CREATE MATERIALIZED SOURCE taxi_departures_src\n",
    "FROM KAFKA BROKER 'redpanda:29092' TOPIC 'taxi-departures'\n",
    "    KEY FORMAT TEXT\n",
    "    VALUE FORMAT BYTES\n",
    "    INCLUDE KEY AS trip_no, TIMESTAMP AS received_at;\n",
    "\"\"\")\n",
    "\n",
    "project.stream_processor.execute(\"\"\"\n",
    "CREATE VIEW taxi_departures AS (\n",
    "    SELECT\n",
    "        trip_no,\n",
    "        received_at,\n",
    "        CAST(CONVERT_FROM(data, 'utf8') AS JSONB) AS trip\n",
    "    FROM taxi_departures_src\n",
    ")\n",
    "\"\"\")"
   ]
  },
  {
   "attachments": {},
   "cell_type": "markdown",
   "metadata": {},
   "source": [
    "Let's do the same for taxi arrivals."
   ]
  },
  {
   "cell_type": "code",
   "execution_count": 40,
   "metadata": {
    "scrolled": true
   },
   "outputs": [],
   "source": [
    "# The following is for idempotency\n",
    "project.stream_processor.execute('DROP VIEW IF EXISTS taxi_trips_target')\n",
    "project.stream_processor.execute('DROP VIEW IF EXISTS taxi_arrivals')\n",
    "project.stream_processor.execute('DROP SOURCE IF EXISTS taxi_arrivals_src')\n",
    "\n",
    "project.stream_processor.execute(\"\"\"\n",
    "CREATE MATERIALIZED SOURCE taxi_arrivals_src\n",
    "FROM KAFKA BROKER 'redpanda:29092' TOPIC 'taxi-arrivals'\n",
    "    KEY FORMAT TEXT\n",
    "    VALUE FORMAT BYTES\n",
    "    INCLUDE KEY AS trip_no, TIMESTAMP AS received_at;\n",
    "\"\"\")\n",
    "\n",
    "project.stream_processor.execute(\"\"\"\n",
    "CREATE VIEW taxi_arrivals AS (\n",
    "    SELECT\n",
    "        trip_no,\n",
    "        received_at,\n",
    "        CAST(CONVERT_FROM(data, 'utf8') AS JSONB) AS arrival\n",
    "    FROM taxi_arrivals_src\n",
    ")\n",
    "\"\"\")"
   ]
  },
  {
   "attachments": {},
   "cell_type": "markdown",
   "metadata": {},
   "source": [
    "## Streaming targets"
   ]
  },
  {
   "attachments": {},
   "cell_type": "markdown",
   "metadata": {},
   "source": [
    "To train a model, we need a target. Beaver also encourages you to define this target with SQL. For this example, we'll predict the duration in seconds of each trip, which is a regression task."
   ]
  },
  {
   "cell_type": "code",
   "execution_count": 41,
   "metadata": {},
   "outputs": [],
   "source": [
    "query = \"\"\"\n",
    "SELECT\n",
    "    trip_no,\n",
    "    received_at,\n",
    "    CAST(arrival ->> 'duration' AS INTEGER) AS duration\n",
    "FROM taxi_arrivals\n",
    "\"\"\"\n",
    "\n",
    "project.target.set(\n",
    "    query=query,\n",
    "    key_field='trip_no',\n",
    "    ts_field='received_at',\n",
    "    value_field='duration'\n",
    ")"
   ]
  },
  {
   "attachments": {},
   "cell_type": "markdown",
   "metadata": {},
   "source": [
    "## Streaming features"
   ]
  },
  {
   "attachments": {},
   "cell_type": "markdown",
   "metadata": {},
   "source": [
    "We also need some features. Let's start simple and calculate two features based on the distance between the pick-up and drop-off locations, as well as some basic temporal features."
   ]
  },
  {
   "cell_type": "code",
   "execution_count": 43,
   "metadata": {},
   "outputs": [
    {
     "ename": "HTTPError",
     "evalue": "500 Server Error: Internal Server Error for url: http://127.0.0.1:8000/api/feature-set/",
     "output_type": "error",
     "traceback": [
      "\u001b[0;31m---------------------------------------------------------------------------\u001b[0m",
      "\u001b[0;31mHTTPError\u001b[0m                                 Traceback (most recent call last)",
      "Cell \u001b[0;32mIn[43], line 30\u001b[0m\n\u001b[1;32m      1\u001b[0m query \u001b[39m=\u001b[39m \u001b[39m\"\"\"\u001b[39m\n\u001b[1;32m      2\u001b[0m \u001b[39mSELECT \u001b[39m\n\u001b[1;32m      3\u001b[0m \u001b[39m    trip_no,\u001b[39m\n\u001b[0;32m   (...)\u001b[0m\n\u001b[1;32m     27\u001b[0m \u001b[39m)\u001b[39m\n\u001b[1;32m     28\u001b[0m \u001b[39m\"\"\"\u001b[39m\n\u001b[0;32m---> 30\u001b[0m project\u001b[39m.\u001b[39;49mfeature_set\u001b[39m.\u001b[39;49mcreate(\n\u001b[1;32m     31\u001b[0m     name\u001b[39m=\u001b[39;49m\u001b[39m'\u001b[39;49m\u001b[39mbasic_features\u001b[39;49m\u001b[39m'\u001b[39;49m,\n\u001b[1;32m     32\u001b[0m     query\u001b[39m=\u001b[39;49mquery,\n\u001b[1;32m     33\u001b[0m     key_field\u001b[39m=\u001b[39;49m\u001b[39m'\u001b[39;49m\u001b[39mtrip_no\u001b[39;49m\u001b[39m'\u001b[39;49m,\n\u001b[1;32m     34\u001b[0m     ts_field\u001b[39m=\u001b[39;49m\u001b[39m'\u001b[39;49m\u001b[39mreceived_at\u001b[39;49m\u001b[39m'\u001b[39;49m,\n\u001b[1;32m     35\u001b[0m     value_field\u001b[39m=\u001b[39;49m\u001b[39m'\u001b[39;49m\u001b[39mfeatures\u001b[39;49m\u001b[39m'\u001b[39;49m\n\u001b[1;32m     36\u001b[0m )\n",
      "File \u001b[0;32m~/projects/online-ml/beaver/sdk/beaver_sdk/__init__.py:255\u001b[0m, in \u001b[0;36mFeatureSetFactory.create\u001b[0;34m(self, name, query, key_field, ts_field, value_field)\u001b[0m\n\u001b[1;32m    251\u001b[0m \u001b[39mdef\u001b[39;00m \u001b[39mcreate\u001b[39m(\n\u001b[1;32m    252\u001b[0m     \u001b[39mself\u001b[39m, name: \u001b[39mstr\u001b[39m, query: \u001b[39mstr\u001b[39m, key_field: \u001b[39mstr\u001b[39m, ts_field: \u001b[39mstr\u001b[39m, value_field: \u001b[39mstr\u001b[39m\n\u001b[1;32m    253\u001b[0m ):\n\u001b[1;32m    254\u001b[0m \u001b[39m    \u001b[39m\u001b[39m\"\"\"Create a feature set.\"\"\"\u001b[39;00m\n\u001b[0;32m--> 255\u001b[0m     \u001b[39mself\u001b[39;49m\u001b[39m.\u001b[39;49mpost(\n\u001b[1;32m    256\u001b[0m         \u001b[39m\"\u001b[39;49m\u001b[39m/api/feature-set/\u001b[39;49m\u001b[39m\"\u001b[39;49m,\n\u001b[1;32m    257\u001b[0m         json\u001b[39m=\u001b[39;49m{\n\u001b[1;32m    258\u001b[0m             \u001b[39m\"\u001b[39;49m\u001b[39mname\u001b[39;49m\u001b[39m\"\u001b[39;49m: name,\n\u001b[1;32m    259\u001b[0m             \u001b[39m\"\u001b[39;49m\u001b[39mproject_name\u001b[39;49m\u001b[39m\"\u001b[39;49m: \u001b[39mself\u001b[39;49m\u001b[39m.\u001b[39;49mproject_name,\n\u001b[1;32m    260\u001b[0m             \u001b[39m\"\u001b[39;49m\u001b[39mquery\u001b[39;49m\u001b[39m\"\u001b[39;49m: query,\n\u001b[1;32m    261\u001b[0m             \u001b[39m\"\u001b[39;49m\u001b[39mkey_field\u001b[39;49m\u001b[39m\"\u001b[39;49m: key_field,\n\u001b[1;32m    262\u001b[0m             \u001b[39m\"\u001b[39;49m\u001b[39mts_field\u001b[39;49m\u001b[39m\"\u001b[39;49m: ts_field,\n\u001b[1;32m    263\u001b[0m             \u001b[39m\"\u001b[39;49m\u001b[39mvalue_field\u001b[39;49m\u001b[39m\"\u001b[39;49m: value_field,\n\u001b[1;32m    264\u001b[0m         },\n\u001b[1;32m    265\u001b[0m     )\n",
      "File \u001b[0;32m~/projects/online-ml/beaver/sdk/beaver_sdk/__init__.py:32\u001b[0m, in \u001b[0;36mSDK.post\u001b[0;34m(self, endpoint, **kwargs)\u001b[0m\n\u001b[1;32m     31\u001b[0m \u001b[39mdef\u001b[39;00m \u001b[39mpost\u001b[39m(\u001b[39mself\u001b[39m, endpoint, \u001b[39m*\u001b[39m\u001b[39m*\u001b[39mkwargs):\n\u001b[0;32m---> 32\u001b[0m     \u001b[39mreturn\u001b[39;00m \u001b[39mself\u001b[39;49m\u001b[39m.\u001b[39;49mrequest(\u001b[39m\"\u001b[39;49m\u001b[39mPOST\u001b[39;49m\u001b[39m\"\u001b[39;49m, endpoint, \u001b[39m*\u001b[39;49m\u001b[39m*\u001b[39;49mkwargs)\n",
      "File \u001b[0;32m~/projects/online-ml/beaver/sdk/beaver_sdk/__init__.py:25\u001b[0m, in \u001b[0;36mSDK.request\u001b[0;34m(self, method, endpoint, as_json, session, **kwargs)\u001b[0m\n\u001b[1;32m     21\u001b[0m \u001b[39mdef\u001b[39;00m \u001b[39mrequest\u001b[39m(\u001b[39mself\u001b[39m, method, endpoint, as_json\u001b[39m=\u001b[39m\u001b[39mTrue\u001b[39;00m, session\u001b[39m=\u001b[39m\u001b[39mNone\u001b[39;00m, \u001b[39m*\u001b[39m\u001b[39m*\u001b[39mkwargs):\n\u001b[1;32m     22\u001b[0m     r \u001b[39m=\u001b[39m (session \u001b[39mor\u001b[39;00m \u001b[39mself\u001b[39m\u001b[39m.\u001b[39msession())\u001b[39m.\u001b[39mrequest(\n\u001b[1;32m     23\u001b[0m         method\u001b[39m=\u001b[39mmethod, url\u001b[39m=\u001b[39murllib\u001b[39m.\u001b[39mparse\u001b[39m.\u001b[39murljoin(\u001b[39mself\u001b[39m\u001b[39m.\u001b[39mhost, endpoint), \u001b[39m*\u001b[39m\u001b[39m*\u001b[39mkwargs\n\u001b[1;32m     24\u001b[0m     )\n\u001b[0;32m---> 25\u001b[0m     r\u001b[39m.\u001b[39;49mraise_for_status()\n\u001b[1;32m     26\u001b[0m     \u001b[39mreturn\u001b[39;00m r\u001b[39m.\u001b[39mjson() \u001b[39mif\u001b[39;00m as_json \u001b[39mand\u001b[39;00m r\u001b[39m.\u001b[39mheaders\u001b[39m.\u001b[39mget(\u001b[39m'\u001b[39m\u001b[39mcontent-type\u001b[39m\u001b[39m'\u001b[39m) \u001b[39m==\u001b[39m \u001b[39m'\u001b[39m\u001b[39mapplication/json\u001b[39m\u001b[39m'\u001b[39m \u001b[39melse\u001b[39;00m r\n",
      "File \u001b[0;32m~/Library/Caches/pypoetry/virtualenvs/beaver-dz18NXld-py3.10/lib/python3.10/site-packages/requests/models.py:1021\u001b[0m, in \u001b[0;36mResponse.raise_for_status\u001b[0;34m(self)\u001b[0m\n\u001b[1;32m   1016\u001b[0m     http_error_msg \u001b[39m=\u001b[39m (\n\u001b[1;32m   1017\u001b[0m         \u001b[39mf\u001b[39m\u001b[39m\"\u001b[39m\u001b[39m{\u001b[39;00m\u001b[39mself\u001b[39m\u001b[39m.\u001b[39mstatus_code\u001b[39m}\u001b[39;00m\u001b[39m Server Error: \u001b[39m\u001b[39m{\u001b[39;00mreason\u001b[39m}\u001b[39;00m\u001b[39m for url: \u001b[39m\u001b[39m{\u001b[39;00m\u001b[39mself\u001b[39m\u001b[39m.\u001b[39murl\u001b[39m}\u001b[39;00m\u001b[39m\"\u001b[39m\n\u001b[1;32m   1018\u001b[0m     )\n\u001b[1;32m   1020\u001b[0m \u001b[39mif\u001b[39;00m http_error_msg:\n\u001b[0;32m-> 1021\u001b[0m     \u001b[39mraise\u001b[39;00m HTTPError(http_error_msg, response\u001b[39m=\u001b[39m\u001b[39mself\u001b[39m)\n",
      "\u001b[0;31mHTTPError\u001b[0m: 500 Server Error: Internal Server Error for url: http://127.0.0.1:8000/api/feature-set/"
     ]
    }
   ],
   "source": [
    "query = \"\"\"\n",
    "SELECT \n",
    "    trip_no,\n",
    "    received_at,\n",
    "    jsonb_build_object(\n",
    "        'manhattan_distance', ABS(dropoff_lat - pickup_lat) + ABS(dropoff_lon - pickup_lon),\n",
    "        'euclidean_distance', SQRT(POWER(dropoff_lat - pickup_lat, 2) + POWER(dropoff_lon - pickup_lon, 2)),\n",
    "        'pickup_hour', EXTRACT(HOUR FROM pickup_datetime),\n",
    "        'is_monday', EXTRACT(DOW FROM pickup_datetime) = 1,\n",
    "        'is_tuesday', EXTRACT(DOW FROM pickup_datetime) = 2,\n",
    "        'is_wednesday', EXTRACT(DOW FROM pickup_datetime) = 3,\n",
    "        'is_thursday', EXTRACT(DOW FROM pickup_datetime) = 4,\n",
    "        'is_friday', EXTRACT(DOW FROM pickup_datetime) = 5,\n",
    "        'is_saturday', EXTRACT(DOW FROM pickup_datetime) = 6,\n",
    "        'is_sunday', EXTRACT(DOW FROM pickup_datetime) = 7\n",
    "    ) AS features\n",
    "FROM (\n",
    "    SELECT\n",
    "        trip_no,\n",
    "        received_at,\n",
    "        CAST(trip ->> 'dropoff_latitude' AS FLOAT) AS dropoff_lat,\n",
    "        CAST(trip ->> 'pickup_latitude' AS FLOAT) AS pickup_lat,\n",
    "        CAST(trip ->> 'dropoff_longitude' AS FLOAT) AS dropoff_lon,\n",
    "        CAST(trip ->> 'pickup_longitude' AS FLOAT) AS pickup_lon,\n",
    "        CAST(trip ->> 'pickup_datetime' AS TIMESTAMP) AS pickup_datetime\n",
    "    FROM taxi_departures\n",
    ")\n",
    "\"\"\"\n",
    "\n",
    "project.feature_set.create(\n",
    "    name='basic_features',\n",
    "    query=query,\n",
    "    key_field='trip_no',\n",
    "    ts_field='received_at',\n",
    "    value_field='features'\n",
    ")"
   ]
  },
  {
   "attachments": {},
   "cell_type": "markdown",
   "metadata": {},
   "source": [
    "## Create a first experiment"
   ]
  },
  {
   "attachments": {},
   "cell_type": "markdown",
   "metadata": {},
   "source": [
    "An experiment is essentially a model and a feature set. We'll start with a plain and simple linear regression, applied to the basic features defined previously."
   ]
  },
  {
   "cell_type": "code",
   "execution_count": 50,
   "metadata": {},
   "outputs": [
    {
     "data": {
      "text/plain": [
       "<beaver_sdk.Experiment at 0x16bec5660>"
      ]
     },
     "execution_count": 50,
     "metadata": {},
     "output_type": "execute_result"
    }
   ],
   "source": [
    "from river import linear_model, preprocessing\n",
    "\n",
    "model = preprocessing.StandardScaler() | linear_model.LinearRegression()\n",
    "\n",
    "project.experiment('linear_regression').delete()\n",
    "project.experiment.create(\n",
    "    name='linear_regression',\n",
    "    feature_set_name='basic_features',\n",
    "    model=model\n",
    ")"
   ]
  },
  {
   "cell_type": "code",
   "execution_count": 53,
   "metadata": {},
   "outputs": [
    {
     "data": {
      "text/plain": [
       "{'name': 'taxi_trips',\n",
       " 'task': 'REGRESSION',\n",
       " 'stream_processor_name': 'mz-sp',\n",
       " 'created_at': '2023-05-15T16:23:49.872418',\n",
       " 'message_bus_name': 'rp-mb',\n",
       " 'job_runner_name': 'rq-jr',\n",
       " 'experiments': {'linear_regression': {'n_learnings': 5,\n",
       "   'n_predictions': 26,\n",
       "   'mse': 244220.94789379952,\n",
       "   'mae': 446.1701976434857}}}"
      ]
     },
     "execution_count": 53,
     "metadata": {},
     "output_type": "execute_result"
    }
   ],
   "source": [
    "project.state(with_experiments=True)"
   ]
  },
  {
   "attachments": {},
   "cell_type": "markdown",
   "metadata": {},
   "source": [
    "## Delete everything\n",
    "\n",
    "Order matters (because of dependencies)."
   ]
  },
  {
   "cell_type": "code",
   "execution_count": 36,
   "metadata": {},
   "outputs": [
    {
     "data": {
      "text/plain": [
       "<Response [204]>"
      ]
     },
     "execution_count": 36,
     "metadata": {},
     "output_type": "execute_result"
    }
   ],
   "source": [
    "project = sdk.project('taxi_trips')\n",
    "project.experiment('linear_regression').delete()\n",
    "project.feature_set('basic_features').delete()\n",
    "project.target.delete()\n",
    "project.delete()\n",
    "sdk.message_bus('rp-mb').delete()\n",
    "sdk.stream_processor('mz-sp').delete()\n",
    "sdk.job_runner('rq-jr').delete()"
   ]
  },
  {
   "cell_type": "code",
   "execution_count": 31,
   "metadata": {},
   "outputs": [],
   "source": [
    "import psycopg2\n",
    "import sys\n",
    "\n",
    "dsn = \"user=materialize password=materialize host=localhost port=6875 dbname=materialize sslmode=disable\"\n",
    "conn = psycopg2.connect(dsn)\n",
    "conn.autocommit = True\n",
    "\n",
    "with conn.cursor() as cur:\n",
    "    cur.execute(f\"DROP VIEW IF EXISTS linear_regression_dataset\")\n",
    "    cur.execute(f\"DROP VIEW IF EXISTS taxi_trips_target\")\n",
    "    cur.execute(f\"DROP VIEW IF EXISTS taxi_trips_predictions\")\n",
    "    cur.execute(f\"DROP VIEW IF EXISTS basic_features\")\n",
    "    cur.execute(f\"DROP VIEW IF EXISTS taxi_arrivals\")\n",
    "    cur.execute(f\"DROP VIEW IF EXISTS taxi_departures\")"
   ]
  }
 ],
 "metadata": {
  "kernelspec": {
   "display_name": "beaver-dz18NXld-py3.10",
   "language": "python",
   "name": "python3"
  },
  "language_info": {
   "codemirror_mode": {
    "name": "ipython",
    "version": 3
   },
   "file_extension": ".py",
   "mimetype": "text/x-python",
   "name": "python",
   "nbconvert_exporter": "python",
   "pygments_lexer": "ipython3",
   "version": "3.10.8"
  }
 },
 "nbformat": 4,
 "nbformat_minor": 2
}
