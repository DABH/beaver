{
 "cells": [
  {
   "attachments": {},
   "cell_type": "markdown",
   "metadata": {},
   "source": [
    "# Taxi trip duration forecasting"
   ]
  },
  {
   "attachments": {},
   "cell_type": "markdown",
   "metadata": {},
   "source": [
    "First things first, you need a running Beaver instance. For example, you could download this repository, and run `docker compose up.`\n",
    "\n",
    "Next, we need some data to work with. In this example, we're looking at taxi trips in New-York city. Running `simulate.py` will insert data into two topics. The first topic contains all the taxi departures. The topic is located in the default Redpanda broker provided by Beaver.\n",
    "\n",
    "## Creating a project\n",
    "\n",
    "Now begins this notebook. The first thing to do is connect to the Beaver instance."
   ]
  },
  {
   "cell_type": "code",
   "execution_count": 3,
   "metadata": {},
   "outputs": [],
   "source": [
    "import beaver_sdk\n",
    "\n",
    "sdk = beaver_sdk.Instance(host='http://127.0.0.1:8000')"
   ]
  },
  {
   "attachments": {},
   "cell_type": "markdown",
   "metadata": {},
   "source": [
    "You can connect your own infrastructure to Beaver. In that sense, Beaver is an orchestrator of sorts. Beaver also ships with out-of-the-box infrastructure. In any case, we have to tell Beaver what infrastructure to use."
   ]
  },
  {
   "cell_type": "code",
   "execution_count": 9,
   "metadata": {},
   "outputs": [],
   "source": [
    "mb = sdk.message_bus.create(name='rp-mb', protocol='REDPANDA', url='redpanda:29092')\n",
    "sp = sdk.stream_processor.create(name='mz-sp', protocol='MATERIALIZE', url='postgresql://materialize@materialize:6875/materialize?sslmode=disable')\n",
    "jr = sdk.job_runner.create(name='rq-jr', protocol='RQ', url='redis://redis:6379/0')"
   ]
  },
  {
   "attachments": {},
   "cell_type": "markdown",
   "metadata": {},
   "source": [
    "Now we can create a project. We specify the name of each infrastructure piece."
   ]
  },
  {
   "cell_type": "code",
   "execution_count": 10,
   "metadata": {},
   "outputs": [],
   "source": [
    "project = sdk.project.create(\n",
    "    name='taxi_trips',\n",
    "    task='REGRESSION',\n",
    "    message_bus_name='rp-mb',\n",
    "    stream_processor_name='mz-sp',\n",
    "    job_runner_name='rq-jr',\n",
    ")"
   ]
  },
  {
   "attachments": {},
   "cell_type": "markdown",
   "metadata": {},
   "source": [
    "Note that the infrastructure we defined could be reused in different projects, so you only have to set it up once."
   ]
  },
  {
   "attachments": {},
   "cell_type": "markdown",
   "metadata": {},
   "source": [
    "## Connecting to some raw data"
   ]
  },
  {
   "attachments": {},
   "cell_type": "markdown",
   "metadata": {},
   "source": [
    "We're using Redpanda to store the raw data. We wish to use Materialize to process this data, and turn it into features and targets to feed into a machine learning model.\n",
    "\n",
    "There's a little bit of prior work necessary. Basically, Materialize has to be connected to Redpanda by creating some views. As of now, this isn't something Beaver does automatically."
   ]
  },
  {
   "cell_type": "code",
   "execution_count": 11,
   "metadata": {},
   "outputs": [],
   "source": [
    "# The following is for idempotency\n",
    "project.stream_processor.execute('DROP VIEW IF EXISTS basic_features')\n",
    "project.stream_processor.execute('DROP VIEW IF EXISTS taxi_departures')\n",
    "project.stream_processor.execute('DROP SOURCE IF EXISTS taxi_departures_src')\n",
    "\n",
    "project.stream_processor.execute(\"\"\"\n",
    "CREATE MATERIALIZED SOURCE taxi_departures_src\n",
    "FROM KAFKA BROKER 'redpanda:29092' TOPIC 'taxi-departures'\n",
    "    KEY FORMAT TEXT\n",
    "    VALUE FORMAT BYTES\n",
    "    INCLUDE KEY AS trip_no, TIMESTAMP AS received_at;\n",
    "\"\"\")\n",
    "\n",
    "project.stream_processor.execute(\"\"\"\n",
    "CREATE VIEW taxi_departures AS (\n",
    "    SELECT\n",
    "        trip_no,\n",
    "        received_at,\n",
    "        CAST(CONVERT_FROM(data, 'utf8') AS JSONB) AS trip\n",
    "    FROM taxi_departures_src\n",
    ")\n",
    "\"\"\")"
   ]
  },
  {
   "attachments": {},
   "cell_type": "markdown",
   "metadata": {},
   "source": [
    "Let's do the same for taxi arrivals."
   ]
  },
  {
   "cell_type": "code",
   "execution_count": 12,
   "metadata": {
    "scrolled": true
   },
   "outputs": [],
   "source": [
    "# The following is for idempotency\n",
    "project.stream_processor.execute('DROP VIEW IF EXISTS taxi_trips_target')\n",
    "project.stream_processor.execute('DROP VIEW IF EXISTS taxi_arrivals')\n",
    "project.stream_processor.execute('DROP SOURCE IF EXISTS taxi_arrivals_src')\n",
    "\n",
    "project.stream_processor.execute(\"\"\"\n",
    "CREATE MATERIALIZED SOURCE taxi_arrivals_src\n",
    "FROM KAFKA BROKER 'redpanda:29092' TOPIC 'taxi-arrivals'\n",
    "    KEY FORMAT TEXT\n",
    "    VALUE FORMAT BYTES\n",
    "    INCLUDE KEY AS trip_no, TIMESTAMP AS received_at;\n",
    "\"\"\")\n",
    "\n",
    "project.stream_processor.execute(\"\"\"\n",
    "CREATE VIEW taxi_arrivals AS (\n",
    "    SELECT\n",
    "        trip_no,\n",
    "        received_at,\n",
    "        CAST(CONVERT_FROM(data, 'utf8') AS JSONB) AS arrival\n",
    "    FROM taxi_arrivals_src\n",
    ")\n",
    "\"\"\")"
   ]
  },
  {
   "attachments": {},
   "cell_type": "markdown",
   "metadata": {},
   "source": [
    "## Streaming targets"
   ]
  },
  {
   "attachments": {},
   "cell_type": "markdown",
   "metadata": {},
   "source": [
    "To train a model, we need a target. Beaver also encourages you to define this target with SQL. For this example, we'll predict the duration in seconds of each trip, which is a regression task."
   ]
  },
  {
   "cell_type": "code",
   "execution_count": 13,
   "metadata": {},
   "outputs": [],
   "source": [
    "query = \"\"\"\n",
    "SELECT\n",
    "    trip_no,\n",
    "    received_at,\n",
    "    CAST(arrival ->> 'duration' AS INTEGER) AS duration\n",
    "FROM taxi_arrivals\n",
    "\"\"\"\n",
    "\n",
    "project.target.set(\n",
    "    query=query,\n",
    "    key_field='trip_no',\n",
    "    ts_field='received_at',\n",
    "    value_field='duration'\n",
    ")"
   ]
  },
  {
   "attachments": {},
   "cell_type": "markdown",
   "metadata": {},
   "source": [
    "## Streaming features"
   ]
  },
  {
   "attachments": {},
   "cell_type": "markdown",
   "metadata": {},
   "source": [
    "We also need some features. Let's start simple and calculate two features based on the distance between the pick-up and drop-off locations, as well as some basic temporal features."
   ]
  },
  {
   "cell_type": "code",
   "execution_count": 37,
   "metadata": {},
   "outputs": [
    {
     "ename": "HTTPError",
     "evalue": "500 Server Error: Internal Server Error for url: http://127.0.0.1:8000/api/feature-set/",
     "output_type": "error",
     "traceback": [
      "\u001b[0;31m---------------------------------------------------------------------------\u001b[0m",
      "\u001b[0;31mHTTPError\u001b[0m                                 Traceback (most recent call last)",
      "Cell \u001b[0;32mIn[37], line 28\u001b[0m\n\u001b[1;32m      1\u001b[0m query \u001b[39m=\u001b[39m \u001b[39m\"\"\"\u001b[39m\n\u001b[1;32m      2\u001b[0m \u001b[39mSELECT \u001b[39m\n\u001b[1;32m      3\u001b[0m \u001b[39m    trip_no,\u001b[39m\n\u001b[0;32m   (...)\u001b[0m\n\u001b[1;32m     25\u001b[0m \u001b[39m)\u001b[39m\n\u001b[1;32m     26\u001b[0m \u001b[39m\"\"\"\u001b[39m\n\u001b[0;32m---> 28\u001b[0m project\u001b[39m.\u001b[39;49mfeature_set\u001b[39m.\u001b[39;49mcreate(\n\u001b[1;32m     29\u001b[0m     name\u001b[39m=\u001b[39;49m\u001b[39m'\u001b[39;49m\u001b[39mbasic_features\u001b[39;49m\u001b[39m'\u001b[39;49m,\n\u001b[1;32m     30\u001b[0m     query\u001b[39m=\u001b[39;49mquery,\n\u001b[1;32m     31\u001b[0m     key_field\u001b[39m=\u001b[39;49m\u001b[39m'\u001b[39;49m\u001b[39mtrip_no\u001b[39;49m\u001b[39m'\u001b[39;49m,\n\u001b[1;32m     32\u001b[0m     ts_field\u001b[39m=\u001b[39;49m\u001b[39m'\u001b[39;49m\u001b[39mreceived_at\u001b[39;49m\u001b[39m'\u001b[39;49m,\n\u001b[1;32m     33\u001b[0m     value_field\u001b[39m=\u001b[39;49m\u001b[39m'\u001b[39;49m\u001b[39mduration\u001b[39;49m\u001b[39m'\u001b[39;49m\n\u001b[1;32m     34\u001b[0m )\n",
      "File \u001b[0;32m~/projects/online-ml/beaver/sdk/beaver_sdk/__init__.py:255\u001b[0m, in \u001b[0;36mFeatureSetFactory.create\u001b[0;34m(self, name, query, key_field, ts_field, value_field)\u001b[0m\n\u001b[1;32m    251\u001b[0m \u001b[39mdef\u001b[39;00m \u001b[39mcreate\u001b[39m(\n\u001b[1;32m    252\u001b[0m     \u001b[39mself\u001b[39m, name: \u001b[39mstr\u001b[39m, query: \u001b[39mstr\u001b[39m, key_field: \u001b[39mstr\u001b[39m, ts_field: \u001b[39mstr\u001b[39m, value_field: \u001b[39mstr\u001b[39m\n\u001b[1;32m    253\u001b[0m ):\n\u001b[1;32m    254\u001b[0m \u001b[39m    \u001b[39m\u001b[39m\"\"\"Create a feature set.\"\"\"\u001b[39;00m\n\u001b[0;32m--> 255\u001b[0m     \u001b[39mself\u001b[39;49m\u001b[39m.\u001b[39;49mpost(\n\u001b[1;32m    256\u001b[0m         \u001b[39m\"\u001b[39;49m\u001b[39m/api/feature-set/\u001b[39;49m\u001b[39m\"\u001b[39;49m,\n\u001b[1;32m    257\u001b[0m         json\u001b[39m=\u001b[39;49m{\n\u001b[1;32m    258\u001b[0m             \u001b[39m\"\u001b[39;49m\u001b[39mname\u001b[39;49m\u001b[39m\"\u001b[39;49m: name,\n\u001b[1;32m    259\u001b[0m             \u001b[39m\"\u001b[39;49m\u001b[39mproject_name\u001b[39;49m\u001b[39m\"\u001b[39;49m: \u001b[39mself\u001b[39;49m\u001b[39m.\u001b[39;49mproject_name,\n\u001b[1;32m    260\u001b[0m             \u001b[39m\"\u001b[39;49m\u001b[39mquery\u001b[39;49m\u001b[39m\"\u001b[39;49m: query,\n\u001b[1;32m    261\u001b[0m             \u001b[39m\"\u001b[39;49m\u001b[39mkey_field\u001b[39;49m\u001b[39m\"\u001b[39;49m: key_field,\n\u001b[1;32m    262\u001b[0m             \u001b[39m\"\u001b[39;49m\u001b[39mts_field\u001b[39;49m\u001b[39m\"\u001b[39;49m: ts_field,\n\u001b[1;32m    263\u001b[0m             \u001b[39m\"\u001b[39;49m\u001b[39mvalue_field\u001b[39;49m\u001b[39m\"\u001b[39;49m: value_field,\n\u001b[1;32m    264\u001b[0m         },\n\u001b[1;32m    265\u001b[0m     )\n",
      "File \u001b[0;32m~/projects/online-ml/beaver/sdk/beaver_sdk/__init__.py:32\u001b[0m, in \u001b[0;36mSDK.post\u001b[0;34m(self, endpoint, **kwargs)\u001b[0m\n\u001b[1;32m     31\u001b[0m \u001b[39mdef\u001b[39;00m \u001b[39mpost\u001b[39m(\u001b[39mself\u001b[39m, endpoint, \u001b[39m*\u001b[39m\u001b[39m*\u001b[39mkwargs):\n\u001b[0;32m---> 32\u001b[0m     \u001b[39mreturn\u001b[39;00m \u001b[39mself\u001b[39;49m\u001b[39m.\u001b[39;49mrequest(\u001b[39m\"\u001b[39;49m\u001b[39mPOST\u001b[39;49m\u001b[39m\"\u001b[39;49m, endpoint, \u001b[39m*\u001b[39;49m\u001b[39m*\u001b[39;49mkwargs)\n",
      "File \u001b[0;32m~/projects/online-ml/beaver/sdk/beaver_sdk/__init__.py:25\u001b[0m, in \u001b[0;36mSDK.request\u001b[0;34m(self, method, endpoint, as_json, session, **kwargs)\u001b[0m\n\u001b[1;32m     21\u001b[0m \u001b[39mdef\u001b[39;00m \u001b[39mrequest\u001b[39m(\u001b[39mself\u001b[39m, method, endpoint, as_json\u001b[39m=\u001b[39m\u001b[39mTrue\u001b[39;00m, session\u001b[39m=\u001b[39m\u001b[39mNone\u001b[39;00m, \u001b[39m*\u001b[39m\u001b[39m*\u001b[39mkwargs):\n\u001b[1;32m     22\u001b[0m     r \u001b[39m=\u001b[39m (session \u001b[39mor\u001b[39;00m \u001b[39mself\u001b[39m\u001b[39m.\u001b[39msession())\u001b[39m.\u001b[39mrequest(\n\u001b[1;32m     23\u001b[0m         method\u001b[39m=\u001b[39mmethod, url\u001b[39m=\u001b[39murllib\u001b[39m.\u001b[39mparse\u001b[39m.\u001b[39murljoin(\u001b[39mself\u001b[39m\u001b[39m.\u001b[39mhost, endpoint), \u001b[39m*\u001b[39m\u001b[39m*\u001b[39mkwargs\n\u001b[1;32m     24\u001b[0m     )\n\u001b[0;32m---> 25\u001b[0m     r\u001b[39m.\u001b[39;49mraise_for_status()\n\u001b[1;32m     26\u001b[0m     \u001b[39mreturn\u001b[39;00m r\u001b[39m.\u001b[39mjson() \u001b[39mif\u001b[39;00m as_json \u001b[39mand\u001b[39;00m r\u001b[39m.\u001b[39mheaders\u001b[39m.\u001b[39mget(\u001b[39m'\u001b[39m\u001b[39mcontent-type\u001b[39m\u001b[39m'\u001b[39m) \u001b[39m==\u001b[39m \u001b[39m'\u001b[39m\u001b[39mapplication/json\u001b[39m\u001b[39m'\u001b[39m \u001b[39melse\u001b[39;00m r\n",
      "File \u001b[0;32m~/Library/Caches/pypoetry/virtualenvs/beaver-dz18NXld-py3.10/lib/python3.10/site-packages/requests/models.py:1021\u001b[0m, in \u001b[0;36mResponse.raise_for_status\u001b[0;34m(self)\u001b[0m\n\u001b[1;32m   1016\u001b[0m     http_error_msg \u001b[39m=\u001b[39m (\n\u001b[1;32m   1017\u001b[0m         \u001b[39mf\u001b[39m\u001b[39m\"\u001b[39m\u001b[39m{\u001b[39;00m\u001b[39mself\u001b[39m\u001b[39m.\u001b[39mstatus_code\u001b[39m}\u001b[39;00m\u001b[39m Server Error: \u001b[39m\u001b[39m{\u001b[39;00mreason\u001b[39m}\u001b[39;00m\u001b[39m for url: \u001b[39m\u001b[39m{\u001b[39;00m\u001b[39mself\u001b[39m\u001b[39m.\u001b[39murl\u001b[39m}\u001b[39;00m\u001b[39m\"\u001b[39m\n\u001b[1;32m   1018\u001b[0m     )\n\u001b[1;32m   1020\u001b[0m \u001b[39mif\u001b[39;00m http_error_msg:\n\u001b[0;32m-> 1021\u001b[0m     \u001b[39mraise\u001b[39;00m HTTPError(http_error_msg, response\u001b[39m=\u001b[39m\u001b[39mself\u001b[39m)\n",
      "\u001b[0;31mHTTPError\u001b[0m: 500 Server Error: Internal Server Error for url: http://127.0.0.1:8000/api/feature-set/"
     ]
    }
   ],
   "source": [
    "query = \"\"\"\n",
    "SELECT \n",
    "    trip_no,\n",
    "    received_at,\n",
    "    ABS(dropoff_lat - pickup_lat) + ABS(dropoff_lon - pickup_lon) AS manhattan_distance,\n",
    "    SQRT(POWER(dropoff_lat - pickup_lat, 2) + POWER(dropoff_lon - pickup_lon, 2)) AS euclidean_distance\n",
    "    --EXTRACT(HOUR FROM pickup_datetime) AS pickup_hour,\n",
    "    --EXTRACT(DOW FROM pickup_datetime) = 1 AS is_monday,\n",
    "    --EXTRACT(DOW FROM pickup_datetime) = 2 AS is_tuesday,\n",
    "    --EXTRACT(DOW FROM pickup_datetime) = 3 AS is_wednesday,\n",
    "    --EXTRACT(DOW FROM pickup_datetime) = 4 AS is_thursday,\n",
    "    --EXTRACT(DOW FROM pickup_datetime) = 5 AS is_friday,\n",
    "    --EXTRACT(DOW FROM pickup_datetime) = 6 AS is_saturday,\n",
    "    --EXTRACT(DOW FROM pickup_datetime) = 7 AS is_sunday\n",
    "FROM (\n",
    "    SELECT\n",
    "        trip_no,\n",
    "        received_at,\n",
    "        CAST(trip ->> 'dropoff_latitude' AS FLOAT) AS dropoff_lat,\n",
    "        CAST(trip ->> 'pickup_latitude' AS FLOAT) AS pickup_lat,\n",
    "        CAST(trip ->> 'dropoff_longitude' AS FLOAT) AS dropoff_lon,\n",
    "        CAST(trip ->> 'pickup_longitude' AS FLOAT) AS pickup_lon,\n",
    "        CAST(trip ->> 'pickup_datetime' AS TIMESTAMP) AS pickup_datetime\n",
    "    FROM taxi_departures\n",
    ")\n",
    "\"\"\"\n",
    "\n",
    "project.feature_set.create(\n",
    "    name='basic_features',\n",
    "    query=query,\n",
    "    key_field='trip_no',\n",
    "    ts_field='received_at',\n",
    "    value_field='duration'\n",
    ")"
   ]
  },
  {
   "attachments": {},
   "cell_type": "markdown",
   "metadata": {},
   "source": [
    "---"
   ]
  },
  {
   "cell_type": "code",
   "execution_count": 35,
   "metadata": {},
   "outputs": [
    {
     "name": "stdout",
     "output_type": "stream",
     "text": [
      "(datetime.datetime(2023, 5, 14, 9, 53, 18, 287000), '0000011', '0000011', datetime.datetime(2023, 5, 14, 9, 53, 18, 287000), 0.06895065307617898, 0.04921851217808245, 0.0, False, False, False, False, True, False, False, None)\n",
      "(datetime.datetime(2023, 5, 14, 9, 53, 22, 291000), '0000012', '0000012', datetime.datetime(2023, 5, 14, 9, 53, 22, 291000), 0.02007293701173296, 0.01830626278670576, 0.0, False, False, False, False, True, False, False, None)\n",
      "(datetime.datetime(2023, 5, 14, 9, 50, 4, 106000), '0000000', '0000000', datetime.datetime(2023, 5, 14, 9, 50, 4, 106000), 0.1529388427734233, 0.11809698133739274, 0.0, False, False, False, False, True, False, False, None)\n",
      "(datetime.datetime(2023, 5, 14, 9, 54, 29, 298000), '0000013', '0000013', datetime.datetime(2023, 5, 14, 9, 54, 29, 298000), 0.029331207275376414, 0.02452015504809339, 0.0, False, False, False, False, True, False, False, None)\n",
      "(datetime.datetime(2023, 5, 14, 9, 54, 44, 300000), '0000014', '0000014', datetime.datetime(2023, 5, 14, 9, 54, 44, 300000), 0.00943756103517046, 0.008437327371042871, 0.0, False, False, False, False, True, False, False, None)\n",
      "(datetime.datetime(2023, 5, 14, 9, 54, 54, 306000), '0000015', '0000015', datetime.datetime(2023, 5, 14, 9, 54, 54, 306000), 0.016590118408188914, 0.011760177129959687, 0.0, False, False, False, False, True, False, False, None)\n",
      "(datetime.datetime(2023, 5, 14, 9, 54, 55, 309000), '0000016', '0000016', datetime.datetime(2023, 5, 14, 9, 54, 55, 309000), 0.12393951416014914, 0.09572333401065973, 0.0, False, False, False, False, True, False, False, None)\n",
      "(datetime.datetime(2023, 5, 14, 9, 50, 40, 110000), '0000001', '0000001', datetime.datetime(2023, 5, 14, 9, 50, 40, 110000), 0.05672073364258523, 0.04015065207877864, 0.0, False, False, False, False, True, False, False, None)\n",
      "(datetime.datetime(2023, 5, 14, 9, 50, 48, 117000), '0000002', '0000002', datetime.datetime(2023, 5, 14, 9, 50, 48, 117000), 0.03192901611330967, 0.022725855898082233, 0.0, False, False, False, False, True, False, False, None)\n",
      "(datetime.datetime(2023, 5, 14, 9, 55, 5, 313000), '0000017', '0000017', datetime.datetime(2023, 5, 14, 9, 55, 5, 313000), 0.08303070068357243, 0.06557772253605948, 0.0, False, False, False, False, True, False, False, None)\n",
      "(datetime.datetime(2023, 5, 14, 9, 51, 1, 123000), '0000003', '0000003', datetime.datetime(2023, 5, 14, 9, 51, 1, 123000), 0.010040283203089473, 0.009102657440503228, 0.0, False, False, False, False, True, False, False, None)\n",
      "(datetime.datetime(2023, 5, 14, 9, 55, 22, 317000), '0000018', '0000018', datetime.datetime(2023, 5, 14, 9, 55, 22, 317000), 0.06041336059571023, 0.0429873739393934, 0.0, False, False, False, False, True, False, False, None)\n",
      "(datetime.datetime(2023, 5, 14, 9, 51, 7, 130000), '0000004', '0000004', datetime.datetime(2023, 5, 14, 9, 51, 7, 130000), 0.03606033325196023, 0.025556696645110025, 0.0, False, False, False, False, True, False, False, None)\n",
      "(datetime.datetime(2023, 5, 14, 9, 55, 26, 319000), '0000019', '0000019', datetime.datetime(2023, 5, 14, 9, 55, 26, 319000), 0.016185760498061086, 0.01144540715606662, 0.0, False, False, False, False, True, False, False, None)\n",
      "(datetime.datetime(2023, 5, 14, 9, 51, 20, 134000), '0000005', '0000005', datetime.datetime(2023, 5, 14, 9, 51, 20, 134000), 0.12237930297850141, 0.08837645789766602, 0.0, False, False, False, False, True, False, False, None)\n",
      "(datetime.datetime(2023, 5, 14, 9, 51, 24, 140000), '0000006', '0000006', datetime.datetime(2023, 5, 14, 9, 51, 24, 140000), 0.0038566589355539804, 0.0027880531223984303, 0.0, False, False, False, False, True, False, False, None)\n",
      "(datetime.datetime(2023, 5, 14, 9, 51, 34, 146000), '0000007', '0000007', datetime.datetime(2023, 5, 14, 9, 51, 34, 146000), 0.10310745239257812, 0.07497206757385093, 0.0, False, False, False, False, True, False, False, None)\n",
      "(datetime.datetime(2023, 5, 14, 9, 51, 53, 152000), '0000008', '0000008', datetime.datetime(2023, 5, 14, 9, 51, 53, 152000), 0.10385513305664062, 0.08088509365786191, 0.0, False, False, False, False, True, False, False, None)\n",
      "(datetime.datetime(2023, 5, 14, 9, 52, 32, 161000), '0000009', '0000009', datetime.datetime(2023, 5, 14, 9, 52, 32, 161000), 0.01464080810546875, 0.011544574833169587, 0.0, False, False, False, False, True, False, False, None)\n",
      "(datetime.datetime(2023, 5, 14, 9, 52, 49, 170000), '0000010', '0000010', datetime.datetime(2023, 5, 14, 9, 52, 49, 170000), 0.01227188110352273, 0.008725576957111176, 0.0, False, False, False, False, True, False, False, None)\n"
     ]
    }
   ],
   "source": [
    "import psycopg2\n",
    "import sys\n",
    "\n",
    "dsn = \"user=materialize password=materialize host=localhost port=6875 dbname=materialize sslmode=disable\"\n",
    "conn = psycopg2.connect(dsn)\n",
    "conn.autocommit = True\n",
    "\n",
    "experiment_name = 'taxi_trips'\n",
    "dataset_name = f\"{experiment_name}_dataset\"\n",
    "\n",
    "feature_set_ts_field = 'received_at'\n",
    "feature_set_key_field = 'trip_no'\n",
    "# feature_set_value_field\n",
    "feature_set_name = 'basic_features'\n",
    "# predictions_topic_name\n",
    "# experiment_name \n",
    "\n",
    "with conn.cursor() as cur:\n",
    "    cur.execute(f\"\"\"\n",
    "    CREATE OR REPLACE VIEW {dataset_name} AS (\n",
    "        SELECT\n",
    "            features.{feature_set_ts_field} AS ts,\n",
    "            features.{feature_set_key_field} AS key,\n",
    "            *,\n",
    "            NULL as target\n",
    "        FROM {feature_set_name} features\n",
    "    )\n",
    "\n",
    "    \"\"\")\n",
    "\n",
    "with conn.cursor() as cur:\n",
    "    cur.execute(f\"\"\"\n",
    "    SELECT * FROM {dataset_name}\n",
    "    LIMIT 20\n",
    "    \"\"\")\n",
    "    for row in cur:\n",
    "        print(row)"
   ]
  },
  {
   "attachments": {},
   "cell_type": "markdown",
   "metadata": {},
   "source": [
    "---"
   ]
  },
  {
   "attachments": {},
   "cell_type": "markdown",
   "metadata": {},
   "source": [
    "Predictions view"
   ]
  },
  {
   "cell_type": "code",
   "execution_count": null,
   "metadata": {},
   "outputs": [],
   "source": [
    "# The following is for idempotency\n",
    "project.stream_processor.execute('DROP VIEW IF EXISTS taxi_trips_target')\n",
    "project.stream_processor.execute('DROP VIEW IF EXISTS taxi_arrivals')\n",
    "project.stream_processor.execute('DROP SOURCE IF EXISTS taxi_arrivals_src')\n",
    "\n",
    "project.stream_processor.execute(\"\"\"\n",
    "CREATE MATERIALIZED SOURCE predictions_src\n",
    "FROM KAFKA BROKER 'redpanda:29092' TOPIC 'taxi-arrivals'\n",
    "    KEY FORMAT TEXT\n",
    "    VALUE FORMAT BYTES\n",
    "    INCLUDE KEY AS trip_no, TIMESTAMP AS received_at;\n",
    "\"\"\")\n",
    "\n",
    "project.stream_processor.execute(\"\"\"\n",
    "CREATE VIEW taxi_arrivals AS (\n",
    "    SELECT\n",
    "        trip_no,\n",
    "        received_at,\n",
    "        CAST(CONVERT_FROM(data, 'utf8') AS JSONB) AS arrival\n",
    "    FROM taxi_arrivals_src\n",
    ")\n",
    "\"\"\")"
   ]
  },
  {
   "attachments": {},
   "cell_type": "markdown",
   "metadata": {},
   "source": [
    "## Create a first experiment"
   ]
  },
  {
   "attachments": {},
   "cell_type": "markdown",
   "metadata": {},
   "source": [
    "An experiment is essentially a model and a feature set. We'll start with a plain and simple linear regression, applied to the basic features defined previously."
   ]
  },
  {
   "cell_type": "code",
   "execution_count": 88,
   "metadata": {},
   "outputs": [
    {
     "data": {
      "text/plain": [
       "<beaver_sdk.Experiment at 0x16b4d68c0>"
      ]
     },
     "execution_count": 88,
     "metadata": {},
     "output_type": "execute_result"
    }
   ],
   "source": [
    "from river import linear_model, preprocessing\n",
    "\n",
    "model = preprocessing.StandardScaler() | linear_model.LinearRegression()\n",
    "\n",
    "project.experiment.create(\n",
    "    name='linear_regression',\n",
    "    feature_set_name='basic_features',\n",
    "    model=model\n",
    ")"
   ]
  },
  {
   "cell_type": "code",
   "execution_count": null,
   "metadata": {},
   "outputs": [],
   "source": [
    "project.experiment('linear_regression')"
   ]
  },
  {
   "cell_type": "code",
   "execution_count": 89,
   "metadata": {},
   "outputs": [
    {
     "ename": "HTTPError",
     "evalue": "500 Server Error: Internal Server Error for url: http://127.0.0.1:8000/api/project/taxi_trips",
     "output_type": "error",
     "traceback": [
      "\u001b[0;31m---------------------------------------------------------------------------\u001b[0m",
      "\u001b[0;31mHTTPError\u001b[0m                                 Traceback (most recent call last)",
      "Cell \u001b[0;32mIn[89], line 1\u001b[0m\n\u001b[0;32m----> 1\u001b[0m project\u001b[39m.\u001b[39;49mstate()\n",
      "File \u001b[0;32m~/projects/online-ml/beaver/sdk/beaver_sdk/__init__.py:194\u001b[0m, in \u001b[0;36mProject.state\u001b[0;34m(self)\u001b[0m\n\u001b[1;32m    193\u001b[0m \u001b[39mdef\u001b[39;00m \u001b[39mstate\u001b[39m(\u001b[39mself\u001b[39m):\n\u001b[0;32m--> 194\u001b[0m     \u001b[39mreturn\u001b[39;00m \u001b[39mself\u001b[39;49m\u001b[39m.\u001b[39;49mget(\u001b[39mf\u001b[39;49m\u001b[39m\"\u001b[39;49m\u001b[39m/api/project/\u001b[39;49m\u001b[39m{\u001b[39;49;00m\u001b[39mself\u001b[39;49m\u001b[39m.\u001b[39;49mname\u001b[39m}\u001b[39;49;00m\u001b[39m\"\u001b[39;49m)\n",
      "File \u001b[0;32m~/projects/online-ml/beaver/sdk/beaver_sdk/__init__.py:29\u001b[0m, in \u001b[0;36mSDK.get\u001b[0;34m(self, endpoint, **kwargs)\u001b[0m\n\u001b[1;32m     28\u001b[0m \u001b[39mdef\u001b[39;00m \u001b[39mget\u001b[39m(\u001b[39mself\u001b[39m, endpoint, \u001b[39m*\u001b[39m\u001b[39m*\u001b[39mkwargs):\n\u001b[0;32m---> 29\u001b[0m     \u001b[39mreturn\u001b[39;00m \u001b[39mself\u001b[39;49m\u001b[39m.\u001b[39;49mrequest(\u001b[39m\"\u001b[39;49m\u001b[39mGET\u001b[39;49m\u001b[39m\"\u001b[39;49m, endpoint, \u001b[39m*\u001b[39;49m\u001b[39m*\u001b[39;49mkwargs)\n",
      "File \u001b[0;32m~/projects/online-ml/beaver/sdk/beaver_sdk/__init__.py:25\u001b[0m, in \u001b[0;36mSDK.request\u001b[0;34m(self, method, endpoint, as_json, session, **kwargs)\u001b[0m\n\u001b[1;32m     21\u001b[0m \u001b[39mdef\u001b[39;00m \u001b[39mrequest\u001b[39m(\u001b[39mself\u001b[39m, method, endpoint, as_json\u001b[39m=\u001b[39m\u001b[39mTrue\u001b[39;00m, session\u001b[39m=\u001b[39m\u001b[39mNone\u001b[39;00m, \u001b[39m*\u001b[39m\u001b[39m*\u001b[39mkwargs):\n\u001b[1;32m     22\u001b[0m     r \u001b[39m=\u001b[39m (session \u001b[39mor\u001b[39;00m \u001b[39mself\u001b[39m\u001b[39m.\u001b[39msession())\u001b[39m.\u001b[39mrequest(\n\u001b[1;32m     23\u001b[0m         method\u001b[39m=\u001b[39mmethod, url\u001b[39m=\u001b[39murllib\u001b[39m.\u001b[39mparse\u001b[39m.\u001b[39murljoin(\u001b[39mself\u001b[39m\u001b[39m.\u001b[39mhost, endpoint), \u001b[39m*\u001b[39m\u001b[39m*\u001b[39mkwargs\n\u001b[1;32m     24\u001b[0m     )\n\u001b[0;32m---> 25\u001b[0m     r\u001b[39m.\u001b[39;49mraise_for_status()\n\u001b[1;32m     26\u001b[0m     \u001b[39mreturn\u001b[39;00m r\u001b[39m.\u001b[39mjson() \u001b[39mif\u001b[39;00m as_json \u001b[39mand\u001b[39;00m r\u001b[39m.\u001b[39mheaders\u001b[39m.\u001b[39mget(\u001b[39m'\u001b[39m\u001b[39mcontent-type\u001b[39m\u001b[39m'\u001b[39m) \u001b[39m==\u001b[39m \u001b[39m'\u001b[39m\u001b[39mapplication/json\u001b[39m\u001b[39m'\u001b[39m \u001b[39melse\u001b[39;00m r\n",
      "File \u001b[0;32m~/Library/Caches/pypoetry/virtualenvs/beaver-dz18NXld-py3.10/lib/python3.10/site-packages/requests/models.py:1021\u001b[0m, in \u001b[0;36mResponse.raise_for_status\u001b[0;34m(self)\u001b[0m\n\u001b[1;32m   1016\u001b[0m     http_error_msg \u001b[39m=\u001b[39m (\n\u001b[1;32m   1017\u001b[0m         \u001b[39mf\u001b[39m\u001b[39m\"\u001b[39m\u001b[39m{\u001b[39;00m\u001b[39mself\u001b[39m\u001b[39m.\u001b[39mstatus_code\u001b[39m}\u001b[39;00m\u001b[39m Server Error: \u001b[39m\u001b[39m{\u001b[39;00mreason\u001b[39m}\u001b[39;00m\u001b[39m for url: \u001b[39m\u001b[39m{\u001b[39;00m\u001b[39mself\u001b[39m\u001b[39m.\u001b[39murl\u001b[39m}\u001b[39;00m\u001b[39m\"\u001b[39m\n\u001b[1;32m   1018\u001b[0m     )\n\u001b[1;32m   1020\u001b[0m \u001b[39mif\u001b[39;00m http_error_msg:\n\u001b[0;32m-> 1021\u001b[0m     \u001b[39mraise\u001b[39;00m HTTPError(http_error_msg, response\u001b[39m=\u001b[39m\u001b[39mself\u001b[39m)\n",
      "\u001b[0;31mHTTPError\u001b[0m: 500 Server Error: Internal Server Error for url: http://127.0.0.1:8000/api/project/taxi_trips"
     ]
    }
   ],
   "source": [
    "project.state()"
   ]
  },
  {
   "attachments": {},
   "cell_type": "markdown",
   "metadata": {},
   "source": [
    "In this example, the models are hosted in Beaver, which is why we encode the model and send it in the payload."
   ]
  },
  {
   "attachments": {},
   "cell_type": "markdown",
   "metadata": {},
   "source": [
    "## Delete everything\n",
    "\n",
    "Order matters (because of dependencies)."
   ]
  },
  {
   "cell_type": "code",
   "execution_count": 8,
   "metadata": {},
   "outputs": [
    {
     "data": {
      "text/plain": [
       "<Response [204]>"
      ]
     },
     "execution_count": 8,
     "metadata": {},
     "output_type": "execute_result"
    }
   ],
   "source": [
    "project = sdk.project('taxi_trips')\n",
    "project.experiment('linear_regression').delete()\n",
    "project.feature_set('basic_features').delete()\n",
    "project.target.delete()\n",
    "project.delete()\n",
    "sdk.message_bus('rp-mb').delete()\n",
    "sdk.stream_processor('mz-sp').delete()\n",
    "sdk.job_runner('rq-jr').delete()"
   ]
  }
 ],
 "metadata": {
  "kernelspec": {
   "display_name": "beaver-dz18NXld-py3.10",
   "language": "python",
   "name": "python3"
  },
  "language_info": {
   "codemirror_mode": {
    "name": "ipython",
    "version": 3
   },
   "file_extension": ".py",
   "mimetype": "text/x-python",
   "name": "python",
   "nbconvert_exporter": "python",
   "pygments_lexer": "ipython3",
   "version": "3.10.8"
  }
 },
 "nbformat": 4,
 "nbformat_minor": 2
}
